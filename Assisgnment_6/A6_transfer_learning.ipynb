{
  "nbformat": 4,
  "nbformat_minor": 0,
  "metadata": {
    "kernelspec": {
      "display_name": "Python 3",
      "language": "python",
      "name": "python3"
    },
    "language_info": {
      "codemirror_mode": {
        "name": "ipython",
        "version": 3
      },
      "file_extension": ".py",
      "mimetype": "text/x-python",
      "name": "python",
      "nbconvert_exporter": "python",
      "pygments_lexer": "ipython3",
      "version": "3.8.3"
    },
    "colab": {
      "name": "A6-transfer-learning.ipynb",
      "provenance": [],
      "collapsed_sections": [],
      "include_colab_link": true
    },
    "widgets": {
      "application/vnd.jupyter.widget-state+json": {
        "543d6fc5a913472ebc267ecd796e134e": {
          "model_module": "@jupyter-widgets/controls",
          "model_name": "HBoxModel",
          "model_module_version": "1.5.0",
          "state": {
            "_view_name": "HBoxView",
            "_dom_classes": [],
            "_model_name": "HBoxModel",
            "_view_module": "@jupyter-widgets/controls",
            "_model_module_version": "1.5.0",
            "_view_count": null,
            "_view_module_version": "1.5.0",
            "box_style": "",
            "layout": "IPY_MODEL_66060f1fd3f74178a47ad413e1290ffd",
            "_model_module": "@jupyter-widgets/controls",
            "children": [
              "IPY_MODEL_662a1b72df13429b9ad2c539e1ec4e5a",
              "IPY_MODEL_eab9b5d98adf4575ae254c51d07e5dd6"
            ]
          }
        },
        "66060f1fd3f74178a47ad413e1290ffd": {
          "model_module": "@jupyter-widgets/base",
          "model_name": "LayoutModel",
          "model_module_version": "1.2.0",
          "state": {
            "_view_name": "LayoutView",
            "grid_template_rows": null,
            "right": null,
            "justify_content": null,
            "_view_module": "@jupyter-widgets/base",
            "overflow": null,
            "_model_module_version": "1.2.0",
            "_view_count": null,
            "flex_flow": null,
            "width": null,
            "min_width": null,
            "border": null,
            "align_items": null,
            "bottom": null,
            "_model_module": "@jupyter-widgets/base",
            "top": null,
            "grid_column": null,
            "overflow_y": null,
            "overflow_x": null,
            "grid_auto_flow": null,
            "grid_area": null,
            "grid_template_columns": null,
            "flex": null,
            "_model_name": "LayoutModel",
            "justify_items": null,
            "grid_row": null,
            "max_height": null,
            "align_content": null,
            "visibility": null,
            "align_self": null,
            "height": null,
            "min_height": null,
            "padding": null,
            "grid_auto_rows": null,
            "grid_gap": null,
            "max_width": null,
            "order": null,
            "_view_module_version": "1.2.0",
            "grid_template_areas": null,
            "object_position": null,
            "object_fit": null,
            "grid_auto_columns": null,
            "margin": null,
            "display": null,
            "left": null
          }
        },
        "662a1b72df13429b9ad2c539e1ec4e5a": {
          "model_module": "@jupyter-widgets/controls",
          "model_name": "FloatProgressModel",
          "model_module_version": "1.5.0",
          "state": {
            "_view_name": "ProgressView",
            "style": "IPY_MODEL_212b70a405d648e3bd70ee5bca26fadc",
            "_dom_classes": [],
            "description": "100%",
            "_model_name": "FloatProgressModel",
            "bar_style": "success",
            "max": 200,
            "_view_module": "@jupyter-widgets/controls",
            "_model_module_version": "1.5.0",
            "value": 200,
            "_view_count": null,
            "_view_module_version": "1.5.0",
            "orientation": "horizontal",
            "min": 0,
            "description_tooltip": null,
            "_model_module": "@jupyter-widgets/controls",
            "layout": "IPY_MODEL_3420a8872cfd4de490980f28ac8f59e2"
          }
        },
        "eab9b5d98adf4575ae254c51d07e5dd6": {
          "model_module": "@jupyter-widgets/controls",
          "model_name": "HTMLModel",
          "model_module_version": "1.5.0",
          "state": {
            "_view_name": "HTMLView",
            "style": "IPY_MODEL_f4bc81c684934109aa403252c5307554",
            "_dom_classes": [],
            "description": "",
            "_model_name": "HTMLModel",
            "placeholder": "​",
            "_view_module": "@jupyter-widgets/controls",
            "_model_module_version": "1.5.0",
            "value": " 200/200 [02:23&lt;00:00,  1.39it/s]",
            "_view_count": null,
            "_view_module_version": "1.5.0",
            "description_tooltip": null,
            "_model_module": "@jupyter-widgets/controls",
            "layout": "IPY_MODEL_67c3f86b237d4366bc6e347a20f612e6"
          }
        },
        "212b70a405d648e3bd70ee5bca26fadc": {
          "model_module": "@jupyter-widgets/controls",
          "model_name": "ProgressStyleModel",
          "model_module_version": "1.5.0",
          "state": {
            "_view_name": "StyleView",
            "_model_name": "ProgressStyleModel",
            "description_width": "initial",
            "_view_module": "@jupyter-widgets/base",
            "_model_module_version": "1.5.0",
            "_view_count": null,
            "_view_module_version": "1.2.0",
            "bar_color": null,
            "_model_module": "@jupyter-widgets/controls"
          }
        },
        "3420a8872cfd4de490980f28ac8f59e2": {
          "model_module": "@jupyter-widgets/base",
          "model_name": "LayoutModel",
          "model_module_version": "1.2.0",
          "state": {
            "_view_name": "LayoutView",
            "grid_template_rows": null,
            "right": null,
            "justify_content": null,
            "_view_module": "@jupyter-widgets/base",
            "overflow": null,
            "_model_module_version": "1.2.0",
            "_view_count": null,
            "flex_flow": null,
            "width": null,
            "min_width": null,
            "border": null,
            "align_items": null,
            "bottom": null,
            "_model_module": "@jupyter-widgets/base",
            "top": null,
            "grid_column": null,
            "overflow_y": null,
            "overflow_x": null,
            "grid_auto_flow": null,
            "grid_area": null,
            "grid_template_columns": null,
            "flex": null,
            "_model_name": "LayoutModel",
            "justify_items": null,
            "grid_row": null,
            "max_height": null,
            "align_content": null,
            "visibility": null,
            "align_self": null,
            "height": null,
            "min_height": null,
            "padding": null,
            "grid_auto_rows": null,
            "grid_gap": null,
            "max_width": null,
            "order": null,
            "_view_module_version": "1.2.0",
            "grid_template_areas": null,
            "object_position": null,
            "object_fit": null,
            "grid_auto_columns": null,
            "margin": null,
            "display": null,
            "left": null
          }
        },
        "f4bc81c684934109aa403252c5307554": {
          "model_module": "@jupyter-widgets/controls",
          "model_name": "DescriptionStyleModel",
          "model_module_version": "1.5.0",
          "state": {
            "_view_name": "StyleView",
            "_model_name": "DescriptionStyleModel",
            "description_width": "",
            "_view_module": "@jupyter-widgets/base",
            "_model_module_version": "1.5.0",
            "_view_count": null,
            "_view_module_version": "1.2.0",
            "_model_module": "@jupyter-widgets/controls"
          }
        },
        "67c3f86b237d4366bc6e347a20f612e6": {
          "model_module": "@jupyter-widgets/base",
          "model_name": "LayoutModel",
          "model_module_version": "1.2.0",
          "state": {
            "_view_name": "LayoutView",
            "grid_template_rows": null,
            "right": null,
            "justify_content": null,
            "_view_module": "@jupyter-widgets/base",
            "overflow": null,
            "_model_module_version": "1.2.0",
            "_view_count": null,
            "flex_flow": null,
            "width": null,
            "min_width": null,
            "border": null,
            "align_items": null,
            "bottom": null,
            "_model_module": "@jupyter-widgets/base",
            "top": null,
            "grid_column": null,
            "overflow_y": null,
            "overflow_x": null,
            "grid_auto_flow": null,
            "grid_area": null,
            "grid_template_columns": null,
            "flex": null,
            "_model_name": "LayoutModel",
            "justify_items": null,
            "grid_row": null,
            "max_height": null,
            "align_content": null,
            "visibility": null,
            "align_self": null,
            "height": null,
            "min_height": null,
            "padding": null,
            "grid_auto_rows": null,
            "grid_gap": null,
            "max_width": null,
            "order": null,
            "_view_module_version": "1.2.0",
            "grid_template_areas": null,
            "object_position": null,
            "object_fit": null,
            "grid_auto_columns": null,
            "margin": null,
            "display": null,
            "left": null
          }
        },
        "e01343f7eaff485cb96970e428895979": {
          "model_module": "@jupyter-widgets/controls",
          "model_name": "HBoxModel",
          "model_module_version": "1.5.0",
          "state": {
            "_view_name": "HBoxView",
            "_dom_classes": [],
            "_model_name": "HBoxModel",
            "_view_module": "@jupyter-widgets/controls",
            "_model_module_version": "1.5.0",
            "_view_count": null,
            "_view_module_version": "1.5.0",
            "box_style": "",
            "layout": "IPY_MODEL_d9310c41784240ac9398e25969ac70a1",
            "_model_module": "@jupyter-widgets/controls",
            "children": [
              "IPY_MODEL_cd2e0bd7dac24bcf85a7ff034ff7e9e1",
              "IPY_MODEL_7fd18f38ec834f66bb33cb448685f02c"
            ]
          }
        },
        "d9310c41784240ac9398e25969ac70a1": {
          "model_module": "@jupyter-widgets/base",
          "model_name": "LayoutModel",
          "model_module_version": "1.2.0",
          "state": {
            "_view_name": "LayoutView",
            "grid_template_rows": null,
            "right": null,
            "justify_content": null,
            "_view_module": "@jupyter-widgets/base",
            "overflow": null,
            "_model_module_version": "1.2.0",
            "_view_count": null,
            "flex_flow": null,
            "width": null,
            "min_width": null,
            "border": null,
            "align_items": null,
            "bottom": null,
            "_model_module": "@jupyter-widgets/base",
            "top": null,
            "grid_column": null,
            "overflow_y": null,
            "overflow_x": null,
            "grid_auto_flow": null,
            "grid_area": null,
            "grid_template_columns": null,
            "flex": null,
            "_model_name": "LayoutModel",
            "justify_items": null,
            "grid_row": null,
            "max_height": null,
            "align_content": null,
            "visibility": null,
            "align_self": null,
            "height": null,
            "min_height": null,
            "padding": null,
            "grid_auto_rows": null,
            "grid_gap": null,
            "max_width": null,
            "order": null,
            "_view_module_version": "1.2.0",
            "grid_template_areas": null,
            "object_position": null,
            "object_fit": null,
            "grid_auto_columns": null,
            "margin": null,
            "display": null,
            "left": null
          }
        },
        "cd2e0bd7dac24bcf85a7ff034ff7e9e1": {
          "model_module": "@jupyter-widgets/controls",
          "model_name": "FloatProgressModel",
          "model_module_version": "1.5.0",
          "state": {
            "_view_name": "ProgressView",
            "style": "IPY_MODEL_274a63ec618a438fb6604a6c7781e9d5",
            "_dom_classes": [],
            "description": "100%",
            "_model_name": "FloatProgressModel",
            "bar_style": "success",
            "max": 200,
            "_view_module": "@jupyter-widgets/controls",
            "_model_module_version": "1.5.0",
            "value": 200,
            "_view_count": null,
            "_view_module_version": "1.5.0",
            "orientation": "horizontal",
            "min": 0,
            "description_tooltip": null,
            "_model_module": "@jupyter-widgets/controls",
            "layout": "IPY_MODEL_668b96f779734dba82c93066ee8d125b"
          }
        },
        "7fd18f38ec834f66bb33cb448685f02c": {
          "model_module": "@jupyter-widgets/controls",
          "model_name": "HTMLModel",
          "model_module_version": "1.5.0",
          "state": {
            "_view_name": "HTMLView",
            "style": "IPY_MODEL_a1d6e65e8ea84e35a9a6b27743717f64",
            "_dom_classes": [],
            "description": "",
            "_model_name": "HTMLModel",
            "placeholder": "​",
            "_view_module": "@jupyter-widgets/controls",
            "_model_module_version": "1.5.0",
            "value": " 200/200 [02:29&lt;00:00,  1.34it/s]",
            "_view_count": null,
            "_view_module_version": "1.5.0",
            "description_tooltip": null,
            "_model_module": "@jupyter-widgets/controls",
            "layout": "IPY_MODEL_f3d7d01329d74374948f88e76411dfa6"
          }
        },
        "274a63ec618a438fb6604a6c7781e9d5": {
          "model_module": "@jupyter-widgets/controls",
          "model_name": "ProgressStyleModel",
          "model_module_version": "1.5.0",
          "state": {
            "_view_name": "StyleView",
            "_model_name": "ProgressStyleModel",
            "description_width": "initial",
            "_view_module": "@jupyter-widgets/base",
            "_model_module_version": "1.5.0",
            "_view_count": null,
            "_view_module_version": "1.2.0",
            "bar_color": null,
            "_model_module": "@jupyter-widgets/controls"
          }
        },
        "668b96f779734dba82c93066ee8d125b": {
          "model_module": "@jupyter-widgets/base",
          "model_name": "LayoutModel",
          "model_module_version": "1.2.0",
          "state": {
            "_view_name": "LayoutView",
            "grid_template_rows": null,
            "right": null,
            "justify_content": null,
            "_view_module": "@jupyter-widgets/base",
            "overflow": null,
            "_model_module_version": "1.2.0",
            "_view_count": null,
            "flex_flow": null,
            "width": null,
            "min_width": null,
            "border": null,
            "align_items": null,
            "bottom": null,
            "_model_module": "@jupyter-widgets/base",
            "top": null,
            "grid_column": null,
            "overflow_y": null,
            "overflow_x": null,
            "grid_auto_flow": null,
            "grid_area": null,
            "grid_template_columns": null,
            "flex": null,
            "_model_name": "LayoutModel",
            "justify_items": null,
            "grid_row": null,
            "max_height": null,
            "align_content": null,
            "visibility": null,
            "align_self": null,
            "height": null,
            "min_height": null,
            "padding": null,
            "grid_auto_rows": null,
            "grid_gap": null,
            "max_width": null,
            "order": null,
            "_view_module_version": "1.2.0",
            "grid_template_areas": null,
            "object_position": null,
            "object_fit": null,
            "grid_auto_columns": null,
            "margin": null,
            "display": null,
            "left": null
          }
        },
        "a1d6e65e8ea84e35a9a6b27743717f64": {
          "model_module": "@jupyter-widgets/controls",
          "model_name": "DescriptionStyleModel",
          "model_module_version": "1.5.0",
          "state": {
            "_view_name": "StyleView",
            "_model_name": "DescriptionStyleModel",
            "description_width": "",
            "_view_module": "@jupyter-widgets/base",
            "_model_module_version": "1.5.0",
            "_view_count": null,
            "_view_module_version": "1.2.0",
            "_model_module": "@jupyter-widgets/controls"
          }
        },
        "f3d7d01329d74374948f88e76411dfa6": {
          "model_module": "@jupyter-widgets/base",
          "model_name": "LayoutModel",
          "model_module_version": "1.2.0",
          "state": {
            "_view_name": "LayoutView",
            "grid_template_rows": null,
            "right": null,
            "justify_content": null,
            "_view_module": "@jupyter-widgets/base",
            "overflow": null,
            "_model_module_version": "1.2.0",
            "_view_count": null,
            "flex_flow": null,
            "width": null,
            "min_width": null,
            "border": null,
            "align_items": null,
            "bottom": null,
            "_model_module": "@jupyter-widgets/base",
            "top": null,
            "grid_column": null,
            "overflow_y": null,
            "overflow_x": null,
            "grid_auto_flow": null,
            "grid_area": null,
            "grid_template_columns": null,
            "flex": null,
            "_model_name": "LayoutModel",
            "justify_items": null,
            "grid_row": null,
            "max_height": null,
            "align_content": null,
            "visibility": null,
            "align_self": null,
            "height": null,
            "min_height": null,
            "padding": null,
            "grid_auto_rows": null,
            "grid_gap": null,
            "max_width": null,
            "order": null,
            "_view_module_version": "1.2.0",
            "grid_template_areas": null,
            "object_position": null,
            "object_fit": null,
            "grid_auto_columns": null,
            "margin": null,
            "display": null,
            "left": null
          }
        }
      }
    }
  },
  "cells": [
    {
      "cell_type": "markdown",
      "metadata": {
        "id": "view-in-github",
        "colab_type": "text"
      },
      "source": [
        "<a href=\"https://colab.research.google.com/github/Mostofa-Najmus-Sakib/NLP-works/blob/main/Assisgnment_6/A6_transfer_learning.ipynb\" target=\"_parent\"><img src=\"https://colab.research.google.com/assets/colab-badge.svg\" alt=\"Open In Colab\"/></a>"
      ]
    },
    {
      "cell_type": "markdown",
      "metadata": {
        "id": "kcygtTsMPt2B"
      },
      "source": [
        "In this assignment, you will use a pre-trained convnet to produce features for a classifier that can detect a single object type. This notebook has some code to help you get started. "
      ]
    },
    {
      "cell_type": "code",
      "metadata": {
        "colab": {
          "base_uri": "https://localhost:8080/"
        },
        "id": "-s3YprjqV47e",
        "outputId": "4cd08f31-e5fe-44bc-b6fe-a369ba819670"
      },
      "source": [
        "from google.colab import drive \n",
        "drive.mount('/content/drive')"
      ],
      "execution_count": null,
      "outputs": [
        {
          "output_type": "stream",
          "text": [
            "Mounted at /content/drive\n"
          ],
          "name": "stdout"
        }
      ]
    },
    {
      "cell_type": "code",
      "metadata": {
        "colab": {
          "base_uri": "https://localhost:8080/"
        },
        "id": "S80EHFsrV6UO",
        "outputId": "94d4944c-56e4-44d2-8f05-b2f2c3ce8f4c"
      },
      "source": [
        "cd /content/drive/My\\ Drive/Colab\\ Notebooks/NLP_2021/"
      ],
      "execution_count": null,
      "outputs": [
        {
          "output_type": "stream",
          "text": [
            "/content/drive/My Drive/Colab Notebooks/NLP_2021\n"
          ],
          "name": "stdout"
        }
      ]
    },
    {
      "cell_type": "code",
      "metadata": {
        "id": "_yAGBa_3RAkx"
      },
      "source": [
        "import warnings\n",
        "warnings.simplefilter('ignore')"
      ],
      "execution_count": null,
      "outputs": []
    },
    {
      "cell_type": "code",
      "metadata": {
        "colab": {
          "base_uri": "https://localhost:8080/"
        },
        "id": "Ez-6q0ecPt2I",
        "outputId": "252ec5cf-aa28-4244-911f-5713e3d9560c"
      },
      "source": [
        "!jupyter kernelspec list"
      ],
      "execution_count": null,
      "outputs": [
        {
          "output_type": "stream",
          "text": [
            "Available kernels:\n",
            "  ir         /usr/local/share/jupyter/kernels/ir\n",
            "  python2    /usr/local/share/jupyter/kernels/python2\n",
            "  python3    /usr/local/share/jupyter/kernels/python3\n"
          ],
          "name": "stdout"
        }
      ]
    },
    {
      "cell_type": "code",
      "metadata": {
        "id": "xaSy32dVPt2J"
      },
      "source": [
        "import pandas as pd\n",
        "import cv2\n",
        "import os\n",
        "from os import listdir\n",
        "from os.path import isfile, join\n",
        "import os.path as osp\n",
        "from tqdm import tqdm_notebook as tqdm"
      ],
      "execution_count": null,
      "outputs": []
    },
    {
      "cell_type": "code",
      "metadata": {
        "id": "vVTqf4xfPt2J"
      },
      "source": [
        "import requests\n",
        "from imutils import paths\n",
        "from google_images_download import google_images_download\n",
        "img_folder = 'downloads'"
      ],
      "execution_count": null,
      "outputs": []
    },
    {
      "cell_type": "markdown",
      "metadata": {
        "id": "imPPlXYjPt2K"
      },
      "source": [
        "### Gather positive examples\n",
        "\n",
        "Pick a word. For example, \"red\" or \"santa\" or \"horse\". \n",
        "\n",
        "Now you will need to find \"positive\" image examples of that word. For example, if you chose \"red\" as your word, you will need to find images of red things. You are free to use Google Image search or something similar. File types shouldn't matter, but try to stick with .png and .jpg files.\n",
        "\n",
        "You'll need at least 100 positive example images. Put them in the folder called `pos`. "
      ]
    },
    {
      "cell_type": "markdown",
      "metadata": {
        "id": "LXjUViUd51Dl"
      },
      "source": [
        "***I have downloaded 200 images for colur red using a extionsion of google chrome***"
      ]
    },
    {
      "cell_type": "markdown",
      "metadata": {
        "id": "hxmMcYDtPt2L"
      },
      "source": [
        "### Gather negative examples\n",
        "\n",
        "Now you need to think about negative examples; i.e., things that are *not* examples of your word. You can either just find random images, or look for specific negative examples. For example, if you chose the word \"red\" then it might work best if you find negative examples that are other colors, especially colors close to red. \n",
        "\n",
        "You'll need at least 200 negative example images. Put them in the folder called `neg`. "
      ]
    },
    {
      "cell_type": "markdown",
      "metadata": {
        "id": "NSgTiIx86AQq"
      },
      "source": [
        "***I have downloaded 200 images for colur pink (close to red) using a extionsion of google chrome***"
      ]
    },
    {
      "cell_type": "markdown",
      "metadata": {
        "id": "RD6iFt1OPt2M"
      },
      "source": [
        "## 1.) Run the following cell\n",
        "\n",
        "* This imports needed Keras libraries\n",
        "* Then, it gets the trained VGG19 imagenet model\n",
        "* Then, it prints out the names of all the layers in that model"
      ]
    },
    {
      "cell_type": "code",
      "metadata": {
        "colab": {
          "base_uri": "https://localhost:8080/"
        },
        "id": "sDMAEHFkPt2M",
        "outputId": "0240d17c-6f20-4f94-d70b-968226e76011"
      },
      "source": [
        "import numpy as np\n",
        "from tensorflow.keras.applications import VGG19\n",
        "from tensorflow.keras.applications.vgg19 import preprocess_input\n",
        "from tensorflow.keras.preprocessing import image\n",
        "from tensorflow.keras.models import Model\n",
        "\n",
        "base_model = VGG19(weights='imagenet',include_top=True)\n",
        "xs,ys=224,224\n",
        "\n",
        "for layer in base_model.layers:\n",
        "    print(layer.name)"
      ],
      "execution_count": null,
      "outputs": [
        {
          "output_type": "stream",
          "text": [
            "input_22\n",
            "block1_conv1\n",
            "block1_conv2\n",
            "block1_pool\n",
            "block2_conv1\n",
            "block2_conv2\n",
            "block2_pool\n",
            "block3_conv1\n",
            "block3_conv2\n",
            "block3_conv3\n",
            "block3_conv4\n",
            "block3_pool\n",
            "block4_conv1\n",
            "block4_conv2\n",
            "block4_conv3\n",
            "block4_conv4\n",
            "block4_pool\n",
            "block5_conv1\n",
            "block5_conv2\n",
            "block5_conv3\n",
            "block5_conv4\n",
            "block5_pool\n",
            "flatten\n",
            "fc1\n",
            "fc2\n",
            "predictions\n"
          ],
          "name": "stdout"
        }
      ]
    },
    {
      "cell_type": "markdown",
      "metadata": {
        "id": "hVkp6hQGPt2M"
      },
      "source": [
        "### 2.) Determine your output layer\n",
        "\n",
        "- try `predictions` first"
      ]
    },
    {
      "cell_type": "code",
      "metadata": {
        "id": "cdIS5wH7Pt2N"
      },
      "source": [
        "layer = 'predictions'\n",
        "\n",
        "model = Model(inputs=base_model.input, outputs=base_model.get_layer(layer).output)"
      ],
      "execution_count": null,
      "outputs": []
    },
    {
      "cell_type": "markdown",
      "metadata": {
        "id": "-JyPNy3XPt2N"
      },
      "source": [
        "### Run the following cell\n",
        "\n",
        "- These functions are to help you perform transfer learning"
      ]
    },
    {
      "cell_type": "code",
      "metadata": {
        "id": "FAL_0pvMPt2O"
      },
      "source": [
        "def get_image(img_path, xs,ys):\n",
        "    x = image.load_img(img_path, target_size=(xs, ys))\n",
        "    x = image.img_to_array(x)\n",
        "    x = np.expand_dims(x, axis=0)\n",
        "    return x\n",
        "\n",
        "def get_img_features(model, img):\n",
        "    img = preprocess_input(img)\n",
        "    yhat = model.predict(img)\n",
        "    return yhat\n",
        "\n",
        "def get_image_features(word):\n",
        "    files = [f for f in listdir(word)] # grab all of the images in the folder\n",
        "    image_vectors = []\n",
        "    for f in tqdm(files):\n",
        "        img = get_image(osp.join(word, f), xs, ys) \n",
        "        x_feats = get_img_features(model, img).flatten() # get features for each image\n",
        "        image_vectors.append(x_feats) \n",
        "    return np.array(image_vectors)"
      ],
      "execution_count": null,
      "outputs": []
    },
    {
      "cell_type": "markdown",
      "metadata": {
        "id": "JykZ59dJPt2O"
      },
      "source": [
        "## 3.) Evaluate a classifier for your `word`\n",
        "\n",
        "* Using the positive and negative output from `model`, train a classifier (it can be a linear classifier from scikit-learn, if you'd like, but I would recommend the Keras Dense network we built for the previous assignment). \n",
        "* You'll need to split your data into Train and Test (I would recommend using half of the data for training, half for testing; you may opt for downloading more positive and negative examples)\n",
        "* your classifier can be any scikit classifier, but you can also use a neural network of some kind"
      ]
    },
    {
      "cell_type": "code",
      "metadata": {
        "colab": {
          "base_uri": "https://localhost:8080/",
          "height": 116,
          "referenced_widgets": [
            "543d6fc5a913472ebc267ecd796e134e",
            "66060f1fd3f74178a47ad413e1290ffd",
            "662a1b72df13429b9ad2c539e1ec4e5a",
            "eab9b5d98adf4575ae254c51d07e5dd6",
            "212b70a405d648e3bd70ee5bca26fadc",
            "3420a8872cfd4de490980f28ac8f59e2",
            "f4bc81c684934109aa403252c5307554",
            "67c3f86b237d4366bc6e347a20f612e6",
            "e01343f7eaff485cb96970e428895979",
            "d9310c41784240ac9398e25969ac70a1",
            "cd2e0bd7dac24bcf85a7ff034ff7e9e1",
            "7fd18f38ec834f66bb33cb448685f02c",
            "274a63ec618a438fb6604a6c7781e9d5",
            "668b96f779734dba82c93066ee8d125b",
            "a1d6e65e8ea84e35a9a6b27743717f64",
            "f3d7d01329d74374948f88e76411dfa6"
          ]
        },
        "id": "yiayV2nhPt2P",
        "outputId": "33771487-b412-4ef8-d006-fca8b0b214f4"
      },
      "source": [
        "pos_images = get_image_features('pos_red_3') # get positive image vectors\n",
        "neg_images = get_image_features('neg_pink_3') # get negative image vectors"
      ],
      "execution_count": null,
      "outputs": [
        {
          "output_type": "display_data",
          "data": {
            "application/vnd.jupyter.widget-view+json": {
              "model_id": "543d6fc5a913472ebc267ecd796e134e",
              "version_minor": 0,
              "version_major": 2
            },
            "text/plain": [
              "HBox(children=(FloatProgress(value=0.0, max=200.0), HTML(value='')))"
            ]
          },
          "metadata": {
            "tags": []
          }
        },
        {
          "output_type": "stream",
          "text": [
            "\n"
          ],
          "name": "stdout"
        },
        {
          "output_type": "display_data",
          "data": {
            "application/vnd.jupyter.widget-view+json": {
              "model_id": "e01343f7eaff485cb96970e428895979",
              "version_minor": 0,
              "version_major": 2
            },
            "text/plain": [
              "HBox(children=(FloatProgress(value=0.0, max=200.0), HTML(value='')))"
            ]
          },
          "metadata": {
            "tags": []
          }
        },
        {
          "output_type": "stream",
          "text": [
            "\n"
          ],
          "name": "stdout"
        }
      ]
    },
    {
      "cell_type": "markdown",
      "metadata": {
        "id": "IkGn1GKEPt2P"
      },
      "source": [
        "### Prepare the data. Split to train/test sets"
      ]
    },
    {
      "cell_type": "code",
      "metadata": {
        "id": "94KgF-riPt2Q",
        "colab": {
          "base_uri": "https://localhost:8080/"
        },
        "outputId": "c1f018ca-7284-40a7-d6e2-c805f035a63d"
      },
      "source": [
        "num_test = 50\n",
        "X_train = np.concatenate((pos_images[num_test:], neg_images[num_test:]), axis=0)\n",
        "X_test = np.concatenate((pos_images[:num_test], neg_images[:num_test]))\n",
        "\n",
        "y_train = np.array([1] * (200 - num_test) + [0] * (200 - num_test))\n",
        "y_test = np.array([1] * (num_test) + [0] * (num_test))\n",
        "\n",
        "X_train.shape, y_train.shape, X_test.shape, y_test.shape"
      ],
      "execution_count": null,
      "outputs": [
        {
          "output_type": "execute_result",
          "data": {
            "text/plain": [
              "((300, 1000), (300,), (100, 1000), (100,))"
            ]
          },
          "metadata": {
            "tags": []
          },
          "execution_count": 112
        }
      ]
    },
    {
      "cell_type": "markdown",
      "metadata": {
        "id": "L8EOzoNuPt2Q"
      },
      "source": [
        "### Define model, train"
      ]
    },
    {
      "cell_type": "code",
      "metadata": {
        "id": "i_0lB4emPt2R",
        "colab": {
          "base_uri": "https://localhost:8080/"
        },
        "outputId": "f9bc4b71-c034-4631-d859-0280b8820ee1"
      },
      "source": [
        "from sklearn.linear_model import LogisticRegression\n",
        "\n",
        "clfr = LogisticRegression()\n",
        "clfr.fit(X_train, y_train)"
      ],
      "execution_count": null,
      "outputs": [
        {
          "output_type": "execute_result",
          "data": {
            "text/plain": [
              "LogisticRegression(C=1.0, class_weight=None, dual=False, fit_intercept=True,\n",
              "                   intercept_scaling=1, l1_ratio=None, max_iter=100,\n",
              "                   multi_class='auto', n_jobs=None, penalty='l2',\n",
              "                   random_state=None, solver='lbfgs', tol=0.0001, verbose=0,\n",
              "                   warm_start=False)"
            ]
          },
          "metadata": {
            "tags": []
          },
          "execution_count": 113
        }
      ]
    },
    {
      "cell_type": "markdown",
      "metadata": {
        "id": "vhxRosOLPt2R"
      },
      "source": [
        "### Evaluate"
      ]
    },
    {
      "cell_type": "code",
      "metadata": {
        "id": "29hy3KD-Pt2R",
        "colab": {
          "base_uri": "https://localhost:8080/"
        },
        "outputId": "30b88702-1fb2-4e6c-e747-0fedfaeb805d"
      },
      "source": [
        "from sklearn.metrics import accuracy_score\n",
        "accuracy_score(clfr.predict(X_test), y_test)"
      ],
      "execution_count": null,
      "outputs": [
        {
          "output_type": "execute_result",
          "data": {
            "text/plain": [
              "0.87"
            ]
          },
          "metadata": {
            "tags": []
          },
          "execution_count": 114
        }
      ]
    },
    {
      "cell_type": "markdown",
      "metadata": {
        "id": "NZIp0xKfPt2S"
      },
      "source": [
        "### 4.) Try a Different `base_model` \n",
        "\n",
        "* Repeat steps 3 and 4 above, only this time use a [pre-trained model other than VGG19](https://keras.io/applications/)\n",
        "* (Answer in a markdown cell): Which model+layer works the best for this data? Why do you think that is?\n",
        "* What makes for good positive examples? What makes for good negative examples? Why does the choice of negative examples matter?"
      ]
    },
    {
      "cell_type": "markdown",
      "metadata": {
        "id": "aegH3Cxk7Fjd"
      },
      "source": [
        "### Lets try base model (VGG16) and layer flatten\n",
        "\n",
        "\n"
      ]
    },
    {
      "cell_type": "code",
      "metadata": {
        "id": "qIReXRRPPt2S",
        "colab": {
          "base_uri": "https://localhost:8080/"
        },
        "outputId": "0230d1f5-2dde-40e8-8e3e-a488a76f4708"
      },
      "source": [
        "from keras.applications.vgg16 import VGG16\n",
        "from keras.applications.vgg16 import preprocess_input\n",
        "\n",
        "base_model = VGG16(weights='imagenet')\n",
        "\n",
        "for layer in base_model.layers:\n",
        "    print(layer.name)"
      ],
      "execution_count": null,
      "outputs": [
        {
          "output_type": "stream",
          "text": [
            "input_13\n",
            "block1_conv1\n",
            "block1_conv2\n",
            "block1_pool\n",
            "block2_conv1\n",
            "block2_conv2\n",
            "block2_pool\n",
            "block3_conv1\n",
            "block3_conv2\n",
            "block3_conv3\n",
            "block3_pool\n",
            "block4_conv1\n",
            "block4_conv2\n",
            "block4_conv3\n",
            "block4_pool\n",
            "block5_conv1\n",
            "block5_conv2\n",
            "block5_conv3\n",
            "block5_pool\n",
            "flatten\n",
            "fc1\n",
            "fc2\n",
            "predictions\n"
          ],
          "name": "stdout"
        }
      ]
    },
    {
      "cell_type": "code",
      "metadata": {
        "id": "8z8AD0h8b9AU"
      },
      "source": [
        "layer = 'flatten'\n",
        "\n",
        "model = Model(inputs=base_model.input, outputs=base_model.get_layer(layer).output)"
      ],
      "execution_count": null,
      "outputs": []
    },
    {
      "cell_type": "code",
      "metadata": {
        "colab": {
          "base_uri": "https://localhost:8080/"
        },
        "id": "A3WijCm5arwY",
        "outputId": "b9107e32-d4d2-4244-9dba-f1c35d3611c3"
      },
      "source": [
        "num_test = 50\n",
        "X_train = np.concatenate((pos_images[num_test:], neg_images[num_test:]), axis=0)\n",
        "X_test = np.concatenate((pos_images[:num_test], neg_images[:num_test]))\n",
        "\n",
        "y_train = np.array([1] * (200 - num_test) + [0] * (200 - num_test))\n",
        "y_test = np.array([1] * (num_test) + [0] * (num_test))\n",
        "\n",
        "X_train.shape, y_train.shape, X_test.shape, y_test.shape"
      ],
      "execution_count": null,
      "outputs": [
        {
          "output_type": "execute_result",
          "data": {
            "text/plain": [
              "((300, 1000), (300,), (100, 1000), (100,))"
            ]
          },
          "metadata": {
            "tags": []
          },
          "execution_count": 136
        }
      ]
    },
    {
      "cell_type": "code",
      "metadata": {
        "colab": {
          "base_uri": "https://localhost:8080/"
        },
        "id": "Z3u0AVPNbV5H",
        "outputId": "344cf2db-1586-4c9f-da6d-7ac25f9a40f3"
      },
      "source": [
        "from sklearn.linear_model import LogisticRegression\n",
        "\n",
        "clfr = LogisticRegression()\n",
        "clfr.fit(X_train, y_train)"
      ],
      "execution_count": null,
      "outputs": [
        {
          "output_type": "execute_result",
          "data": {
            "text/plain": [
              "LogisticRegression(C=1.0, class_weight=None, dual=False, fit_intercept=True,\n",
              "                   intercept_scaling=1, l1_ratio=None, max_iter=100,\n",
              "                   multi_class='auto', n_jobs=None, penalty='l2',\n",
              "                   random_state=None, solver='lbfgs', tol=0.0001, verbose=0,\n",
              "                   warm_start=False)"
            ]
          },
          "metadata": {
            "tags": []
          },
          "execution_count": 137
        }
      ]
    },
    {
      "cell_type": "code",
      "metadata": {
        "colab": {
          "base_uri": "https://localhost:8080/"
        },
        "id": "f-8rUKUabXn2",
        "outputId": "c4eb4d21-4a12-4af7-df7c-a28aa04dd3ff"
      },
      "source": [
        "from sklearn.metrics import accuracy_score\n",
        "accuracy_score(clfr.predict(X_test), y_test)"
      ],
      "execution_count": null,
      "outputs": [
        {
          "output_type": "execute_result",
          "data": {
            "text/plain": [
              "0.87"
            ]
          },
          "metadata": {
            "tags": []
          },
          "execution_count": 138
        }
      ]
    },
    {
      "cell_type": "markdown",
      "metadata": {
        "id": "MQ3ufNxE_rib"
      },
      "source": [
        "## For the same model layer = predictions"
      ]
    },
    {
      "cell_type": "code",
      "metadata": {
        "colab": {
          "base_uri": "https://localhost:8080/"
        },
        "id": "SxPzAEjKbZbP",
        "outputId": "5ac3381a-46f8-4ddf-d1c2-6ed55d1cd561"
      },
      "source": [
        "layer = 'predictions'\n",
        "\n",
        "\n",
        "model = Model(inputs=base_model.input, outputs=base_model.get_layer(layer).output)\n",
        "\n",
        "# Prepare the data. Split to train/test sets\n",
        "num_test = 50\n",
        "X_train = np.concatenate((pos_images[num_test:], neg_images[num_test:]), axis=0)\n",
        "X_test = np.concatenate((pos_images[:num_test], neg_images[:num_test]))\n",
        "\n",
        "y_train = np.array([1] * (200 - num_test) + [0] * (200 - num_test))\n",
        "y_test = np.array([1] * (num_test) + [0] * (num_test))\n",
        "\n",
        "# X_train.shape, y_train.shape, X_test.shape, y_test.shape\n",
        "\n",
        "# Define the model and train\n",
        "from sklearn.linear_model import LogisticRegression\n",
        "\n",
        "clfr = LogisticRegression()\n",
        "clfr.fit(X_train, y_train)\n",
        "\n",
        "# Evaluate\n",
        "accuracy_score(clfr.predict(X_test), y_test)"
      ],
      "execution_count": null,
      "outputs": [
        {
          "output_type": "execute_result",
          "data": {
            "text/plain": [
              "0.87"
            ]
          },
          "metadata": {
            "tags": []
          },
          "execution_count": 139
        }
      ]
    },
    {
      "cell_type": "markdown",
      "metadata": {
        "id": "QgHT64np_wTw"
      },
      "source": [
        "## Lets try base model (DenseNet121) and layer predictions"
      ]
    },
    {
      "cell_type": "code",
      "metadata": {
        "colab": {
          "base_uri": "https://localhost:8080/"
        },
        "id": "zowkuaxTbraF",
        "outputId": "4b8ecdc8-366d-45e5-a72f-9d73e31f59ac"
      },
      "source": [
        "from keras.applications.densenet import DenseNet121\n",
        "from keras.applications.densenet import preprocess_input\n",
        "\n",
        "base_model = DenseNet121(weights='imagenet')\n",
        "\n",
        "for layer in base_model.layers:\n",
        "    print(layer.name)"
      ],
      "execution_count": null,
      "outputs": [
        {
          "output_type": "stream",
          "text": [
            "input_19\n",
            "zero_padding2d_12\n",
            "conv1/conv\n",
            "conv1/bn\n",
            "conv1/relu\n",
            "zero_padding2d_13\n",
            "pool1\n",
            "conv2_block1_0_bn\n",
            "conv2_block1_0_relu\n",
            "conv2_block1_1_conv\n",
            "conv2_block1_1_bn\n",
            "conv2_block1_1_relu\n",
            "conv2_block1_2_conv\n",
            "conv2_block1_concat\n",
            "conv2_block2_0_bn\n",
            "conv2_block2_0_relu\n",
            "conv2_block2_1_conv\n",
            "conv2_block2_1_bn\n",
            "conv2_block2_1_relu\n",
            "conv2_block2_2_conv\n",
            "conv2_block2_concat\n",
            "conv2_block3_0_bn\n",
            "conv2_block3_0_relu\n",
            "conv2_block3_1_conv\n",
            "conv2_block3_1_bn\n",
            "conv2_block3_1_relu\n",
            "conv2_block3_2_conv\n",
            "conv2_block3_concat\n",
            "conv2_block4_0_bn\n",
            "conv2_block4_0_relu\n",
            "conv2_block4_1_conv\n",
            "conv2_block4_1_bn\n",
            "conv2_block4_1_relu\n",
            "conv2_block4_2_conv\n",
            "conv2_block4_concat\n",
            "conv2_block5_0_bn\n",
            "conv2_block5_0_relu\n",
            "conv2_block5_1_conv\n",
            "conv2_block5_1_bn\n",
            "conv2_block5_1_relu\n",
            "conv2_block5_2_conv\n",
            "conv2_block5_concat\n",
            "conv2_block6_0_bn\n",
            "conv2_block6_0_relu\n",
            "conv2_block6_1_conv\n",
            "conv2_block6_1_bn\n",
            "conv2_block6_1_relu\n",
            "conv2_block6_2_conv\n",
            "conv2_block6_concat\n",
            "pool2_bn\n",
            "pool2_relu\n",
            "pool2_conv\n",
            "pool2_pool\n",
            "conv3_block1_0_bn\n",
            "conv3_block1_0_relu\n",
            "conv3_block1_1_conv\n",
            "conv3_block1_1_bn\n",
            "conv3_block1_1_relu\n",
            "conv3_block1_2_conv\n",
            "conv3_block1_concat\n",
            "conv3_block2_0_bn\n",
            "conv3_block2_0_relu\n",
            "conv3_block2_1_conv\n",
            "conv3_block2_1_bn\n",
            "conv3_block2_1_relu\n",
            "conv3_block2_2_conv\n",
            "conv3_block2_concat\n",
            "conv3_block3_0_bn\n",
            "conv3_block3_0_relu\n",
            "conv3_block3_1_conv\n",
            "conv3_block3_1_bn\n",
            "conv3_block3_1_relu\n",
            "conv3_block3_2_conv\n",
            "conv3_block3_concat\n",
            "conv3_block4_0_bn\n",
            "conv3_block4_0_relu\n",
            "conv3_block4_1_conv\n",
            "conv3_block4_1_bn\n",
            "conv3_block4_1_relu\n",
            "conv3_block4_2_conv\n",
            "conv3_block4_concat\n",
            "conv3_block5_0_bn\n",
            "conv3_block5_0_relu\n",
            "conv3_block5_1_conv\n",
            "conv3_block5_1_bn\n",
            "conv3_block5_1_relu\n",
            "conv3_block5_2_conv\n",
            "conv3_block5_concat\n",
            "conv3_block6_0_bn\n",
            "conv3_block6_0_relu\n",
            "conv3_block6_1_conv\n",
            "conv3_block6_1_bn\n",
            "conv3_block6_1_relu\n",
            "conv3_block6_2_conv\n",
            "conv3_block6_concat\n",
            "conv3_block7_0_bn\n",
            "conv3_block7_0_relu\n",
            "conv3_block7_1_conv\n",
            "conv3_block7_1_bn\n",
            "conv3_block7_1_relu\n",
            "conv3_block7_2_conv\n",
            "conv3_block7_concat\n",
            "conv3_block8_0_bn\n",
            "conv3_block8_0_relu\n",
            "conv3_block8_1_conv\n",
            "conv3_block8_1_bn\n",
            "conv3_block8_1_relu\n",
            "conv3_block8_2_conv\n",
            "conv3_block8_concat\n",
            "conv3_block9_0_bn\n",
            "conv3_block9_0_relu\n",
            "conv3_block9_1_conv\n",
            "conv3_block9_1_bn\n",
            "conv3_block9_1_relu\n",
            "conv3_block9_2_conv\n",
            "conv3_block9_concat\n",
            "conv3_block10_0_bn\n",
            "conv3_block10_0_relu\n",
            "conv3_block10_1_conv\n",
            "conv3_block10_1_bn\n",
            "conv3_block10_1_relu\n",
            "conv3_block10_2_conv\n",
            "conv3_block10_concat\n",
            "conv3_block11_0_bn\n",
            "conv3_block11_0_relu\n",
            "conv3_block11_1_conv\n",
            "conv3_block11_1_bn\n",
            "conv3_block11_1_relu\n",
            "conv3_block11_2_conv\n",
            "conv3_block11_concat\n",
            "conv3_block12_0_bn\n",
            "conv3_block12_0_relu\n",
            "conv3_block12_1_conv\n",
            "conv3_block12_1_bn\n",
            "conv3_block12_1_relu\n",
            "conv3_block12_2_conv\n",
            "conv3_block12_concat\n",
            "pool3_bn\n",
            "pool3_relu\n",
            "pool3_conv\n",
            "pool3_pool\n",
            "conv4_block1_0_bn\n",
            "conv4_block1_0_relu\n",
            "conv4_block1_1_conv\n",
            "conv4_block1_1_bn\n",
            "conv4_block1_1_relu\n",
            "conv4_block1_2_conv\n",
            "conv4_block1_concat\n",
            "conv4_block2_0_bn\n",
            "conv4_block2_0_relu\n",
            "conv4_block2_1_conv\n",
            "conv4_block2_1_bn\n",
            "conv4_block2_1_relu\n",
            "conv4_block2_2_conv\n",
            "conv4_block2_concat\n",
            "conv4_block3_0_bn\n",
            "conv4_block3_0_relu\n",
            "conv4_block3_1_conv\n",
            "conv4_block3_1_bn\n",
            "conv4_block3_1_relu\n",
            "conv4_block3_2_conv\n",
            "conv4_block3_concat\n",
            "conv4_block4_0_bn\n",
            "conv4_block4_0_relu\n",
            "conv4_block4_1_conv\n",
            "conv4_block4_1_bn\n",
            "conv4_block4_1_relu\n",
            "conv4_block4_2_conv\n",
            "conv4_block4_concat\n",
            "conv4_block5_0_bn\n",
            "conv4_block5_0_relu\n",
            "conv4_block5_1_conv\n",
            "conv4_block5_1_bn\n",
            "conv4_block5_1_relu\n",
            "conv4_block5_2_conv\n",
            "conv4_block5_concat\n",
            "conv4_block6_0_bn\n",
            "conv4_block6_0_relu\n",
            "conv4_block6_1_conv\n",
            "conv4_block6_1_bn\n",
            "conv4_block6_1_relu\n",
            "conv4_block6_2_conv\n",
            "conv4_block6_concat\n",
            "conv4_block7_0_bn\n",
            "conv4_block7_0_relu\n",
            "conv4_block7_1_conv\n",
            "conv4_block7_1_bn\n",
            "conv4_block7_1_relu\n",
            "conv4_block7_2_conv\n",
            "conv4_block7_concat\n",
            "conv4_block8_0_bn\n",
            "conv4_block8_0_relu\n",
            "conv4_block8_1_conv\n",
            "conv4_block8_1_bn\n",
            "conv4_block8_1_relu\n",
            "conv4_block8_2_conv\n",
            "conv4_block8_concat\n",
            "conv4_block9_0_bn\n",
            "conv4_block9_0_relu\n",
            "conv4_block9_1_conv\n",
            "conv4_block9_1_bn\n",
            "conv4_block9_1_relu\n",
            "conv4_block9_2_conv\n",
            "conv4_block9_concat\n",
            "conv4_block10_0_bn\n",
            "conv4_block10_0_relu\n",
            "conv4_block10_1_conv\n",
            "conv4_block10_1_bn\n",
            "conv4_block10_1_relu\n",
            "conv4_block10_2_conv\n",
            "conv4_block10_concat\n",
            "conv4_block11_0_bn\n",
            "conv4_block11_0_relu\n",
            "conv4_block11_1_conv\n",
            "conv4_block11_1_bn\n",
            "conv4_block11_1_relu\n",
            "conv4_block11_2_conv\n",
            "conv4_block11_concat\n",
            "conv4_block12_0_bn\n",
            "conv4_block12_0_relu\n",
            "conv4_block12_1_conv\n",
            "conv4_block12_1_bn\n",
            "conv4_block12_1_relu\n",
            "conv4_block12_2_conv\n",
            "conv4_block12_concat\n",
            "conv4_block13_0_bn\n",
            "conv4_block13_0_relu\n",
            "conv4_block13_1_conv\n",
            "conv4_block13_1_bn\n",
            "conv4_block13_1_relu\n",
            "conv4_block13_2_conv\n",
            "conv4_block13_concat\n",
            "conv4_block14_0_bn\n",
            "conv4_block14_0_relu\n",
            "conv4_block14_1_conv\n",
            "conv4_block14_1_bn\n",
            "conv4_block14_1_relu\n",
            "conv4_block14_2_conv\n",
            "conv4_block14_concat\n",
            "conv4_block15_0_bn\n",
            "conv4_block15_0_relu\n",
            "conv4_block15_1_conv\n",
            "conv4_block15_1_bn\n",
            "conv4_block15_1_relu\n",
            "conv4_block15_2_conv\n",
            "conv4_block15_concat\n",
            "conv4_block16_0_bn\n",
            "conv4_block16_0_relu\n",
            "conv4_block16_1_conv\n",
            "conv4_block16_1_bn\n",
            "conv4_block16_1_relu\n",
            "conv4_block16_2_conv\n",
            "conv4_block16_concat\n",
            "conv4_block17_0_bn\n",
            "conv4_block17_0_relu\n",
            "conv4_block17_1_conv\n",
            "conv4_block17_1_bn\n",
            "conv4_block17_1_relu\n",
            "conv4_block17_2_conv\n",
            "conv4_block17_concat\n",
            "conv4_block18_0_bn\n",
            "conv4_block18_0_relu\n",
            "conv4_block18_1_conv\n",
            "conv4_block18_1_bn\n",
            "conv4_block18_1_relu\n",
            "conv4_block18_2_conv\n",
            "conv4_block18_concat\n",
            "conv4_block19_0_bn\n",
            "conv4_block19_0_relu\n",
            "conv4_block19_1_conv\n",
            "conv4_block19_1_bn\n",
            "conv4_block19_1_relu\n",
            "conv4_block19_2_conv\n",
            "conv4_block19_concat\n",
            "conv4_block20_0_bn\n",
            "conv4_block20_0_relu\n",
            "conv4_block20_1_conv\n",
            "conv4_block20_1_bn\n",
            "conv4_block20_1_relu\n",
            "conv4_block20_2_conv\n",
            "conv4_block20_concat\n",
            "conv4_block21_0_bn\n",
            "conv4_block21_0_relu\n",
            "conv4_block21_1_conv\n",
            "conv4_block21_1_bn\n",
            "conv4_block21_1_relu\n",
            "conv4_block21_2_conv\n",
            "conv4_block21_concat\n",
            "conv4_block22_0_bn\n",
            "conv4_block22_0_relu\n",
            "conv4_block22_1_conv\n",
            "conv4_block22_1_bn\n",
            "conv4_block22_1_relu\n",
            "conv4_block22_2_conv\n",
            "conv4_block22_concat\n",
            "conv4_block23_0_bn\n",
            "conv4_block23_0_relu\n",
            "conv4_block23_1_conv\n",
            "conv4_block23_1_bn\n",
            "conv4_block23_1_relu\n",
            "conv4_block23_2_conv\n",
            "conv4_block23_concat\n",
            "conv4_block24_0_bn\n",
            "conv4_block24_0_relu\n",
            "conv4_block24_1_conv\n",
            "conv4_block24_1_bn\n",
            "conv4_block24_1_relu\n",
            "conv4_block24_2_conv\n",
            "conv4_block24_concat\n",
            "pool4_bn\n",
            "pool4_relu\n",
            "pool4_conv\n",
            "pool4_pool\n",
            "conv5_block1_0_bn\n",
            "conv5_block1_0_relu\n",
            "conv5_block1_1_conv\n",
            "conv5_block1_1_bn\n",
            "conv5_block1_1_relu\n",
            "conv5_block1_2_conv\n",
            "conv5_block1_concat\n",
            "conv5_block2_0_bn\n",
            "conv5_block2_0_relu\n",
            "conv5_block2_1_conv\n",
            "conv5_block2_1_bn\n",
            "conv5_block2_1_relu\n",
            "conv5_block2_2_conv\n",
            "conv5_block2_concat\n",
            "conv5_block3_0_bn\n",
            "conv5_block3_0_relu\n",
            "conv5_block3_1_conv\n",
            "conv5_block3_1_bn\n",
            "conv5_block3_1_relu\n",
            "conv5_block3_2_conv\n",
            "conv5_block3_concat\n",
            "conv5_block4_0_bn\n",
            "conv5_block4_0_relu\n",
            "conv5_block4_1_conv\n",
            "conv5_block4_1_bn\n",
            "conv5_block4_1_relu\n",
            "conv5_block4_2_conv\n",
            "conv5_block4_concat\n",
            "conv5_block5_0_bn\n",
            "conv5_block5_0_relu\n",
            "conv5_block5_1_conv\n",
            "conv5_block5_1_bn\n",
            "conv5_block5_1_relu\n",
            "conv5_block5_2_conv\n",
            "conv5_block5_concat\n",
            "conv5_block6_0_bn\n",
            "conv5_block6_0_relu\n",
            "conv5_block6_1_conv\n",
            "conv5_block6_1_bn\n",
            "conv5_block6_1_relu\n",
            "conv5_block6_2_conv\n",
            "conv5_block6_concat\n",
            "conv5_block7_0_bn\n",
            "conv5_block7_0_relu\n",
            "conv5_block7_1_conv\n",
            "conv5_block7_1_bn\n",
            "conv5_block7_1_relu\n",
            "conv5_block7_2_conv\n",
            "conv5_block7_concat\n",
            "conv5_block8_0_bn\n",
            "conv5_block8_0_relu\n",
            "conv5_block8_1_conv\n",
            "conv5_block8_1_bn\n",
            "conv5_block8_1_relu\n",
            "conv5_block8_2_conv\n",
            "conv5_block8_concat\n",
            "conv5_block9_0_bn\n",
            "conv5_block9_0_relu\n",
            "conv5_block9_1_conv\n",
            "conv5_block9_1_bn\n",
            "conv5_block9_1_relu\n",
            "conv5_block9_2_conv\n",
            "conv5_block9_concat\n",
            "conv5_block10_0_bn\n",
            "conv5_block10_0_relu\n",
            "conv5_block10_1_conv\n",
            "conv5_block10_1_bn\n",
            "conv5_block10_1_relu\n",
            "conv5_block10_2_conv\n",
            "conv5_block10_concat\n",
            "conv5_block11_0_bn\n",
            "conv5_block11_0_relu\n",
            "conv5_block11_1_conv\n",
            "conv5_block11_1_bn\n",
            "conv5_block11_1_relu\n",
            "conv5_block11_2_conv\n",
            "conv5_block11_concat\n",
            "conv5_block12_0_bn\n",
            "conv5_block12_0_relu\n",
            "conv5_block12_1_conv\n",
            "conv5_block12_1_bn\n",
            "conv5_block12_1_relu\n",
            "conv5_block12_2_conv\n",
            "conv5_block12_concat\n",
            "conv5_block13_0_bn\n",
            "conv5_block13_0_relu\n",
            "conv5_block13_1_conv\n",
            "conv5_block13_1_bn\n",
            "conv5_block13_1_relu\n",
            "conv5_block13_2_conv\n",
            "conv5_block13_concat\n",
            "conv5_block14_0_bn\n",
            "conv5_block14_0_relu\n",
            "conv5_block14_1_conv\n",
            "conv5_block14_1_bn\n",
            "conv5_block14_1_relu\n",
            "conv5_block14_2_conv\n",
            "conv5_block14_concat\n",
            "conv5_block15_0_bn\n",
            "conv5_block15_0_relu\n",
            "conv5_block15_1_conv\n",
            "conv5_block15_1_bn\n",
            "conv5_block15_1_relu\n",
            "conv5_block15_2_conv\n",
            "conv5_block15_concat\n",
            "conv5_block16_0_bn\n",
            "conv5_block16_0_relu\n",
            "conv5_block16_1_conv\n",
            "conv5_block16_1_bn\n",
            "conv5_block16_1_relu\n",
            "conv5_block16_2_conv\n",
            "conv5_block16_concat\n",
            "bn\n",
            "relu\n",
            "avg_pool\n",
            "predictions\n"
          ],
          "name": "stdout"
        }
      ]
    },
    {
      "cell_type": "code",
      "metadata": {
        "colab": {
          "base_uri": "https://localhost:8080/"
        },
        "id": "uXw-xIOhlWyW",
        "outputId": "13a28eeb-75b2-4796-85c8-ca832d74e740"
      },
      "source": [
        "layer = 'predictions'\n",
        "\n",
        "model = Model(inputs=base_model.input, outputs=base_model.get_layer(layer).output)\n",
        "\n",
        "\n",
        "num_test = 50\n",
        "X_train = np.concatenate((pos_images[num_test:], neg_images[num_test:]), axis=0)\n",
        "X_test = np.concatenate((pos_images[:num_test], neg_images[:num_test]))\n",
        "\n",
        "y_train = np.array([1] * (200 - num_test) + [0] * (200 - num_test))\n",
        "y_test = np.array([1] * (num_test) + [0] * (num_test))\n",
        "\n",
        "# X_train.shape, y_train.shape, X_test.shape, y_test.shape\n",
        "\n",
        "# Define the model and train\n",
        "from sklearn.linear_model import LogisticRegression\n",
        "\n",
        "clfr = LogisticRegression()\n",
        "clfr.fit(X_train, y_train)\n",
        "\n",
        "# Evaluate\n",
        "accuracy_score(clfr.predict(X_test), y_test)"
      ],
      "execution_count": null,
      "outputs": [
        {
          "output_type": "execute_result",
          "data": {
            "text/plain": [
              "0.87"
            ]
          },
          "metadata": {
            "tags": []
          },
          "execution_count": 141
        }
      ]
    },
    {
      "cell_type": "markdown",
      "metadata": {
        "id": "effvRD5v_5WK"
      },
      "source": [
        "## Lets try base model (ResNet50) and layer predictions"
      ]
    },
    {
      "cell_type": "code",
      "metadata": {
        "id": "WLR0nCPM-U9V"
      },
      "source": [
        "from tensorflow.keras.applications.resnet50 import ResNet50\n",
        "# from tensorflow.keras.preprocessing import image\n",
        "from tensorflow.keras.applications.resnet50 import preprocess_input, decode_predictions"
      ],
      "execution_count": null,
      "outputs": []
    },
    {
      "cell_type": "code",
      "metadata": {
        "colab": {
          "base_uri": "https://localhost:8080/"
        },
        "id": "2QUDWHN9lfzw",
        "outputId": "7d0e26a1-6901-4be4-bbe3-e6a6e758cae8"
      },
      "source": [
        "\n",
        "base_model = ResNet50(weights='imagenet')\n",
        "\n",
        "for layer in base_model.layers:\n",
        "    print(layer.name)\n",
        "\n",
        "\n",
        "layer = 'predictions'\n",
        "\n",
        "model = Model(inputs=base_model.input, outputs=base_model.get_layer(layer).output)\n",
        "\n",
        "\n",
        "num_test = 50\n",
        "X_train = np.concatenate((pos_images[num_test:], neg_images[num_test:]), axis=0)\n",
        "X_test = np.concatenate((pos_images[:num_test], neg_images[:num_test]))\n",
        "\n",
        "y_train = np.array([1] * (200 - num_test) + [0] * (200 - num_test))\n",
        "y_test = np.array([1] * (num_test) + [0] * (num_test))\n",
        "\n",
        "# X_train.shape, y_train.shape, X_test.shape, y_test.shape\n",
        "\n",
        "# Define the model and train\n",
        "from sklearn.linear_model import LogisticRegression\n",
        "\n",
        "clfr = LogisticRegression()\n",
        "clfr.fit(X_train, y_train)\n",
        "\n",
        "# Evaluate\n",
        "accuracy_score(clfr.predict(X_test), y_test)"
      ],
      "execution_count": null,
      "outputs": [
        {
          "output_type": "stream",
          "text": [
            "input_20\n",
            "conv1_pad\n",
            "conv1_conv\n",
            "conv1_bn\n",
            "conv1_relu\n",
            "pool1_pad\n",
            "pool1_pool\n",
            "conv2_block1_1_conv\n",
            "conv2_block1_1_bn\n",
            "conv2_block1_1_relu\n",
            "conv2_block1_2_conv\n",
            "conv2_block1_2_bn\n",
            "conv2_block1_2_relu\n",
            "conv2_block1_0_conv\n",
            "conv2_block1_3_conv\n",
            "conv2_block1_0_bn\n",
            "conv2_block1_3_bn\n",
            "conv2_block1_add\n",
            "conv2_block1_out\n",
            "conv2_block2_1_conv\n",
            "conv2_block2_1_bn\n",
            "conv2_block2_1_relu\n",
            "conv2_block2_2_conv\n",
            "conv2_block2_2_bn\n",
            "conv2_block2_2_relu\n",
            "conv2_block2_3_conv\n",
            "conv2_block2_3_bn\n",
            "conv2_block2_add\n",
            "conv2_block2_out\n",
            "conv2_block3_1_conv\n",
            "conv2_block3_1_bn\n",
            "conv2_block3_1_relu\n",
            "conv2_block3_2_conv\n",
            "conv2_block3_2_bn\n",
            "conv2_block3_2_relu\n",
            "conv2_block3_3_conv\n",
            "conv2_block3_3_bn\n",
            "conv2_block3_add\n",
            "conv2_block3_out\n",
            "conv3_block1_1_conv\n",
            "conv3_block1_1_bn\n",
            "conv3_block1_1_relu\n",
            "conv3_block1_2_conv\n",
            "conv3_block1_2_bn\n",
            "conv3_block1_2_relu\n",
            "conv3_block1_0_conv\n",
            "conv3_block1_3_conv\n",
            "conv3_block1_0_bn\n",
            "conv3_block1_3_bn\n",
            "conv3_block1_add\n",
            "conv3_block1_out\n",
            "conv3_block2_1_conv\n",
            "conv3_block2_1_bn\n",
            "conv3_block2_1_relu\n",
            "conv3_block2_2_conv\n",
            "conv3_block2_2_bn\n",
            "conv3_block2_2_relu\n",
            "conv3_block2_3_conv\n",
            "conv3_block2_3_bn\n",
            "conv3_block2_add\n",
            "conv3_block2_out\n",
            "conv3_block3_1_conv\n",
            "conv3_block3_1_bn\n",
            "conv3_block3_1_relu\n",
            "conv3_block3_2_conv\n",
            "conv3_block3_2_bn\n",
            "conv3_block3_2_relu\n",
            "conv3_block3_3_conv\n",
            "conv3_block3_3_bn\n",
            "conv3_block3_add\n",
            "conv3_block3_out\n",
            "conv3_block4_1_conv\n",
            "conv3_block4_1_bn\n",
            "conv3_block4_1_relu\n",
            "conv3_block4_2_conv\n",
            "conv3_block4_2_bn\n",
            "conv3_block4_2_relu\n",
            "conv3_block4_3_conv\n",
            "conv3_block4_3_bn\n",
            "conv3_block4_add\n",
            "conv3_block4_out\n",
            "conv4_block1_1_conv\n",
            "conv4_block1_1_bn\n",
            "conv4_block1_1_relu\n",
            "conv4_block1_2_conv\n",
            "conv4_block1_2_bn\n",
            "conv4_block1_2_relu\n",
            "conv4_block1_0_conv\n",
            "conv4_block1_3_conv\n",
            "conv4_block1_0_bn\n",
            "conv4_block1_3_bn\n",
            "conv4_block1_add\n",
            "conv4_block1_out\n",
            "conv4_block2_1_conv\n",
            "conv4_block2_1_bn\n",
            "conv4_block2_1_relu\n",
            "conv4_block2_2_conv\n",
            "conv4_block2_2_bn\n",
            "conv4_block2_2_relu\n",
            "conv4_block2_3_conv\n",
            "conv4_block2_3_bn\n",
            "conv4_block2_add\n",
            "conv4_block2_out\n",
            "conv4_block3_1_conv\n",
            "conv4_block3_1_bn\n",
            "conv4_block3_1_relu\n",
            "conv4_block3_2_conv\n",
            "conv4_block3_2_bn\n",
            "conv4_block3_2_relu\n",
            "conv4_block3_3_conv\n",
            "conv4_block3_3_bn\n",
            "conv4_block3_add\n",
            "conv4_block3_out\n",
            "conv4_block4_1_conv\n",
            "conv4_block4_1_bn\n",
            "conv4_block4_1_relu\n",
            "conv4_block4_2_conv\n",
            "conv4_block4_2_bn\n",
            "conv4_block4_2_relu\n",
            "conv4_block4_3_conv\n",
            "conv4_block4_3_bn\n",
            "conv4_block4_add\n",
            "conv4_block4_out\n",
            "conv4_block5_1_conv\n",
            "conv4_block5_1_bn\n",
            "conv4_block5_1_relu\n",
            "conv4_block5_2_conv\n",
            "conv4_block5_2_bn\n",
            "conv4_block5_2_relu\n",
            "conv4_block5_3_conv\n",
            "conv4_block5_3_bn\n",
            "conv4_block5_add\n",
            "conv4_block5_out\n",
            "conv4_block6_1_conv\n",
            "conv4_block6_1_bn\n",
            "conv4_block6_1_relu\n",
            "conv4_block6_2_conv\n",
            "conv4_block6_2_bn\n",
            "conv4_block6_2_relu\n",
            "conv4_block6_3_conv\n",
            "conv4_block6_3_bn\n",
            "conv4_block6_add\n",
            "conv4_block6_out\n",
            "conv5_block1_1_conv\n",
            "conv5_block1_1_bn\n",
            "conv5_block1_1_relu\n",
            "conv5_block1_2_conv\n",
            "conv5_block1_2_bn\n",
            "conv5_block1_2_relu\n",
            "conv5_block1_0_conv\n",
            "conv5_block1_3_conv\n",
            "conv5_block1_0_bn\n",
            "conv5_block1_3_bn\n",
            "conv5_block1_add\n",
            "conv5_block1_out\n",
            "conv5_block2_1_conv\n",
            "conv5_block2_1_bn\n",
            "conv5_block2_1_relu\n",
            "conv5_block2_2_conv\n",
            "conv5_block2_2_bn\n",
            "conv5_block2_2_relu\n",
            "conv5_block2_3_conv\n",
            "conv5_block2_3_bn\n",
            "conv5_block2_add\n",
            "conv5_block2_out\n",
            "conv5_block3_1_conv\n",
            "conv5_block3_1_bn\n",
            "conv5_block3_1_relu\n",
            "conv5_block3_2_conv\n",
            "conv5_block3_2_bn\n",
            "conv5_block3_2_relu\n",
            "conv5_block3_3_conv\n",
            "conv5_block3_3_bn\n",
            "conv5_block3_add\n",
            "conv5_block3_out\n",
            "avg_pool\n",
            "predictions\n"
          ],
          "name": "stdout"
        },
        {
          "output_type": "execute_result",
          "data": {
            "text/plain": [
              "0.87"
            ]
          },
          "metadata": {
            "tags": []
          },
          "execution_count": 159
        }
      ]
    },
    {
      "cell_type": "markdown",
      "metadata": {
        "id": "vmWBJsuLAe9L"
      },
      "source": [
        "## Changing the base model to VGG19 Again"
      ]
    },
    {
      "cell_type": "markdown",
      "metadata": {
        "id": "P2JV8sHnCKTN"
      },
      "source": [
        "Using different output layer this time and MLP"
      ]
    },
    {
      "cell_type": "code",
      "metadata": {
        "colab": {
          "base_uri": "https://localhost:8080/"
        },
        "id": "W5-rPn9eAdlO",
        "outputId": "8b8c4a86-67cf-41ee-cb43-4a968561e7f6"
      },
      "source": [
        "import numpy as np\n",
        "from keras.applications.vgg19 import VGG19\n",
        "from keras.applications.vgg19 import preprocess_input\n",
        "\n",
        "base_model = VGG19(weights='imagenet')\n",
        "\n",
        "for layer in base_model.layers:\n",
        "    print(layer.name)"
      ],
      "execution_count": null,
      "outputs": [
        {
          "output_type": "stream",
          "text": [
            "input_21\n",
            "block1_conv1\n",
            "block1_conv2\n",
            "block1_pool\n",
            "block2_conv1\n",
            "block2_conv2\n",
            "block2_pool\n",
            "block3_conv1\n",
            "block3_conv2\n",
            "block3_conv3\n",
            "block3_conv4\n",
            "block3_pool\n",
            "block4_conv1\n",
            "block4_conv2\n",
            "block4_conv3\n",
            "block4_conv4\n",
            "block4_pool\n",
            "block5_conv1\n",
            "block5_conv2\n",
            "block5_conv3\n",
            "block5_conv4\n",
            "block5_pool\n",
            "flatten\n",
            "fc1\n",
            "fc2\n",
            "predictions\n"
          ],
          "name": "stdout"
        }
      ]
    },
    {
      "cell_type": "code",
      "metadata": {
        "id": "jmUi5_sLArMY"
      },
      "source": [
        "layer = 'flatten'\n",
        "model = Model(inputs=base_model.input, outputs=base_model.get_layer(layer).output)\n"
      ],
      "execution_count": null,
      "outputs": []
    },
    {
      "cell_type": "code",
      "metadata": {
        "colab": {
          "base_uri": "https://localhost:8080/"
        },
        "id": "h4sfZQjpBZ86",
        "outputId": "d1c3b48f-4f58-4537-c058-9e5d4025ac43"
      },
      "source": [
        "import keras\n",
        "from keras.models import Sequential\n",
        "from keras.layers import Dense, Dropout, Activation\n",
        "from keras.optimizers import SGD\n",
        "\n",
        "model = Sequential()\n",
        "model.add(Dense(256, activation='relu', input_dim=25088))\n",
        "model.add(Dense(128, activation='relu'))\n",
        "model.add(Dense(64, activation='relu'))          \n",
        "model.add(Dense(1, activation='sigmoid'))\n",
        "\n",
        "model.compile(loss='binary_crossentropy',\n",
        "              optimizer='sgd',\n",
        "              metrics=['accuracy'])\n",
        "\n",
        "model.fit(X_train, y_train,\n",
        "          epochs=20,\n",
        "          batch_size=10, verbose=False)\n",
        "score = model.evaluate(X_test, y_test, batch_size=10)"
      ],
      "execution_count": null,
      "outputs": [
        {
          "output_type": "stream",
          "text": [
            "10/10 [==============================] - 0s 12ms/step - loss: 0.3619 - accuracy: 0.8800\n"
          ],
          "name": "stdout"
        }
      ]
    },
    {
      "cell_type": "code",
      "metadata": {
        "colab": {
          "base_uri": "https://localhost:8080/"
        },
        "id": "L25CAyfJA0Qq",
        "outputId": "aeb7895f-71d8-4424-9ccf-166021fd5ee8"
      },
      "source": [
        "score"
      ],
      "execution_count": null,
      "outputs": [
        {
          "output_type": "execute_result",
          "data": {
            "text/plain": [
              "[0.36189210414886475, 0.8799999952316284]"
            ]
          },
          "metadata": {
            "tags": []
          },
          "execution_count": 176
        }
      ]
    },
    {
      "cell_type": "markdown",
      "metadata": {
        "id": "iVeNG627AcQ5"
      },
      "source": [
        "### Ques: Which model+layer works the best for this data? Why do you think that is?"
      ]
    },
    {
      "cell_type": "markdown",
      "metadata": {
        "id": "Bpe7-YgcCSs1"
      },
      "source": [
        "I have tried different base models like VGG16, ResNet50, VGG19, DenseNet121 etc and layers like flaten and predictions. \n",
        "\n",
        "As per my experiment, I got similar accuracy (88%) for majority of the pre-trained model with different layer as the output from the base model. I have used 50% split for train and test data separation.\n",
        "The probable reason behind getting better performance while using those layer as base model's output is - that layer might contain relatively more features that map to our intended binary classes and few of those features might have contributed to learn/identify the image class. "
      ]
    },
    {
      "cell_type": "markdown",
      "metadata": {
        "id": "quK1RDWRDaTw"
      },
      "source": [
        "### Ques: What makes for good positive examples? What makes for good negative examples? Why does the choice of negative examples matter?"
      ]
    },
    {
      "cell_type": "markdown",
      "metadata": {
        "id": "KzUz255FDadS"
      },
      "source": [
        "I think the reason I had similar results despite changing layers and model is because of my choice of images. Because both the colours I chose are similar in nature they yielded similar results. The choice of negative examples definetly matters because while I used differnt images the reulst were very different and was varying based on the selection of model/layer\n",
        "\n",
        "I think the if the examples are close enough to each other in both positive/negative case and very different from the opposites that would make them a very good example in both cases"
      ]
    },
    {
      "cell_type": "code",
      "metadata": {
        "id": "rbx0qqRBEbgr"
      },
      "source": [
        ""
      ],
      "execution_count": null,
      "outputs": []
    }
  ]
}