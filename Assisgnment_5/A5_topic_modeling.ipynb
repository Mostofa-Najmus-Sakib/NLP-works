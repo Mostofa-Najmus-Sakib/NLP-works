{
  "nbformat": 4,
  "nbformat_minor": 0,
  "metadata": {
    "kernelspec": {
      "display_name": "Python 3",
      "language": "python",
      "name": "python3"
    },
    "language_info": {
      "codemirror_mode": {
        "name": "ipython",
        "version": 3
      },
      "file_extension": ".py",
      "mimetype": "text/x-python",
      "name": "python",
      "nbconvert_exporter": "python",
      "pygments_lexer": "ipython3",
      "version": "3.8.3"
    },
    "colab": {
      "name": "A5-topic-modeling.ipynb",
      "provenance": [],
      "include_colab_link": true
    },
    "widgets": {
      "application/vnd.jupyter.widget-state+json": {
        "890b92ab59cf4693b2c423cb80325a8a": {
          "model_module": "@jupyter-widgets/controls",
          "model_name": "HBoxModel",
          "model_module_version": "1.5.0",
          "state": {
            "_view_name": "HBoxView",
            "_dom_classes": [],
            "_model_name": "HBoxModel",
            "_view_module": "@jupyter-widgets/controls",
            "_model_module_version": "1.5.0",
            "_view_count": null,
            "_view_module_version": "1.5.0",
            "box_style": "",
            "layout": "IPY_MODEL_90004c5983d5413fa49ffaf9ea4b7145",
            "_model_module": "@jupyter-widgets/controls",
            "children": [
              "IPY_MODEL_69f86b21c9d947e994cc7c983d76bdcb",
              "IPY_MODEL_e823b75c9a7e40f6973756520dc29cb5"
            ]
          }
        },
        "90004c5983d5413fa49ffaf9ea4b7145": {
          "model_module": "@jupyter-widgets/base",
          "model_name": "LayoutModel",
          "model_module_version": "1.2.0",
          "state": {
            "_view_name": "LayoutView",
            "grid_template_rows": null,
            "right": null,
            "justify_content": null,
            "_view_module": "@jupyter-widgets/base",
            "overflow": null,
            "_model_module_version": "1.2.0",
            "_view_count": null,
            "flex_flow": null,
            "width": null,
            "min_width": null,
            "border": null,
            "align_items": null,
            "bottom": null,
            "_model_module": "@jupyter-widgets/base",
            "top": null,
            "grid_column": null,
            "overflow_y": null,
            "overflow_x": null,
            "grid_auto_flow": null,
            "grid_area": null,
            "grid_template_columns": null,
            "flex": null,
            "_model_name": "LayoutModel",
            "justify_items": null,
            "grid_row": null,
            "max_height": null,
            "align_content": null,
            "visibility": null,
            "align_self": null,
            "height": null,
            "min_height": null,
            "padding": null,
            "grid_auto_rows": null,
            "grid_gap": null,
            "max_width": null,
            "order": null,
            "_view_module_version": "1.2.0",
            "grid_template_areas": null,
            "object_position": null,
            "object_fit": null,
            "grid_auto_columns": null,
            "margin": null,
            "display": null,
            "left": null
          }
        },
        "69f86b21c9d947e994cc7c983d76bdcb": {
          "model_module": "@jupyter-widgets/controls",
          "model_name": "FloatProgressModel",
          "model_module_version": "1.5.0",
          "state": {
            "_view_name": "ProgressView",
            "style": "IPY_MODEL_01213e8e20774097b391e44757df55a9",
            "_dom_classes": [],
            "description": "100%",
            "_model_name": "FloatProgressModel",
            "bar_style": "success",
            "max": 29,
            "_view_module": "@jupyter-widgets/controls",
            "_model_module_version": "1.5.0",
            "value": 29,
            "_view_count": null,
            "_view_module_version": "1.5.0",
            "orientation": "horizontal",
            "min": 0,
            "description_tooltip": null,
            "_model_module": "@jupyter-widgets/controls",
            "layout": "IPY_MODEL_df1ecebd8b83457da4ec6b401a8ac0b4"
          }
        },
        "e823b75c9a7e40f6973756520dc29cb5": {
          "model_module": "@jupyter-widgets/controls",
          "model_name": "HTMLModel",
          "model_module_version": "1.5.0",
          "state": {
            "_view_name": "HTMLView",
            "style": "IPY_MODEL_b51b999b868e46a4ac3140c1861777a1",
            "_dom_classes": [],
            "description": "",
            "_model_name": "HTMLModel",
            "placeholder": "​",
            "_view_module": "@jupyter-widgets/controls",
            "_model_module_version": "1.5.0",
            "value": " 29/29 [00:24&lt;00:00,  1.17it/s]",
            "_view_count": null,
            "_view_module_version": "1.5.0",
            "description_tooltip": null,
            "_model_module": "@jupyter-widgets/controls",
            "layout": "IPY_MODEL_d27ead8b0db1490e9b560a08d56f75a2"
          }
        },
        "01213e8e20774097b391e44757df55a9": {
          "model_module": "@jupyter-widgets/controls",
          "model_name": "ProgressStyleModel",
          "model_module_version": "1.5.0",
          "state": {
            "_view_name": "StyleView",
            "_model_name": "ProgressStyleModel",
            "description_width": "initial",
            "_view_module": "@jupyter-widgets/base",
            "_model_module_version": "1.5.0",
            "_view_count": null,
            "_view_module_version": "1.2.0",
            "bar_color": null,
            "_model_module": "@jupyter-widgets/controls"
          }
        },
        "df1ecebd8b83457da4ec6b401a8ac0b4": {
          "model_module": "@jupyter-widgets/base",
          "model_name": "LayoutModel",
          "model_module_version": "1.2.0",
          "state": {
            "_view_name": "LayoutView",
            "grid_template_rows": null,
            "right": null,
            "justify_content": null,
            "_view_module": "@jupyter-widgets/base",
            "overflow": null,
            "_model_module_version": "1.2.0",
            "_view_count": null,
            "flex_flow": null,
            "width": null,
            "min_width": null,
            "border": null,
            "align_items": null,
            "bottom": null,
            "_model_module": "@jupyter-widgets/base",
            "top": null,
            "grid_column": null,
            "overflow_y": null,
            "overflow_x": null,
            "grid_auto_flow": null,
            "grid_area": null,
            "grid_template_columns": null,
            "flex": null,
            "_model_name": "LayoutModel",
            "justify_items": null,
            "grid_row": null,
            "max_height": null,
            "align_content": null,
            "visibility": null,
            "align_self": null,
            "height": null,
            "min_height": null,
            "padding": null,
            "grid_auto_rows": null,
            "grid_gap": null,
            "max_width": null,
            "order": null,
            "_view_module_version": "1.2.0",
            "grid_template_areas": null,
            "object_position": null,
            "object_fit": null,
            "grid_auto_columns": null,
            "margin": null,
            "display": null,
            "left": null
          }
        },
        "b51b999b868e46a4ac3140c1861777a1": {
          "model_module": "@jupyter-widgets/controls",
          "model_name": "DescriptionStyleModel",
          "model_module_version": "1.5.0",
          "state": {
            "_view_name": "StyleView",
            "_model_name": "DescriptionStyleModel",
            "description_width": "",
            "_view_module": "@jupyter-widgets/base",
            "_model_module_version": "1.5.0",
            "_view_count": null,
            "_view_module_version": "1.2.0",
            "_model_module": "@jupyter-widgets/controls"
          }
        },
        "d27ead8b0db1490e9b560a08d56f75a2": {
          "model_module": "@jupyter-widgets/base",
          "model_name": "LayoutModel",
          "model_module_version": "1.2.0",
          "state": {
            "_view_name": "LayoutView",
            "grid_template_rows": null,
            "right": null,
            "justify_content": null,
            "_view_module": "@jupyter-widgets/base",
            "overflow": null,
            "_model_module_version": "1.2.0",
            "_view_count": null,
            "flex_flow": null,
            "width": null,
            "min_width": null,
            "border": null,
            "align_items": null,
            "bottom": null,
            "_model_module": "@jupyter-widgets/base",
            "top": null,
            "grid_column": null,
            "overflow_y": null,
            "overflow_x": null,
            "grid_auto_flow": null,
            "grid_area": null,
            "grid_template_columns": null,
            "flex": null,
            "_model_name": "LayoutModel",
            "justify_items": null,
            "grid_row": null,
            "max_height": null,
            "align_content": null,
            "visibility": null,
            "align_self": null,
            "height": null,
            "min_height": null,
            "padding": null,
            "grid_auto_rows": null,
            "grid_gap": null,
            "max_width": null,
            "order": null,
            "_view_module_version": "1.2.0",
            "grid_template_areas": null,
            "object_position": null,
            "object_fit": null,
            "grid_auto_columns": null,
            "margin": null,
            "display": null,
            "left": null
          }
        },
        "75ea09ea9e2e4f80976d14b391651583": {
          "model_module": "@jupyter-widgets/controls",
          "model_name": "HBoxModel",
          "model_module_version": "1.5.0",
          "state": {
            "_view_name": "HBoxView",
            "_dom_classes": [],
            "_model_name": "HBoxModel",
            "_view_module": "@jupyter-widgets/controls",
            "_model_module_version": "1.5.0",
            "_view_count": null,
            "_view_module_version": "1.5.0",
            "box_style": "",
            "layout": "IPY_MODEL_1dc668690c834c25a9512e341ab3c9ec",
            "_model_module": "@jupyter-widgets/controls",
            "children": [
              "IPY_MODEL_f44e8a37d75845f785761e0b515f5cad",
              "IPY_MODEL_d0dec42ad5d84ce9baaff52277c0a16f"
            ]
          }
        },
        "1dc668690c834c25a9512e341ab3c9ec": {
          "model_module": "@jupyter-widgets/base",
          "model_name": "LayoutModel",
          "model_module_version": "1.2.0",
          "state": {
            "_view_name": "LayoutView",
            "grid_template_rows": null,
            "right": null,
            "justify_content": null,
            "_view_module": "@jupyter-widgets/base",
            "overflow": null,
            "_model_module_version": "1.2.0",
            "_view_count": null,
            "flex_flow": null,
            "width": null,
            "min_width": null,
            "border": null,
            "align_items": null,
            "bottom": null,
            "_model_module": "@jupyter-widgets/base",
            "top": null,
            "grid_column": null,
            "overflow_y": null,
            "overflow_x": null,
            "grid_auto_flow": null,
            "grid_area": null,
            "grid_template_columns": null,
            "flex": null,
            "_model_name": "LayoutModel",
            "justify_items": null,
            "grid_row": null,
            "max_height": null,
            "align_content": null,
            "visibility": null,
            "align_self": null,
            "height": null,
            "min_height": null,
            "padding": null,
            "grid_auto_rows": null,
            "grid_gap": null,
            "max_width": null,
            "order": null,
            "_view_module_version": "1.2.0",
            "grid_template_areas": null,
            "object_position": null,
            "object_fit": null,
            "grid_auto_columns": null,
            "margin": null,
            "display": null,
            "left": null
          }
        },
        "f44e8a37d75845f785761e0b515f5cad": {
          "model_module": "@jupyter-widgets/controls",
          "model_name": "FloatProgressModel",
          "model_module_version": "1.5.0",
          "state": {
            "_view_name": "ProgressView",
            "style": "IPY_MODEL_5fbf59fd38414833a2cc4a640fb23d71",
            "_dom_classes": [],
            "description": "100%",
            "_model_name": "FloatProgressModel",
            "bar_style": "success",
            "max": 75,
            "_view_module": "@jupyter-widgets/controls",
            "_model_module_version": "1.5.0",
            "value": 75,
            "_view_count": null,
            "_view_module_version": "1.5.0",
            "orientation": "horizontal",
            "min": 0,
            "description_tooltip": null,
            "_model_module": "@jupyter-widgets/controls",
            "layout": "IPY_MODEL_f10aa9d6d5374eccb15684aa1de6bc5d"
          }
        },
        "d0dec42ad5d84ce9baaff52277c0a16f": {
          "model_module": "@jupyter-widgets/controls",
          "model_name": "HTMLModel",
          "model_module_version": "1.5.0",
          "state": {
            "_view_name": "HTMLView",
            "style": "IPY_MODEL_83f0f068d8344be1af1cf0ac6540d5e5",
            "_dom_classes": [],
            "description": "",
            "_model_name": "HTMLModel",
            "placeholder": "​",
            "_view_module": "@jupyter-widgets/controls",
            "_model_module_version": "1.5.0",
            "value": " 75/75 [02:01&lt;00:00,  1.62s/it]",
            "_view_count": null,
            "_view_module_version": "1.5.0",
            "description_tooltip": null,
            "_model_module": "@jupyter-widgets/controls",
            "layout": "IPY_MODEL_5ca72ee4a1d6454faebbe1365801e793"
          }
        },
        "5fbf59fd38414833a2cc4a640fb23d71": {
          "model_module": "@jupyter-widgets/controls",
          "model_name": "ProgressStyleModel",
          "model_module_version": "1.5.0",
          "state": {
            "_view_name": "StyleView",
            "_model_name": "ProgressStyleModel",
            "description_width": "initial",
            "_view_module": "@jupyter-widgets/base",
            "_model_module_version": "1.5.0",
            "_view_count": null,
            "_view_module_version": "1.2.0",
            "bar_color": null,
            "_model_module": "@jupyter-widgets/controls"
          }
        },
        "f10aa9d6d5374eccb15684aa1de6bc5d": {
          "model_module": "@jupyter-widgets/base",
          "model_name": "LayoutModel",
          "model_module_version": "1.2.0",
          "state": {
            "_view_name": "LayoutView",
            "grid_template_rows": null,
            "right": null,
            "justify_content": null,
            "_view_module": "@jupyter-widgets/base",
            "overflow": null,
            "_model_module_version": "1.2.0",
            "_view_count": null,
            "flex_flow": null,
            "width": null,
            "min_width": null,
            "border": null,
            "align_items": null,
            "bottom": null,
            "_model_module": "@jupyter-widgets/base",
            "top": null,
            "grid_column": null,
            "overflow_y": null,
            "overflow_x": null,
            "grid_auto_flow": null,
            "grid_area": null,
            "grid_template_columns": null,
            "flex": null,
            "_model_name": "LayoutModel",
            "justify_items": null,
            "grid_row": null,
            "max_height": null,
            "align_content": null,
            "visibility": null,
            "align_self": null,
            "height": null,
            "min_height": null,
            "padding": null,
            "grid_auto_rows": null,
            "grid_gap": null,
            "max_width": null,
            "order": null,
            "_view_module_version": "1.2.0",
            "grid_template_areas": null,
            "object_position": null,
            "object_fit": null,
            "grid_auto_columns": null,
            "margin": null,
            "display": null,
            "left": null
          }
        },
        "83f0f068d8344be1af1cf0ac6540d5e5": {
          "model_module": "@jupyter-widgets/controls",
          "model_name": "DescriptionStyleModel",
          "model_module_version": "1.5.0",
          "state": {
            "_view_name": "StyleView",
            "_model_name": "DescriptionStyleModel",
            "description_width": "",
            "_view_module": "@jupyter-widgets/base",
            "_model_module_version": "1.5.0",
            "_view_count": null,
            "_view_module_version": "1.2.0",
            "_model_module": "@jupyter-widgets/controls"
          }
        },
        "5ca72ee4a1d6454faebbe1365801e793": {
          "model_module": "@jupyter-widgets/base",
          "model_name": "LayoutModel",
          "model_module_version": "1.2.0",
          "state": {
            "_view_name": "LayoutView",
            "grid_template_rows": null,
            "right": null,
            "justify_content": null,
            "_view_module": "@jupyter-widgets/base",
            "overflow": null,
            "_model_module_version": "1.2.0",
            "_view_count": null,
            "flex_flow": null,
            "width": null,
            "min_width": null,
            "border": null,
            "align_items": null,
            "bottom": null,
            "_model_module": "@jupyter-widgets/base",
            "top": null,
            "grid_column": null,
            "overflow_y": null,
            "overflow_x": null,
            "grid_auto_flow": null,
            "grid_area": null,
            "grid_template_columns": null,
            "flex": null,
            "_model_name": "LayoutModel",
            "justify_items": null,
            "grid_row": null,
            "max_height": null,
            "align_content": null,
            "visibility": null,
            "align_self": null,
            "height": null,
            "min_height": null,
            "padding": null,
            "grid_auto_rows": null,
            "grid_gap": null,
            "max_width": null,
            "order": null,
            "_view_module_version": "1.2.0",
            "grid_template_areas": null,
            "object_position": null,
            "object_fit": null,
            "grid_auto_columns": null,
            "margin": null,
            "display": null,
            "left": null
          }
        },
        "d14950bf388843b680ce563d3279f8c7": {
          "model_module": "@jupyter-widgets/controls",
          "model_name": "HBoxModel",
          "model_module_version": "1.5.0",
          "state": {
            "_view_name": "HBoxView",
            "_dom_classes": [],
            "_model_name": "HBoxModel",
            "_view_module": "@jupyter-widgets/controls",
            "_model_module_version": "1.5.0",
            "_view_count": null,
            "_view_module_version": "1.5.0",
            "box_style": "",
            "layout": "IPY_MODEL_b6b6b7a79b3a408883736c5ae75972a7",
            "_model_module": "@jupyter-widgets/controls",
            "children": [
              "IPY_MODEL_e7c9a549c01b4a11976e848a76eee7fd",
              "IPY_MODEL_aeaa89b6932849d3988f480f667e8a84"
            ]
          }
        },
        "b6b6b7a79b3a408883736c5ae75972a7": {
          "model_module": "@jupyter-widgets/base",
          "model_name": "LayoutModel",
          "model_module_version": "1.2.0",
          "state": {
            "_view_name": "LayoutView",
            "grid_template_rows": null,
            "right": null,
            "justify_content": null,
            "_view_module": "@jupyter-widgets/base",
            "overflow": null,
            "_model_module_version": "1.2.0",
            "_view_count": null,
            "flex_flow": null,
            "width": null,
            "min_width": null,
            "border": null,
            "align_items": null,
            "bottom": null,
            "_model_module": "@jupyter-widgets/base",
            "top": null,
            "grid_column": null,
            "overflow_y": null,
            "overflow_x": null,
            "grid_auto_flow": null,
            "grid_area": null,
            "grid_template_columns": null,
            "flex": null,
            "_model_name": "LayoutModel",
            "justify_items": null,
            "grid_row": null,
            "max_height": null,
            "align_content": null,
            "visibility": null,
            "align_self": null,
            "height": null,
            "min_height": null,
            "padding": null,
            "grid_auto_rows": null,
            "grid_gap": null,
            "max_width": null,
            "order": null,
            "_view_module_version": "1.2.0",
            "grid_template_areas": null,
            "object_position": null,
            "object_fit": null,
            "grid_auto_columns": null,
            "margin": null,
            "display": null,
            "left": null
          }
        },
        "e7c9a549c01b4a11976e848a76eee7fd": {
          "model_module": "@jupyter-widgets/controls",
          "model_name": "FloatProgressModel",
          "model_module_version": "1.5.0",
          "state": {
            "_view_name": "ProgressView",
            "style": "IPY_MODEL_11cb9b63837840c1ad25b19005962d93",
            "_dom_classes": [],
            "description": "100%",
            "_model_name": "FloatProgressModel",
            "bar_style": "success",
            "max": 27,
            "_view_module": "@jupyter-widgets/controls",
            "_model_module_version": "1.5.0",
            "value": 27,
            "_view_count": null,
            "_view_module_version": "1.5.0",
            "orientation": "horizontal",
            "min": 0,
            "description_tooltip": null,
            "_model_module": "@jupyter-widgets/controls",
            "layout": "IPY_MODEL_f030a9c04eb048a2ae3ebf9a1d21abee"
          }
        },
        "aeaa89b6932849d3988f480f667e8a84": {
          "model_module": "@jupyter-widgets/controls",
          "model_name": "HTMLModel",
          "model_module_version": "1.5.0",
          "state": {
            "_view_name": "HTMLView",
            "style": "IPY_MODEL_7c99ace1fad147b9add6f631f065746a",
            "_dom_classes": [],
            "description": "",
            "_model_name": "HTMLModel",
            "placeholder": "​",
            "_view_module": "@jupyter-widgets/controls",
            "_model_module_version": "1.5.0",
            "value": " 27/27 [01:33&lt;00:00,  3.45s/it]",
            "_view_count": null,
            "_view_module_version": "1.5.0",
            "description_tooltip": null,
            "_model_module": "@jupyter-widgets/controls",
            "layout": "IPY_MODEL_a6a17b995ec74e6d8784a92e384329c8"
          }
        },
        "11cb9b63837840c1ad25b19005962d93": {
          "model_module": "@jupyter-widgets/controls",
          "model_name": "ProgressStyleModel",
          "model_module_version": "1.5.0",
          "state": {
            "_view_name": "StyleView",
            "_model_name": "ProgressStyleModel",
            "description_width": "initial",
            "_view_module": "@jupyter-widgets/base",
            "_model_module_version": "1.5.0",
            "_view_count": null,
            "_view_module_version": "1.2.0",
            "bar_color": null,
            "_model_module": "@jupyter-widgets/controls"
          }
        },
        "f030a9c04eb048a2ae3ebf9a1d21abee": {
          "model_module": "@jupyter-widgets/base",
          "model_name": "LayoutModel",
          "model_module_version": "1.2.0",
          "state": {
            "_view_name": "LayoutView",
            "grid_template_rows": null,
            "right": null,
            "justify_content": null,
            "_view_module": "@jupyter-widgets/base",
            "overflow": null,
            "_model_module_version": "1.2.0",
            "_view_count": null,
            "flex_flow": null,
            "width": null,
            "min_width": null,
            "border": null,
            "align_items": null,
            "bottom": null,
            "_model_module": "@jupyter-widgets/base",
            "top": null,
            "grid_column": null,
            "overflow_y": null,
            "overflow_x": null,
            "grid_auto_flow": null,
            "grid_area": null,
            "grid_template_columns": null,
            "flex": null,
            "_model_name": "LayoutModel",
            "justify_items": null,
            "grid_row": null,
            "max_height": null,
            "align_content": null,
            "visibility": null,
            "align_self": null,
            "height": null,
            "min_height": null,
            "padding": null,
            "grid_auto_rows": null,
            "grid_gap": null,
            "max_width": null,
            "order": null,
            "_view_module_version": "1.2.0",
            "grid_template_areas": null,
            "object_position": null,
            "object_fit": null,
            "grid_auto_columns": null,
            "margin": null,
            "display": null,
            "left": null
          }
        },
        "7c99ace1fad147b9add6f631f065746a": {
          "model_module": "@jupyter-widgets/controls",
          "model_name": "DescriptionStyleModel",
          "model_module_version": "1.5.0",
          "state": {
            "_view_name": "StyleView",
            "_model_name": "DescriptionStyleModel",
            "description_width": "",
            "_view_module": "@jupyter-widgets/base",
            "_model_module_version": "1.5.0",
            "_view_count": null,
            "_view_module_version": "1.2.0",
            "_model_module": "@jupyter-widgets/controls"
          }
        },
        "a6a17b995ec74e6d8784a92e384329c8": {
          "model_module": "@jupyter-widgets/base",
          "model_name": "LayoutModel",
          "model_module_version": "1.2.0",
          "state": {
            "_view_name": "LayoutView",
            "grid_template_rows": null,
            "right": null,
            "justify_content": null,
            "_view_module": "@jupyter-widgets/base",
            "overflow": null,
            "_model_module_version": "1.2.0",
            "_view_count": null,
            "flex_flow": null,
            "width": null,
            "min_width": null,
            "border": null,
            "align_items": null,
            "bottom": null,
            "_model_module": "@jupyter-widgets/base",
            "top": null,
            "grid_column": null,
            "overflow_y": null,
            "overflow_x": null,
            "grid_auto_flow": null,
            "grid_area": null,
            "grid_template_columns": null,
            "flex": null,
            "_model_name": "LayoutModel",
            "justify_items": null,
            "grid_row": null,
            "max_height": null,
            "align_content": null,
            "visibility": null,
            "align_self": null,
            "height": null,
            "min_height": null,
            "padding": null,
            "grid_auto_rows": null,
            "grid_gap": null,
            "max_width": null,
            "order": null,
            "_view_module_version": "1.2.0",
            "grid_template_areas": null,
            "object_position": null,
            "object_fit": null,
            "grid_auto_columns": null,
            "margin": null,
            "display": null,
            "left": null
          }
        },
        "8bcccd67888343809b627704043af3df": {
          "model_module": "@jupyter-widgets/controls",
          "model_name": "HBoxModel",
          "model_module_version": "1.5.0",
          "state": {
            "_view_name": "HBoxView",
            "_dom_classes": [],
            "_model_name": "HBoxModel",
            "_view_module": "@jupyter-widgets/controls",
            "_model_module_version": "1.5.0",
            "_view_count": null,
            "_view_module_version": "1.5.0",
            "box_style": "",
            "layout": "IPY_MODEL_ffc37d9130874521891cad45b764207d",
            "_model_module": "@jupyter-widgets/controls",
            "children": [
              "IPY_MODEL_8a5f1890b677481fbe7143d584ec28b2",
              "IPY_MODEL_e0a8eec95ccf41f7b689ed499f91dc31"
            ]
          }
        },
        "ffc37d9130874521891cad45b764207d": {
          "model_module": "@jupyter-widgets/base",
          "model_name": "LayoutModel",
          "model_module_version": "1.2.0",
          "state": {
            "_view_name": "LayoutView",
            "grid_template_rows": null,
            "right": null,
            "justify_content": null,
            "_view_module": "@jupyter-widgets/base",
            "overflow": null,
            "_model_module_version": "1.2.0",
            "_view_count": null,
            "flex_flow": null,
            "width": null,
            "min_width": null,
            "border": null,
            "align_items": null,
            "bottom": null,
            "_model_module": "@jupyter-widgets/base",
            "top": null,
            "grid_column": null,
            "overflow_y": null,
            "overflow_x": null,
            "grid_auto_flow": null,
            "grid_area": null,
            "grid_template_columns": null,
            "flex": null,
            "_model_name": "LayoutModel",
            "justify_items": null,
            "grid_row": null,
            "max_height": null,
            "align_content": null,
            "visibility": null,
            "align_self": null,
            "height": null,
            "min_height": null,
            "padding": null,
            "grid_auto_rows": null,
            "grid_gap": null,
            "max_width": null,
            "order": null,
            "_view_module_version": "1.2.0",
            "grid_template_areas": null,
            "object_position": null,
            "object_fit": null,
            "grid_auto_columns": null,
            "margin": null,
            "display": null,
            "left": null
          }
        },
        "8a5f1890b677481fbe7143d584ec28b2": {
          "model_module": "@jupyter-widgets/controls",
          "model_name": "FloatProgressModel",
          "model_module_version": "1.5.0",
          "state": {
            "_view_name": "ProgressView",
            "style": "IPY_MODEL_9f84f941a17e494487362eb252baa90d",
            "_dom_classes": [],
            "description": "100%",
            "_model_name": "FloatProgressModel",
            "bar_style": "success",
            "max": 29,
            "_view_module": "@jupyter-widgets/controls",
            "_model_module_version": "1.5.0",
            "value": 29,
            "_view_count": null,
            "_view_module_version": "1.5.0",
            "orientation": "horizontal",
            "min": 0,
            "description_tooltip": null,
            "_model_module": "@jupyter-widgets/controls",
            "layout": "IPY_MODEL_2f31bbb6e6124256af117b06ce2af348"
          }
        },
        "e0a8eec95ccf41f7b689ed499f91dc31": {
          "model_module": "@jupyter-widgets/controls",
          "model_name": "HTMLModel",
          "model_module_version": "1.5.0",
          "state": {
            "_view_name": "HTMLView",
            "style": "IPY_MODEL_c21c513576b24c1e8c9df19a83245bfd",
            "_dom_classes": [],
            "description": "",
            "_model_name": "HTMLModel",
            "placeholder": "​",
            "_view_module": "@jupyter-widgets/controls",
            "_model_module_version": "1.5.0",
            "value": " 29/29 [01:23&lt;00:00,  2.87s/it]",
            "_view_count": null,
            "_view_module_version": "1.5.0",
            "description_tooltip": null,
            "_model_module": "@jupyter-widgets/controls",
            "layout": "IPY_MODEL_ae23c6e8e44745779be54204143a7198"
          }
        },
        "9f84f941a17e494487362eb252baa90d": {
          "model_module": "@jupyter-widgets/controls",
          "model_name": "ProgressStyleModel",
          "model_module_version": "1.5.0",
          "state": {
            "_view_name": "StyleView",
            "_model_name": "ProgressStyleModel",
            "description_width": "initial",
            "_view_module": "@jupyter-widgets/base",
            "_model_module_version": "1.5.0",
            "_view_count": null,
            "_view_module_version": "1.2.0",
            "bar_color": null,
            "_model_module": "@jupyter-widgets/controls"
          }
        },
        "2f31bbb6e6124256af117b06ce2af348": {
          "model_module": "@jupyter-widgets/base",
          "model_name": "LayoutModel",
          "model_module_version": "1.2.0",
          "state": {
            "_view_name": "LayoutView",
            "grid_template_rows": null,
            "right": null,
            "justify_content": null,
            "_view_module": "@jupyter-widgets/base",
            "overflow": null,
            "_model_module_version": "1.2.0",
            "_view_count": null,
            "flex_flow": null,
            "width": null,
            "min_width": null,
            "border": null,
            "align_items": null,
            "bottom": null,
            "_model_module": "@jupyter-widgets/base",
            "top": null,
            "grid_column": null,
            "overflow_y": null,
            "overflow_x": null,
            "grid_auto_flow": null,
            "grid_area": null,
            "grid_template_columns": null,
            "flex": null,
            "_model_name": "LayoutModel",
            "justify_items": null,
            "grid_row": null,
            "max_height": null,
            "align_content": null,
            "visibility": null,
            "align_self": null,
            "height": null,
            "min_height": null,
            "padding": null,
            "grid_auto_rows": null,
            "grid_gap": null,
            "max_width": null,
            "order": null,
            "_view_module_version": "1.2.0",
            "grid_template_areas": null,
            "object_position": null,
            "object_fit": null,
            "grid_auto_columns": null,
            "margin": null,
            "display": null,
            "left": null
          }
        },
        "c21c513576b24c1e8c9df19a83245bfd": {
          "model_module": "@jupyter-widgets/controls",
          "model_name": "DescriptionStyleModel",
          "model_module_version": "1.5.0",
          "state": {
            "_view_name": "StyleView",
            "_model_name": "DescriptionStyleModel",
            "description_width": "",
            "_view_module": "@jupyter-widgets/base",
            "_model_module_version": "1.5.0",
            "_view_count": null,
            "_view_module_version": "1.2.0",
            "_model_module": "@jupyter-widgets/controls"
          }
        },
        "ae23c6e8e44745779be54204143a7198": {
          "model_module": "@jupyter-widgets/base",
          "model_name": "LayoutModel",
          "model_module_version": "1.2.0",
          "state": {
            "_view_name": "LayoutView",
            "grid_template_rows": null,
            "right": null,
            "justify_content": null,
            "_view_module": "@jupyter-widgets/base",
            "overflow": null,
            "_model_module_version": "1.2.0",
            "_view_count": null,
            "flex_flow": null,
            "width": null,
            "min_width": null,
            "border": null,
            "align_items": null,
            "bottom": null,
            "_model_module": "@jupyter-widgets/base",
            "top": null,
            "grid_column": null,
            "overflow_y": null,
            "overflow_x": null,
            "grid_auto_flow": null,
            "grid_area": null,
            "grid_template_columns": null,
            "flex": null,
            "_model_name": "LayoutModel",
            "justify_items": null,
            "grid_row": null,
            "max_height": null,
            "align_content": null,
            "visibility": null,
            "align_self": null,
            "height": null,
            "min_height": null,
            "padding": null,
            "grid_auto_rows": null,
            "grid_gap": null,
            "max_width": null,
            "order": null,
            "_view_module_version": "1.2.0",
            "grid_template_areas": null,
            "object_position": null,
            "object_fit": null,
            "grid_auto_columns": null,
            "margin": null,
            "display": null,
            "left": null
          }
        },
        "9e14fdc9a11d48aaa444e1addd1c7f4f": {
          "model_module": "@jupyter-widgets/controls",
          "model_name": "HBoxModel",
          "model_module_version": "1.5.0",
          "state": {
            "_view_name": "HBoxView",
            "_dom_classes": [],
            "_model_name": "HBoxModel",
            "_view_module": "@jupyter-widgets/controls",
            "_model_module_version": "1.5.0",
            "_view_count": null,
            "_view_module_version": "1.5.0",
            "box_style": "",
            "layout": "IPY_MODEL_bbf896ddfdda4391a29ee71e3af77658",
            "_model_module": "@jupyter-widgets/controls",
            "children": [
              "IPY_MODEL_2f23bef2b5be4f508a0f769f932fe24a",
              "IPY_MODEL_16cc20228e194a4a9f5fbb768fba5df1"
            ]
          }
        },
        "bbf896ddfdda4391a29ee71e3af77658": {
          "model_module": "@jupyter-widgets/base",
          "model_name": "LayoutModel",
          "model_module_version": "1.2.0",
          "state": {
            "_view_name": "LayoutView",
            "grid_template_rows": null,
            "right": null,
            "justify_content": null,
            "_view_module": "@jupyter-widgets/base",
            "overflow": null,
            "_model_module_version": "1.2.0",
            "_view_count": null,
            "flex_flow": null,
            "width": null,
            "min_width": null,
            "border": null,
            "align_items": null,
            "bottom": null,
            "_model_module": "@jupyter-widgets/base",
            "top": null,
            "grid_column": null,
            "overflow_y": null,
            "overflow_x": null,
            "grid_auto_flow": null,
            "grid_area": null,
            "grid_template_columns": null,
            "flex": null,
            "_model_name": "LayoutModel",
            "justify_items": null,
            "grid_row": null,
            "max_height": null,
            "align_content": null,
            "visibility": null,
            "align_self": null,
            "height": null,
            "min_height": null,
            "padding": null,
            "grid_auto_rows": null,
            "grid_gap": null,
            "max_width": null,
            "order": null,
            "_view_module_version": "1.2.0",
            "grid_template_areas": null,
            "object_position": null,
            "object_fit": null,
            "grid_auto_columns": null,
            "margin": null,
            "display": null,
            "left": null
          }
        },
        "2f23bef2b5be4f508a0f769f932fe24a": {
          "model_module": "@jupyter-widgets/controls",
          "model_name": "FloatProgressModel",
          "model_module_version": "1.5.0",
          "state": {
            "_view_name": "ProgressView",
            "style": "IPY_MODEL_683fad5956d84de997e1a3fcf651e6a1",
            "_dom_classes": [],
            "description": "100%",
            "_model_name": "FloatProgressModel",
            "bar_style": "success",
            "max": 30,
            "_view_module": "@jupyter-widgets/controls",
            "_model_module_version": "1.5.0",
            "value": 30,
            "_view_count": null,
            "_view_module_version": "1.5.0",
            "orientation": "horizontal",
            "min": 0,
            "description_tooltip": null,
            "_model_module": "@jupyter-widgets/controls",
            "layout": "IPY_MODEL_9260ec569fb1407e9b23a3830acf3bf2"
          }
        },
        "16cc20228e194a4a9f5fbb768fba5df1": {
          "model_module": "@jupyter-widgets/controls",
          "model_name": "HTMLModel",
          "model_module_version": "1.5.0",
          "state": {
            "_view_name": "HTMLView",
            "style": "IPY_MODEL_cfab65d5f0264c04abe2949846300d4f",
            "_dom_classes": [],
            "description": "",
            "_model_name": "HTMLModel",
            "placeholder": "​",
            "_view_module": "@jupyter-widgets/controls",
            "_model_module_version": "1.5.0",
            "value": " 30/30 [01:13&lt;00:00,  2.44s/it]",
            "_view_count": null,
            "_view_module_version": "1.5.0",
            "description_tooltip": null,
            "_model_module": "@jupyter-widgets/controls",
            "layout": "IPY_MODEL_5c245d1b514541d4b2ca92c87ffcfaf6"
          }
        },
        "683fad5956d84de997e1a3fcf651e6a1": {
          "model_module": "@jupyter-widgets/controls",
          "model_name": "ProgressStyleModel",
          "model_module_version": "1.5.0",
          "state": {
            "_view_name": "StyleView",
            "_model_name": "ProgressStyleModel",
            "description_width": "initial",
            "_view_module": "@jupyter-widgets/base",
            "_model_module_version": "1.5.0",
            "_view_count": null,
            "_view_module_version": "1.2.0",
            "bar_color": null,
            "_model_module": "@jupyter-widgets/controls"
          }
        },
        "9260ec569fb1407e9b23a3830acf3bf2": {
          "model_module": "@jupyter-widgets/base",
          "model_name": "LayoutModel",
          "model_module_version": "1.2.0",
          "state": {
            "_view_name": "LayoutView",
            "grid_template_rows": null,
            "right": null,
            "justify_content": null,
            "_view_module": "@jupyter-widgets/base",
            "overflow": null,
            "_model_module_version": "1.2.0",
            "_view_count": null,
            "flex_flow": null,
            "width": null,
            "min_width": null,
            "border": null,
            "align_items": null,
            "bottom": null,
            "_model_module": "@jupyter-widgets/base",
            "top": null,
            "grid_column": null,
            "overflow_y": null,
            "overflow_x": null,
            "grid_auto_flow": null,
            "grid_area": null,
            "grid_template_columns": null,
            "flex": null,
            "_model_name": "LayoutModel",
            "justify_items": null,
            "grid_row": null,
            "max_height": null,
            "align_content": null,
            "visibility": null,
            "align_self": null,
            "height": null,
            "min_height": null,
            "padding": null,
            "grid_auto_rows": null,
            "grid_gap": null,
            "max_width": null,
            "order": null,
            "_view_module_version": "1.2.0",
            "grid_template_areas": null,
            "object_position": null,
            "object_fit": null,
            "grid_auto_columns": null,
            "margin": null,
            "display": null,
            "left": null
          }
        },
        "cfab65d5f0264c04abe2949846300d4f": {
          "model_module": "@jupyter-widgets/controls",
          "model_name": "DescriptionStyleModel",
          "model_module_version": "1.5.0",
          "state": {
            "_view_name": "StyleView",
            "_model_name": "DescriptionStyleModel",
            "description_width": "",
            "_view_module": "@jupyter-widgets/base",
            "_model_module_version": "1.5.0",
            "_view_count": null,
            "_view_module_version": "1.2.0",
            "_model_module": "@jupyter-widgets/controls"
          }
        },
        "5c245d1b514541d4b2ca92c87ffcfaf6": {
          "model_module": "@jupyter-widgets/base",
          "model_name": "LayoutModel",
          "model_module_version": "1.2.0",
          "state": {
            "_view_name": "LayoutView",
            "grid_template_rows": null,
            "right": null,
            "justify_content": null,
            "_view_module": "@jupyter-widgets/base",
            "overflow": null,
            "_model_module_version": "1.2.0",
            "_view_count": null,
            "flex_flow": null,
            "width": null,
            "min_width": null,
            "border": null,
            "align_items": null,
            "bottom": null,
            "_model_module": "@jupyter-widgets/base",
            "top": null,
            "grid_column": null,
            "overflow_y": null,
            "overflow_x": null,
            "grid_auto_flow": null,
            "grid_area": null,
            "grid_template_columns": null,
            "flex": null,
            "_model_name": "LayoutModel",
            "justify_items": null,
            "grid_row": null,
            "max_height": null,
            "align_content": null,
            "visibility": null,
            "align_self": null,
            "height": null,
            "min_height": null,
            "padding": null,
            "grid_auto_rows": null,
            "grid_gap": null,
            "max_width": null,
            "order": null,
            "_view_module_version": "1.2.0",
            "grid_template_areas": null,
            "object_position": null,
            "object_fit": null,
            "grid_auto_columns": null,
            "margin": null,
            "display": null,
            "left": null
          }
        },
        "8da6b468402445469d1c59f0a3a0cd00": {
          "model_module": "@jupyter-widgets/controls",
          "model_name": "HBoxModel",
          "model_module_version": "1.5.0",
          "state": {
            "_view_name": "HBoxView",
            "_dom_classes": [],
            "_model_name": "HBoxModel",
            "_view_module": "@jupyter-widgets/controls",
            "_model_module_version": "1.5.0",
            "_view_count": null,
            "_view_module_version": "1.5.0",
            "box_style": "",
            "layout": "IPY_MODEL_b8c2c8fd8d664d5ab04220dd723e9c05",
            "_model_module": "@jupyter-widgets/controls",
            "children": [
              "IPY_MODEL_8b725b278b25448e9c153fe3e9e6743d",
              "IPY_MODEL_da43912411684e9b8cadc7f54b0521bb"
            ]
          }
        },
        "b8c2c8fd8d664d5ab04220dd723e9c05": {
          "model_module": "@jupyter-widgets/base",
          "model_name": "LayoutModel",
          "model_module_version": "1.2.0",
          "state": {
            "_view_name": "LayoutView",
            "grid_template_rows": null,
            "right": null,
            "justify_content": null,
            "_view_module": "@jupyter-widgets/base",
            "overflow": null,
            "_model_module_version": "1.2.0",
            "_view_count": null,
            "flex_flow": null,
            "width": null,
            "min_width": null,
            "border": null,
            "align_items": null,
            "bottom": null,
            "_model_module": "@jupyter-widgets/base",
            "top": null,
            "grid_column": null,
            "overflow_y": null,
            "overflow_x": null,
            "grid_auto_flow": null,
            "grid_area": null,
            "grid_template_columns": null,
            "flex": null,
            "_model_name": "LayoutModel",
            "justify_items": null,
            "grid_row": null,
            "max_height": null,
            "align_content": null,
            "visibility": null,
            "align_self": null,
            "height": null,
            "min_height": null,
            "padding": null,
            "grid_auto_rows": null,
            "grid_gap": null,
            "max_width": null,
            "order": null,
            "_view_module_version": "1.2.0",
            "grid_template_areas": null,
            "object_position": null,
            "object_fit": null,
            "grid_auto_columns": null,
            "margin": null,
            "display": null,
            "left": null
          }
        },
        "8b725b278b25448e9c153fe3e9e6743d": {
          "model_module": "@jupyter-widgets/controls",
          "model_name": "FloatProgressModel",
          "model_module_version": "1.5.0",
          "state": {
            "_view_name": "ProgressView",
            "style": "IPY_MODEL_64a22514549f480eb41a590f65df7f2d",
            "_dom_classes": [],
            "description": "100%",
            "_model_name": "FloatProgressModel",
            "bar_style": "success",
            "max": 36,
            "_view_module": "@jupyter-widgets/controls",
            "_model_module_version": "1.5.0",
            "value": 36,
            "_view_count": null,
            "_view_module_version": "1.5.0",
            "orientation": "horizontal",
            "min": 0,
            "description_tooltip": null,
            "_model_module": "@jupyter-widgets/controls",
            "layout": "IPY_MODEL_3d6863e03ff24642beae7bf5a9395543"
          }
        },
        "da43912411684e9b8cadc7f54b0521bb": {
          "model_module": "@jupyter-widgets/controls",
          "model_name": "HTMLModel",
          "model_module_version": "1.5.0",
          "state": {
            "_view_name": "HTMLView",
            "style": "IPY_MODEL_1b61ed5b85bc4ea8a12067607b5da907",
            "_dom_classes": [],
            "description": "",
            "_model_name": "HTMLModel",
            "placeholder": "​",
            "_view_module": "@jupyter-widgets/controls",
            "_model_module_version": "1.5.0",
            "value": " 36/36 [01:03&lt;00:00,  1.76s/it]",
            "_view_count": null,
            "_view_module_version": "1.5.0",
            "description_tooltip": null,
            "_model_module": "@jupyter-widgets/controls",
            "layout": "IPY_MODEL_a3cee92f42484b3ea32b7ef83bd8b991"
          }
        },
        "64a22514549f480eb41a590f65df7f2d": {
          "model_module": "@jupyter-widgets/controls",
          "model_name": "ProgressStyleModel",
          "model_module_version": "1.5.0",
          "state": {
            "_view_name": "StyleView",
            "_model_name": "ProgressStyleModel",
            "description_width": "initial",
            "_view_module": "@jupyter-widgets/base",
            "_model_module_version": "1.5.0",
            "_view_count": null,
            "_view_module_version": "1.2.0",
            "bar_color": null,
            "_model_module": "@jupyter-widgets/controls"
          }
        },
        "3d6863e03ff24642beae7bf5a9395543": {
          "model_module": "@jupyter-widgets/base",
          "model_name": "LayoutModel",
          "model_module_version": "1.2.0",
          "state": {
            "_view_name": "LayoutView",
            "grid_template_rows": null,
            "right": null,
            "justify_content": null,
            "_view_module": "@jupyter-widgets/base",
            "overflow": null,
            "_model_module_version": "1.2.0",
            "_view_count": null,
            "flex_flow": null,
            "width": null,
            "min_width": null,
            "border": null,
            "align_items": null,
            "bottom": null,
            "_model_module": "@jupyter-widgets/base",
            "top": null,
            "grid_column": null,
            "overflow_y": null,
            "overflow_x": null,
            "grid_auto_flow": null,
            "grid_area": null,
            "grid_template_columns": null,
            "flex": null,
            "_model_name": "LayoutModel",
            "justify_items": null,
            "grid_row": null,
            "max_height": null,
            "align_content": null,
            "visibility": null,
            "align_self": null,
            "height": null,
            "min_height": null,
            "padding": null,
            "grid_auto_rows": null,
            "grid_gap": null,
            "max_width": null,
            "order": null,
            "_view_module_version": "1.2.0",
            "grid_template_areas": null,
            "object_position": null,
            "object_fit": null,
            "grid_auto_columns": null,
            "margin": null,
            "display": null,
            "left": null
          }
        },
        "1b61ed5b85bc4ea8a12067607b5da907": {
          "model_module": "@jupyter-widgets/controls",
          "model_name": "DescriptionStyleModel",
          "model_module_version": "1.5.0",
          "state": {
            "_view_name": "StyleView",
            "_model_name": "DescriptionStyleModel",
            "description_width": "",
            "_view_module": "@jupyter-widgets/base",
            "_model_module_version": "1.5.0",
            "_view_count": null,
            "_view_module_version": "1.2.0",
            "_model_module": "@jupyter-widgets/controls"
          }
        },
        "a3cee92f42484b3ea32b7ef83bd8b991": {
          "model_module": "@jupyter-widgets/base",
          "model_name": "LayoutModel",
          "model_module_version": "1.2.0",
          "state": {
            "_view_name": "LayoutView",
            "grid_template_rows": null,
            "right": null,
            "justify_content": null,
            "_view_module": "@jupyter-widgets/base",
            "overflow": null,
            "_model_module_version": "1.2.0",
            "_view_count": null,
            "flex_flow": null,
            "width": null,
            "min_width": null,
            "border": null,
            "align_items": null,
            "bottom": null,
            "_model_module": "@jupyter-widgets/base",
            "top": null,
            "grid_column": null,
            "overflow_y": null,
            "overflow_x": null,
            "grid_auto_flow": null,
            "grid_area": null,
            "grid_template_columns": null,
            "flex": null,
            "_model_name": "LayoutModel",
            "justify_items": null,
            "grid_row": null,
            "max_height": null,
            "align_content": null,
            "visibility": null,
            "align_self": null,
            "height": null,
            "min_height": null,
            "padding": null,
            "grid_auto_rows": null,
            "grid_gap": null,
            "max_width": null,
            "order": null,
            "_view_module_version": "1.2.0",
            "grid_template_areas": null,
            "object_position": null,
            "object_fit": null,
            "grid_auto_columns": null,
            "margin": null,
            "display": null,
            "left": null
          }
        },
        "5d07e4e2f8024c28879c3838f3309fdd": {
          "model_module": "@jupyter-widgets/controls",
          "model_name": "HBoxModel",
          "model_module_version": "1.5.0",
          "state": {
            "_view_name": "HBoxView",
            "_dom_classes": [],
            "_model_name": "HBoxModel",
            "_view_module": "@jupyter-widgets/controls",
            "_model_module_version": "1.5.0",
            "_view_count": null,
            "_view_module_version": "1.5.0",
            "box_style": "",
            "layout": "IPY_MODEL_3ec0ee88e3ed4f50bd58f0e4441947c6",
            "_model_module": "@jupyter-widgets/controls",
            "children": [
              "IPY_MODEL_f8a08b212ecd463685923675917843fd",
              "IPY_MODEL_65cdf6975e4d4fc295473f1e492fbec1"
            ]
          }
        },
        "3ec0ee88e3ed4f50bd58f0e4441947c6": {
          "model_module": "@jupyter-widgets/base",
          "model_name": "LayoutModel",
          "model_module_version": "1.2.0",
          "state": {
            "_view_name": "LayoutView",
            "grid_template_rows": null,
            "right": null,
            "justify_content": null,
            "_view_module": "@jupyter-widgets/base",
            "overflow": null,
            "_model_module_version": "1.2.0",
            "_view_count": null,
            "flex_flow": null,
            "width": null,
            "min_width": null,
            "border": null,
            "align_items": null,
            "bottom": null,
            "_model_module": "@jupyter-widgets/base",
            "top": null,
            "grid_column": null,
            "overflow_y": null,
            "overflow_x": null,
            "grid_auto_flow": null,
            "grid_area": null,
            "grid_template_columns": null,
            "flex": null,
            "_model_name": "LayoutModel",
            "justify_items": null,
            "grid_row": null,
            "max_height": null,
            "align_content": null,
            "visibility": null,
            "align_self": null,
            "height": null,
            "min_height": null,
            "padding": null,
            "grid_auto_rows": null,
            "grid_gap": null,
            "max_width": null,
            "order": null,
            "_view_module_version": "1.2.0",
            "grid_template_areas": null,
            "object_position": null,
            "object_fit": null,
            "grid_auto_columns": null,
            "margin": null,
            "display": null,
            "left": null
          }
        },
        "f8a08b212ecd463685923675917843fd": {
          "model_module": "@jupyter-widgets/controls",
          "model_name": "FloatProgressModel",
          "model_module_version": "1.5.0",
          "state": {
            "_view_name": "ProgressView",
            "style": "IPY_MODEL_7bbb454c0d174919962c453e3a92e87e",
            "_dom_classes": [],
            "description": "100%",
            "_model_name": "FloatProgressModel",
            "bar_style": "success",
            "max": 9,
            "_view_module": "@jupyter-widgets/controls",
            "_model_module_version": "1.5.0",
            "value": 9,
            "_view_count": null,
            "_view_module_version": "1.5.0",
            "orientation": "horizontal",
            "min": 0,
            "description_tooltip": null,
            "_model_module": "@jupyter-widgets/controls",
            "layout": "IPY_MODEL_837a1164cba44cf9bb66b235d55b4b7e"
          }
        },
        "65cdf6975e4d4fc295473f1e492fbec1": {
          "model_module": "@jupyter-widgets/controls",
          "model_name": "HTMLModel",
          "model_module_version": "1.5.0",
          "state": {
            "_view_name": "HTMLView",
            "style": "IPY_MODEL_2db53821a9ac426cbe49f0840130dfd4",
            "_dom_classes": [],
            "description": "",
            "_model_name": "HTMLModel",
            "placeholder": "​",
            "_view_module": "@jupyter-widgets/controls",
            "_model_module_version": "1.5.0",
            "value": " 9/9 [00:51&lt;00:00,  5.69s/it]",
            "_view_count": null,
            "_view_module_version": "1.5.0",
            "description_tooltip": null,
            "_model_module": "@jupyter-widgets/controls",
            "layout": "IPY_MODEL_2c61063de2da4095bc1188b3763f862a"
          }
        },
        "7bbb454c0d174919962c453e3a92e87e": {
          "model_module": "@jupyter-widgets/controls",
          "model_name": "ProgressStyleModel",
          "model_module_version": "1.5.0",
          "state": {
            "_view_name": "StyleView",
            "_model_name": "ProgressStyleModel",
            "description_width": "initial",
            "_view_module": "@jupyter-widgets/base",
            "_model_module_version": "1.5.0",
            "_view_count": null,
            "_view_module_version": "1.2.0",
            "bar_color": null,
            "_model_module": "@jupyter-widgets/controls"
          }
        },
        "837a1164cba44cf9bb66b235d55b4b7e": {
          "model_module": "@jupyter-widgets/base",
          "model_name": "LayoutModel",
          "model_module_version": "1.2.0",
          "state": {
            "_view_name": "LayoutView",
            "grid_template_rows": null,
            "right": null,
            "justify_content": null,
            "_view_module": "@jupyter-widgets/base",
            "overflow": null,
            "_model_module_version": "1.2.0",
            "_view_count": null,
            "flex_flow": null,
            "width": null,
            "min_width": null,
            "border": null,
            "align_items": null,
            "bottom": null,
            "_model_module": "@jupyter-widgets/base",
            "top": null,
            "grid_column": null,
            "overflow_y": null,
            "overflow_x": null,
            "grid_auto_flow": null,
            "grid_area": null,
            "grid_template_columns": null,
            "flex": null,
            "_model_name": "LayoutModel",
            "justify_items": null,
            "grid_row": null,
            "max_height": null,
            "align_content": null,
            "visibility": null,
            "align_self": null,
            "height": null,
            "min_height": null,
            "padding": null,
            "grid_auto_rows": null,
            "grid_gap": null,
            "max_width": null,
            "order": null,
            "_view_module_version": "1.2.0",
            "grid_template_areas": null,
            "object_position": null,
            "object_fit": null,
            "grid_auto_columns": null,
            "margin": null,
            "display": null,
            "left": null
          }
        },
        "2db53821a9ac426cbe49f0840130dfd4": {
          "model_module": "@jupyter-widgets/controls",
          "model_name": "DescriptionStyleModel",
          "model_module_version": "1.5.0",
          "state": {
            "_view_name": "StyleView",
            "_model_name": "DescriptionStyleModel",
            "description_width": "",
            "_view_module": "@jupyter-widgets/base",
            "_model_module_version": "1.5.0",
            "_view_count": null,
            "_view_module_version": "1.2.0",
            "_model_module": "@jupyter-widgets/controls"
          }
        },
        "2c61063de2da4095bc1188b3763f862a": {
          "model_module": "@jupyter-widgets/base",
          "model_name": "LayoutModel",
          "model_module_version": "1.2.0",
          "state": {
            "_view_name": "LayoutView",
            "grid_template_rows": null,
            "right": null,
            "justify_content": null,
            "_view_module": "@jupyter-widgets/base",
            "overflow": null,
            "_model_module_version": "1.2.0",
            "_view_count": null,
            "flex_flow": null,
            "width": null,
            "min_width": null,
            "border": null,
            "align_items": null,
            "bottom": null,
            "_model_module": "@jupyter-widgets/base",
            "top": null,
            "grid_column": null,
            "overflow_y": null,
            "overflow_x": null,
            "grid_auto_flow": null,
            "grid_area": null,
            "grid_template_columns": null,
            "flex": null,
            "_model_name": "LayoutModel",
            "justify_items": null,
            "grid_row": null,
            "max_height": null,
            "align_content": null,
            "visibility": null,
            "align_self": null,
            "height": null,
            "min_height": null,
            "padding": null,
            "grid_auto_rows": null,
            "grid_gap": null,
            "max_width": null,
            "order": null,
            "_view_module_version": "1.2.0",
            "grid_template_areas": null,
            "object_position": null,
            "object_fit": null,
            "grid_auto_columns": null,
            "margin": null,
            "display": null,
            "left": null
          }
        },
        "f7eabf60b548404d83643e1123711618": {
          "model_module": "@jupyter-widgets/controls",
          "model_name": "HBoxModel",
          "model_module_version": "1.5.0",
          "state": {
            "_view_name": "HBoxView",
            "_dom_classes": [],
            "_model_name": "HBoxModel",
            "_view_module": "@jupyter-widgets/controls",
            "_model_module_version": "1.5.0",
            "_view_count": null,
            "_view_module_version": "1.5.0",
            "box_style": "",
            "layout": "IPY_MODEL_183aeb7e5ddc42508544b67de85e8fc6",
            "_model_module": "@jupyter-widgets/controls",
            "children": [
              "IPY_MODEL_a78ed1eff11b42db8801f04bfccf7448",
              "IPY_MODEL_231132fdd8d3480bac38856b896f8404"
            ]
          }
        },
        "183aeb7e5ddc42508544b67de85e8fc6": {
          "model_module": "@jupyter-widgets/base",
          "model_name": "LayoutModel",
          "model_module_version": "1.2.0",
          "state": {
            "_view_name": "LayoutView",
            "grid_template_rows": null,
            "right": null,
            "justify_content": null,
            "_view_module": "@jupyter-widgets/base",
            "overflow": null,
            "_model_module_version": "1.2.0",
            "_view_count": null,
            "flex_flow": null,
            "width": null,
            "min_width": null,
            "border": null,
            "align_items": null,
            "bottom": null,
            "_model_module": "@jupyter-widgets/base",
            "top": null,
            "grid_column": null,
            "overflow_y": null,
            "overflow_x": null,
            "grid_auto_flow": null,
            "grid_area": null,
            "grid_template_columns": null,
            "flex": null,
            "_model_name": "LayoutModel",
            "justify_items": null,
            "grid_row": null,
            "max_height": null,
            "align_content": null,
            "visibility": null,
            "align_self": null,
            "height": null,
            "min_height": null,
            "padding": null,
            "grid_auto_rows": null,
            "grid_gap": null,
            "max_width": null,
            "order": null,
            "_view_module_version": "1.2.0",
            "grid_template_areas": null,
            "object_position": null,
            "object_fit": null,
            "grid_auto_columns": null,
            "margin": null,
            "display": null,
            "left": null
          }
        },
        "a78ed1eff11b42db8801f04bfccf7448": {
          "model_module": "@jupyter-widgets/controls",
          "model_name": "FloatProgressModel",
          "model_module_version": "1.5.0",
          "state": {
            "_view_name": "ProgressView",
            "style": "IPY_MODEL_232eff5c20184a69a499d50ab849c026",
            "_dom_classes": [],
            "description": "100%",
            "_model_name": "FloatProgressModel",
            "bar_style": "success",
            "max": 80,
            "_view_module": "@jupyter-widgets/controls",
            "_model_module_version": "1.5.0",
            "value": 80,
            "_view_count": null,
            "_view_module_version": "1.5.0",
            "orientation": "horizontal",
            "min": 0,
            "description_tooltip": null,
            "_model_module": "@jupyter-widgets/controls",
            "layout": "IPY_MODEL_5cdb95ac1bf84add8b888dd67e57ab84"
          }
        },
        "231132fdd8d3480bac38856b896f8404": {
          "model_module": "@jupyter-widgets/controls",
          "model_name": "HTMLModel",
          "model_module_version": "1.5.0",
          "state": {
            "_view_name": "HTMLView",
            "style": "IPY_MODEL_1d1e7e14a6f54c238c5f0ed49b331bfe",
            "_dom_classes": [],
            "description": "",
            "_model_name": "HTMLModel",
            "placeholder": "​",
            "_view_module": "@jupyter-widgets/controls",
            "_model_module_version": "1.5.0",
            "value": " 80/80 [00:47&lt;00:00,  1.67it/s]",
            "_view_count": null,
            "_view_module_version": "1.5.0",
            "description_tooltip": null,
            "_model_module": "@jupyter-widgets/controls",
            "layout": "IPY_MODEL_0b68facab5354bb79699a2773ea3d8b4"
          }
        },
        "232eff5c20184a69a499d50ab849c026": {
          "model_module": "@jupyter-widgets/controls",
          "model_name": "ProgressStyleModel",
          "model_module_version": "1.5.0",
          "state": {
            "_view_name": "StyleView",
            "_model_name": "ProgressStyleModel",
            "description_width": "initial",
            "_view_module": "@jupyter-widgets/base",
            "_model_module_version": "1.5.0",
            "_view_count": null,
            "_view_module_version": "1.2.0",
            "bar_color": null,
            "_model_module": "@jupyter-widgets/controls"
          }
        },
        "5cdb95ac1bf84add8b888dd67e57ab84": {
          "model_module": "@jupyter-widgets/base",
          "model_name": "LayoutModel",
          "model_module_version": "1.2.0",
          "state": {
            "_view_name": "LayoutView",
            "grid_template_rows": null,
            "right": null,
            "justify_content": null,
            "_view_module": "@jupyter-widgets/base",
            "overflow": null,
            "_model_module_version": "1.2.0",
            "_view_count": null,
            "flex_flow": null,
            "width": null,
            "min_width": null,
            "border": null,
            "align_items": null,
            "bottom": null,
            "_model_module": "@jupyter-widgets/base",
            "top": null,
            "grid_column": null,
            "overflow_y": null,
            "overflow_x": null,
            "grid_auto_flow": null,
            "grid_area": null,
            "grid_template_columns": null,
            "flex": null,
            "_model_name": "LayoutModel",
            "justify_items": null,
            "grid_row": null,
            "max_height": null,
            "align_content": null,
            "visibility": null,
            "align_self": null,
            "height": null,
            "min_height": null,
            "padding": null,
            "grid_auto_rows": null,
            "grid_gap": null,
            "max_width": null,
            "order": null,
            "_view_module_version": "1.2.0",
            "grid_template_areas": null,
            "object_position": null,
            "object_fit": null,
            "grid_auto_columns": null,
            "margin": null,
            "display": null,
            "left": null
          }
        },
        "1d1e7e14a6f54c238c5f0ed49b331bfe": {
          "model_module": "@jupyter-widgets/controls",
          "model_name": "DescriptionStyleModel",
          "model_module_version": "1.5.0",
          "state": {
            "_view_name": "StyleView",
            "_model_name": "DescriptionStyleModel",
            "description_width": "",
            "_view_module": "@jupyter-widgets/base",
            "_model_module_version": "1.5.0",
            "_view_count": null,
            "_view_module_version": "1.2.0",
            "_model_module": "@jupyter-widgets/controls"
          }
        },
        "0b68facab5354bb79699a2773ea3d8b4": {
          "model_module": "@jupyter-widgets/base",
          "model_name": "LayoutModel",
          "model_module_version": "1.2.0",
          "state": {
            "_view_name": "LayoutView",
            "grid_template_rows": null,
            "right": null,
            "justify_content": null,
            "_view_module": "@jupyter-widgets/base",
            "overflow": null,
            "_model_module_version": "1.2.0",
            "_view_count": null,
            "flex_flow": null,
            "width": null,
            "min_width": null,
            "border": null,
            "align_items": null,
            "bottom": null,
            "_model_module": "@jupyter-widgets/base",
            "top": null,
            "grid_column": null,
            "overflow_y": null,
            "overflow_x": null,
            "grid_auto_flow": null,
            "grid_area": null,
            "grid_template_columns": null,
            "flex": null,
            "_model_name": "LayoutModel",
            "justify_items": null,
            "grid_row": null,
            "max_height": null,
            "align_content": null,
            "visibility": null,
            "align_self": null,
            "height": null,
            "min_height": null,
            "padding": null,
            "grid_auto_rows": null,
            "grid_gap": null,
            "max_width": null,
            "order": null,
            "_view_module_version": "1.2.0",
            "grid_template_areas": null,
            "object_position": null,
            "object_fit": null,
            "grid_auto_columns": null,
            "margin": null,
            "display": null,
            "left": null
          }
        },
        "40d643fb01e9485e826ce90c328484cb": {
          "model_module": "@jupyter-widgets/controls",
          "model_name": "HBoxModel",
          "model_module_version": "1.5.0",
          "state": {
            "_view_name": "HBoxView",
            "_dom_classes": [],
            "_model_name": "HBoxModel",
            "_view_module": "@jupyter-widgets/controls",
            "_model_module_version": "1.5.0",
            "_view_count": null,
            "_view_module_version": "1.5.0",
            "box_style": "",
            "layout": "IPY_MODEL_b92781c17d594344af986d2d58437343",
            "_model_module": "@jupyter-widgets/controls",
            "children": [
              "IPY_MODEL_c126369c8efd4a8194c67d441928754a",
              "IPY_MODEL_523cd5f4569749fca210eeea7973fe63"
            ]
          }
        },
        "b92781c17d594344af986d2d58437343": {
          "model_module": "@jupyter-widgets/base",
          "model_name": "LayoutModel",
          "model_module_version": "1.2.0",
          "state": {
            "_view_name": "LayoutView",
            "grid_template_rows": null,
            "right": null,
            "justify_content": null,
            "_view_module": "@jupyter-widgets/base",
            "overflow": null,
            "_model_module_version": "1.2.0",
            "_view_count": null,
            "flex_flow": null,
            "width": null,
            "min_width": null,
            "border": null,
            "align_items": null,
            "bottom": null,
            "_model_module": "@jupyter-widgets/base",
            "top": null,
            "grid_column": null,
            "overflow_y": null,
            "overflow_x": null,
            "grid_auto_flow": null,
            "grid_area": null,
            "grid_template_columns": null,
            "flex": null,
            "_model_name": "LayoutModel",
            "justify_items": null,
            "grid_row": null,
            "max_height": null,
            "align_content": null,
            "visibility": null,
            "align_self": null,
            "height": null,
            "min_height": null,
            "padding": null,
            "grid_auto_rows": null,
            "grid_gap": null,
            "max_width": null,
            "order": null,
            "_view_module_version": "1.2.0",
            "grid_template_areas": null,
            "object_position": null,
            "object_fit": null,
            "grid_auto_columns": null,
            "margin": null,
            "display": null,
            "left": null
          }
        },
        "c126369c8efd4a8194c67d441928754a": {
          "model_module": "@jupyter-widgets/controls",
          "model_name": "FloatProgressModel",
          "model_module_version": "1.5.0",
          "state": {
            "_view_name": "ProgressView",
            "style": "IPY_MODEL_3a05f7c6d3c54d3cab9a46cf9f28c190",
            "_dom_classes": [],
            "description": "100%",
            "_model_name": "FloatProgressModel",
            "bar_style": "success",
            "max": 48,
            "_view_module": "@jupyter-widgets/controls",
            "_model_module_version": "1.5.0",
            "value": 48,
            "_view_count": null,
            "_view_module_version": "1.5.0",
            "orientation": "horizontal",
            "min": 0,
            "description_tooltip": null,
            "_model_module": "@jupyter-widgets/controls",
            "layout": "IPY_MODEL_164f4e834a9d41feb1129645819c6529"
          }
        },
        "523cd5f4569749fca210eeea7973fe63": {
          "model_module": "@jupyter-widgets/controls",
          "model_name": "HTMLModel",
          "model_module_version": "1.5.0",
          "state": {
            "_view_name": "HTMLView",
            "style": "IPY_MODEL_ddb794eb508746d48f2dd45be559ae1a",
            "_dom_classes": [],
            "description": "",
            "_model_name": "HTMLModel",
            "placeholder": "​",
            "_view_module": "@jupyter-widgets/controls",
            "_model_module_version": "1.5.0",
            "value": " 48/48 [00:20&lt;00:00,  2.30it/s]",
            "_view_count": null,
            "_view_module_version": "1.5.0",
            "description_tooltip": null,
            "_model_module": "@jupyter-widgets/controls",
            "layout": "IPY_MODEL_8259dcf5e50f476f8d62b362f5a728c9"
          }
        },
        "3a05f7c6d3c54d3cab9a46cf9f28c190": {
          "model_module": "@jupyter-widgets/controls",
          "model_name": "ProgressStyleModel",
          "model_module_version": "1.5.0",
          "state": {
            "_view_name": "StyleView",
            "_model_name": "ProgressStyleModel",
            "description_width": "initial",
            "_view_module": "@jupyter-widgets/base",
            "_model_module_version": "1.5.0",
            "_view_count": null,
            "_view_module_version": "1.2.0",
            "bar_color": null,
            "_model_module": "@jupyter-widgets/controls"
          }
        },
        "164f4e834a9d41feb1129645819c6529": {
          "model_module": "@jupyter-widgets/base",
          "model_name": "LayoutModel",
          "model_module_version": "1.2.0",
          "state": {
            "_view_name": "LayoutView",
            "grid_template_rows": null,
            "right": null,
            "justify_content": null,
            "_view_module": "@jupyter-widgets/base",
            "overflow": null,
            "_model_module_version": "1.2.0",
            "_view_count": null,
            "flex_flow": null,
            "width": null,
            "min_width": null,
            "border": null,
            "align_items": null,
            "bottom": null,
            "_model_module": "@jupyter-widgets/base",
            "top": null,
            "grid_column": null,
            "overflow_y": null,
            "overflow_x": null,
            "grid_auto_flow": null,
            "grid_area": null,
            "grid_template_columns": null,
            "flex": null,
            "_model_name": "LayoutModel",
            "justify_items": null,
            "grid_row": null,
            "max_height": null,
            "align_content": null,
            "visibility": null,
            "align_self": null,
            "height": null,
            "min_height": null,
            "padding": null,
            "grid_auto_rows": null,
            "grid_gap": null,
            "max_width": null,
            "order": null,
            "_view_module_version": "1.2.0",
            "grid_template_areas": null,
            "object_position": null,
            "object_fit": null,
            "grid_auto_columns": null,
            "margin": null,
            "display": null,
            "left": null
          }
        },
        "ddb794eb508746d48f2dd45be559ae1a": {
          "model_module": "@jupyter-widgets/controls",
          "model_name": "DescriptionStyleModel",
          "model_module_version": "1.5.0",
          "state": {
            "_view_name": "StyleView",
            "_model_name": "DescriptionStyleModel",
            "description_width": "",
            "_view_module": "@jupyter-widgets/base",
            "_model_module_version": "1.5.0",
            "_view_count": null,
            "_view_module_version": "1.2.0",
            "_model_module": "@jupyter-widgets/controls"
          }
        },
        "8259dcf5e50f476f8d62b362f5a728c9": {
          "model_module": "@jupyter-widgets/base",
          "model_name": "LayoutModel",
          "model_module_version": "1.2.0",
          "state": {
            "_view_name": "LayoutView",
            "grid_template_rows": null,
            "right": null,
            "justify_content": null,
            "_view_module": "@jupyter-widgets/base",
            "overflow": null,
            "_model_module_version": "1.2.0",
            "_view_count": null,
            "flex_flow": null,
            "width": null,
            "min_width": null,
            "border": null,
            "align_items": null,
            "bottom": null,
            "_model_module": "@jupyter-widgets/base",
            "top": null,
            "grid_column": null,
            "overflow_y": null,
            "overflow_x": null,
            "grid_auto_flow": null,
            "grid_area": null,
            "grid_template_columns": null,
            "flex": null,
            "_model_name": "LayoutModel",
            "justify_items": null,
            "grid_row": null,
            "max_height": null,
            "align_content": null,
            "visibility": null,
            "align_self": null,
            "height": null,
            "min_height": null,
            "padding": null,
            "grid_auto_rows": null,
            "grid_gap": null,
            "max_width": null,
            "order": null,
            "_view_module_version": "1.2.0",
            "grid_template_areas": null,
            "object_position": null,
            "object_fit": null,
            "grid_auto_columns": null,
            "margin": null,
            "display": null,
            "left": null
          }
        },
        "b13668c75c1c44b891c2cc3b3eead369": {
          "model_module": "@jupyter-widgets/controls",
          "model_name": "HBoxModel",
          "model_module_version": "1.5.0",
          "state": {
            "_view_name": "HBoxView",
            "_dom_classes": [],
            "_model_name": "HBoxModel",
            "_view_module": "@jupyter-widgets/controls",
            "_model_module_version": "1.5.0",
            "_view_count": null,
            "_view_module_version": "1.5.0",
            "box_style": "",
            "layout": "IPY_MODEL_40d4c98366474b5f943bdaccb16be3c6",
            "_model_module": "@jupyter-widgets/controls",
            "children": [
              "IPY_MODEL_7fe85e6c388d479b912654f88df8223a",
              "IPY_MODEL_c2597e325d8840a2814c1c3e851db7f3"
            ]
          }
        },
        "40d4c98366474b5f943bdaccb16be3c6": {
          "model_module": "@jupyter-widgets/base",
          "model_name": "LayoutModel",
          "model_module_version": "1.2.0",
          "state": {
            "_view_name": "LayoutView",
            "grid_template_rows": null,
            "right": null,
            "justify_content": null,
            "_view_module": "@jupyter-widgets/base",
            "overflow": null,
            "_model_module_version": "1.2.0",
            "_view_count": null,
            "flex_flow": null,
            "width": null,
            "min_width": null,
            "border": null,
            "align_items": null,
            "bottom": null,
            "_model_module": "@jupyter-widgets/base",
            "top": null,
            "grid_column": null,
            "overflow_y": null,
            "overflow_x": null,
            "grid_auto_flow": null,
            "grid_area": null,
            "grid_template_columns": null,
            "flex": null,
            "_model_name": "LayoutModel",
            "justify_items": null,
            "grid_row": null,
            "max_height": null,
            "align_content": null,
            "visibility": null,
            "align_self": null,
            "height": null,
            "min_height": null,
            "padding": null,
            "grid_auto_rows": null,
            "grid_gap": null,
            "max_width": null,
            "order": null,
            "_view_module_version": "1.2.0",
            "grid_template_areas": null,
            "object_position": null,
            "object_fit": null,
            "grid_auto_columns": null,
            "margin": null,
            "display": null,
            "left": null
          }
        },
        "7fe85e6c388d479b912654f88df8223a": {
          "model_module": "@jupyter-widgets/controls",
          "model_name": "FloatProgressModel",
          "model_module_version": "1.5.0",
          "state": {
            "_view_name": "ProgressView",
            "style": "IPY_MODEL_9cf8bc85f0ac44eebe58be2626765511",
            "_dom_classes": [],
            "description": "100%",
            "_model_name": "FloatProgressModel",
            "bar_style": "success",
            "max": 24,
            "_view_module": "@jupyter-widgets/controls",
            "_model_module_version": "1.5.0",
            "value": 24,
            "_view_count": null,
            "_view_module_version": "1.5.0",
            "orientation": "horizontal",
            "min": 0,
            "description_tooltip": null,
            "_model_module": "@jupyter-widgets/controls",
            "layout": "IPY_MODEL_9a628d55644c45b08c480e18007f153d"
          }
        },
        "c2597e325d8840a2814c1c3e851db7f3": {
          "model_module": "@jupyter-widgets/controls",
          "model_name": "HTMLModel",
          "model_module_version": "1.5.0",
          "state": {
            "_view_name": "HTMLView",
            "style": "IPY_MODEL_209b058ba3954494b05bcf2a756cbfc1",
            "_dom_classes": [],
            "description": "",
            "_model_name": "HTMLModel",
            "placeholder": "​",
            "_view_module": "@jupyter-widgets/controls",
            "_model_module_version": "1.5.0",
            "value": " 24/24 [00:08&lt;00:00,  2.91it/s]",
            "_view_count": null,
            "_view_module_version": "1.5.0",
            "description_tooltip": null,
            "_model_module": "@jupyter-widgets/controls",
            "layout": "IPY_MODEL_19b1d6a6786e4af59c43513606019188"
          }
        },
        "9cf8bc85f0ac44eebe58be2626765511": {
          "model_module": "@jupyter-widgets/controls",
          "model_name": "ProgressStyleModel",
          "model_module_version": "1.5.0",
          "state": {
            "_view_name": "StyleView",
            "_model_name": "ProgressStyleModel",
            "description_width": "initial",
            "_view_module": "@jupyter-widgets/base",
            "_model_module_version": "1.5.0",
            "_view_count": null,
            "_view_module_version": "1.2.0",
            "bar_color": null,
            "_model_module": "@jupyter-widgets/controls"
          }
        },
        "9a628d55644c45b08c480e18007f153d": {
          "model_module": "@jupyter-widgets/base",
          "model_name": "LayoutModel",
          "model_module_version": "1.2.0",
          "state": {
            "_view_name": "LayoutView",
            "grid_template_rows": null,
            "right": null,
            "justify_content": null,
            "_view_module": "@jupyter-widgets/base",
            "overflow": null,
            "_model_module_version": "1.2.0",
            "_view_count": null,
            "flex_flow": null,
            "width": null,
            "min_width": null,
            "border": null,
            "align_items": null,
            "bottom": null,
            "_model_module": "@jupyter-widgets/base",
            "top": null,
            "grid_column": null,
            "overflow_y": null,
            "overflow_x": null,
            "grid_auto_flow": null,
            "grid_area": null,
            "grid_template_columns": null,
            "flex": null,
            "_model_name": "LayoutModel",
            "justify_items": null,
            "grid_row": null,
            "max_height": null,
            "align_content": null,
            "visibility": null,
            "align_self": null,
            "height": null,
            "min_height": null,
            "padding": null,
            "grid_auto_rows": null,
            "grid_gap": null,
            "max_width": null,
            "order": null,
            "_view_module_version": "1.2.0",
            "grid_template_areas": null,
            "object_position": null,
            "object_fit": null,
            "grid_auto_columns": null,
            "margin": null,
            "display": null,
            "left": null
          }
        },
        "209b058ba3954494b05bcf2a756cbfc1": {
          "model_module": "@jupyter-widgets/controls",
          "model_name": "DescriptionStyleModel",
          "model_module_version": "1.5.0",
          "state": {
            "_view_name": "StyleView",
            "_model_name": "DescriptionStyleModel",
            "description_width": "",
            "_view_module": "@jupyter-widgets/base",
            "_model_module_version": "1.5.0",
            "_view_count": null,
            "_view_module_version": "1.2.0",
            "_model_module": "@jupyter-widgets/controls"
          }
        },
        "19b1d6a6786e4af59c43513606019188": {
          "model_module": "@jupyter-widgets/base",
          "model_name": "LayoutModel",
          "model_module_version": "1.2.0",
          "state": {
            "_view_name": "LayoutView",
            "grid_template_rows": null,
            "right": null,
            "justify_content": null,
            "_view_module": "@jupyter-widgets/base",
            "overflow": null,
            "_model_module_version": "1.2.0",
            "_view_count": null,
            "flex_flow": null,
            "width": null,
            "min_width": null,
            "border": null,
            "align_items": null,
            "bottom": null,
            "_model_module": "@jupyter-widgets/base",
            "top": null,
            "grid_column": null,
            "overflow_y": null,
            "overflow_x": null,
            "grid_auto_flow": null,
            "grid_area": null,
            "grid_template_columns": null,
            "flex": null,
            "_model_name": "LayoutModel",
            "justify_items": null,
            "grid_row": null,
            "max_height": null,
            "align_content": null,
            "visibility": null,
            "align_self": null,
            "height": null,
            "min_height": null,
            "padding": null,
            "grid_auto_rows": null,
            "grid_gap": null,
            "max_width": null,
            "order": null,
            "_view_module_version": "1.2.0",
            "grid_template_areas": null,
            "object_position": null,
            "object_fit": null,
            "grid_auto_columns": null,
            "margin": null,
            "display": null,
            "left": null
          }
        },
        "6ef940ea07924f12b14017253f0fa014": {
          "model_module": "@jupyter-widgets/controls",
          "model_name": "HBoxModel",
          "model_module_version": "1.5.0",
          "state": {
            "_view_name": "HBoxView",
            "_dom_classes": [],
            "_model_name": "HBoxModel",
            "_view_module": "@jupyter-widgets/controls",
            "_model_module_version": "1.5.0",
            "_view_count": null,
            "_view_module_version": "1.5.0",
            "box_style": "",
            "layout": "IPY_MODEL_d582f94524fa406b84dcd8c02c8cba31",
            "_model_module": "@jupyter-widgets/controls",
            "children": [
              "IPY_MODEL_7db59974e6cc433d8310c897819aa6b2",
              "IPY_MODEL_4fa79a8fc6cd432894c6f69e20fcd958"
            ]
          }
        },
        "d582f94524fa406b84dcd8c02c8cba31": {
          "model_module": "@jupyter-widgets/base",
          "model_name": "LayoutModel",
          "model_module_version": "1.2.0",
          "state": {
            "_view_name": "LayoutView",
            "grid_template_rows": null,
            "right": null,
            "justify_content": null,
            "_view_module": "@jupyter-widgets/base",
            "overflow": null,
            "_model_module_version": "1.2.0",
            "_view_count": null,
            "flex_flow": null,
            "width": null,
            "min_width": null,
            "border": null,
            "align_items": null,
            "bottom": null,
            "_model_module": "@jupyter-widgets/base",
            "top": null,
            "grid_column": null,
            "overflow_y": null,
            "overflow_x": null,
            "grid_auto_flow": null,
            "grid_area": null,
            "grid_template_columns": null,
            "flex": null,
            "_model_name": "LayoutModel",
            "justify_items": null,
            "grid_row": null,
            "max_height": null,
            "align_content": null,
            "visibility": null,
            "align_self": null,
            "height": null,
            "min_height": null,
            "padding": null,
            "grid_auto_rows": null,
            "grid_gap": null,
            "max_width": null,
            "order": null,
            "_view_module_version": "1.2.0",
            "grid_template_areas": null,
            "object_position": null,
            "object_fit": null,
            "grid_auto_columns": null,
            "margin": null,
            "display": null,
            "left": null
          }
        },
        "7db59974e6cc433d8310c897819aa6b2": {
          "model_module": "@jupyter-widgets/controls",
          "model_name": "FloatProgressModel",
          "model_module_version": "1.5.0",
          "state": {
            "_view_name": "ProgressView",
            "style": "IPY_MODEL_5403e7c0ce72497695dde16ee51dc445",
            "_dom_classes": [],
            "description": "100%",
            "_model_name": "FloatProgressModel",
            "bar_style": "success",
            "max": 44,
            "_view_module": "@jupyter-widgets/controls",
            "_model_module_version": "1.5.0",
            "value": 44,
            "_view_count": null,
            "_view_module_version": "1.5.0",
            "orientation": "horizontal",
            "min": 0,
            "description_tooltip": null,
            "_model_module": "@jupyter-widgets/controls",
            "layout": "IPY_MODEL_1c83a288ad294bb1ae44dbfb5d72fe40"
          }
        },
        "4fa79a8fc6cd432894c6f69e20fcd958": {
          "model_module": "@jupyter-widgets/controls",
          "model_name": "HTMLModel",
          "model_module_version": "1.5.0",
          "state": {
            "_view_name": "HTMLView",
            "style": "IPY_MODEL_b4c62c8c4d0f4c34b6114178125b09b8",
            "_dom_classes": [],
            "description": "",
            "_model_name": "HTMLModel",
            "placeholder": "​",
            "_view_module": "@jupyter-widgets/controls",
            "_model_module_version": "1.5.0",
            "value": " 44/44 [00:16&lt;00:00,  2.60it/s]",
            "_view_count": null,
            "_view_module_version": "1.5.0",
            "description_tooltip": null,
            "_model_module": "@jupyter-widgets/controls",
            "layout": "IPY_MODEL_75b9cc5581e442c4bbcc7b97554e916c"
          }
        },
        "5403e7c0ce72497695dde16ee51dc445": {
          "model_module": "@jupyter-widgets/controls",
          "model_name": "ProgressStyleModel",
          "model_module_version": "1.5.0",
          "state": {
            "_view_name": "StyleView",
            "_model_name": "ProgressStyleModel",
            "description_width": "initial",
            "_view_module": "@jupyter-widgets/base",
            "_model_module_version": "1.5.0",
            "_view_count": null,
            "_view_module_version": "1.2.0",
            "bar_color": null,
            "_model_module": "@jupyter-widgets/controls"
          }
        },
        "1c83a288ad294bb1ae44dbfb5d72fe40": {
          "model_module": "@jupyter-widgets/base",
          "model_name": "LayoutModel",
          "model_module_version": "1.2.0",
          "state": {
            "_view_name": "LayoutView",
            "grid_template_rows": null,
            "right": null,
            "justify_content": null,
            "_view_module": "@jupyter-widgets/base",
            "overflow": null,
            "_model_module_version": "1.2.0",
            "_view_count": null,
            "flex_flow": null,
            "width": null,
            "min_width": null,
            "border": null,
            "align_items": null,
            "bottom": null,
            "_model_module": "@jupyter-widgets/base",
            "top": null,
            "grid_column": null,
            "overflow_y": null,
            "overflow_x": null,
            "grid_auto_flow": null,
            "grid_area": null,
            "grid_template_columns": null,
            "flex": null,
            "_model_name": "LayoutModel",
            "justify_items": null,
            "grid_row": null,
            "max_height": null,
            "align_content": null,
            "visibility": null,
            "align_self": null,
            "height": null,
            "min_height": null,
            "padding": null,
            "grid_auto_rows": null,
            "grid_gap": null,
            "max_width": null,
            "order": null,
            "_view_module_version": "1.2.0",
            "grid_template_areas": null,
            "object_position": null,
            "object_fit": null,
            "grid_auto_columns": null,
            "margin": null,
            "display": null,
            "left": null
          }
        },
        "b4c62c8c4d0f4c34b6114178125b09b8": {
          "model_module": "@jupyter-widgets/controls",
          "model_name": "DescriptionStyleModel",
          "model_module_version": "1.5.0",
          "state": {
            "_view_name": "StyleView",
            "_model_name": "DescriptionStyleModel",
            "description_width": "",
            "_view_module": "@jupyter-widgets/base",
            "_model_module_version": "1.5.0",
            "_view_count": null,
            "_view_module_version": "1.2.0",
            "_model_module": "@jupyter-widgets/controls"
          }
        },
        "75b9cc5581e442c4bbcc7b97554e916c": {
          "model_module": "@jupyter-widgets/base",
          "model_name": "LayoutModel",
          "model_module_version": "1.2.0",
          "state": {
            "_view_name": "LayoutView",
            "grid_template_rows": null,
            "right": null,
            "justify_content": null,
            "_view_module": "@jupyter-widgets/base",
            "overflow": null,
            "_model_module_version": "1.2.0",
            "_view_count": null,
            "flex_flow": null,
            "width": null,
            "min_width": null,
            "border": null,
            "align_items": null,
            "bottom": null,
            "_model_module": "@jupyter-widgets/base",
            "top": null,
            "grid_column": null,
            "overflow_y": null,
            "overflow_x": null,
            "grid_auto_flow": null,
            "grid_area": null,
            "grid_template_columns": null,
            "flex": null,
            "_model_name": "LayoutModel",
            "justify_items": null,
            "grid_row": null,
            "max_height": null,
            "align_content": null,
            "visibility": null,
            "align_self": null,
            "height": null,
            "min_height": null,
            "padding": null,
            "grid_auto_rows": null,
            "grid_gap": null,
            "max_width": null,
            "order": null,
            "_view_module_version": "1.2.0",
            "grid_template_areas": null,
            "object_position": null,
            "object_fit": null,
            "grid_auto_columns": null,
            "margin": null,
            "display": null,
            "left": null
          }
        },
        "afbdad81be5d491985884e86b11871a3": {
          "model_module": "@jupyter-widgets/controls",
          "model_name": "HBoxModel",
          "model_module_version": "1.5.0",
          "state": {
            "_view_name": "HBoxView",
            "_dom_classes": [],
            "_model_name": "HBoxModel",
            "_view_module": "@jupyter-widgets/controls",
            "_model_module_version": "1.5.0",
            "_view_count": null,
            "_view_module_version": "1.5.0",
            "box_style": "",
            "layout": "IPY_MODEL_b07589ff205e4f2ba722d7147681d376",
            "_model_module": "@jupyter-widgets/controls",
            "children": [
              "IPY_MODEL_5ec8c87dbc68478492f70a192c0008f8",
              "IPY_MODEL_a3cc1e5e9f5246b296f83708a269feff"
            ]
          }
        },
        "b07589ff205e4f2ba722d7147681d376": {
          "model_module": "@jupyter-widgets/base",
          "model_name": "LayoutModel",
          "model_module_version": "1.2.0",
          "state": {
            "_view_name": "LayoutView",
            "grid_template_rows": null,
            "right": null,
            "justify_content": null,
            "_view_module": "@jupyter-widgets/base",
            "overflow": null,
            "_model_module_version": "1.2.0",
            "_view_count": null,
            "flex_flow": null,
            "width": null,
            "min_width": null,
            "border": null,
            "align_items": null,
            "bottom": null,
            "_model_module": "@jupyter-widgets/base",
            "top": null,
            "grid_column": null,
            "overflow_y": null,
            "overflow_x": null,
            "grid_auto_flow": null,
            "grid_area": null,
            "grid_template_columns": null,
            "flex": null,
            "_model_name": "LayoutModel",
            "justify_items": null,
            "grid_row": null,
            "max_height": null,
            "align_content": null,
            "visibility": null,
            "align_self": null,
            "height": null,
            "min_height": null,
            "padding": null,
            "grid_auto_rows": null,
            "grid_gap": null,
            "max_width": null,
            "order": null,
            "_view_module_version": "1.2.0",
            "grid_template_areas": null,
            "object_position": null,
            "object_fit": null,
            "grid_auto_columns": null,
            "margin": null,
            "display": null,
            "left": null
          }
        },
        "5ec8c87dbc68478492f70a192c0008f8": {
          "model_module": "@jupyter-widgets/controls",
          "model_name": "FloatProgressModel",
          "model_module_version": "1.5.0",
          "state": {
            "_view_name": "ProgressView",
            "style": "IPY_MODEL_70e67d9d228e49749177798177041a99",
            "_dom_classes": [],
            "description": "100%",
            "_model_name": "FloatProgressModel",
            "bar_style": "success",
            "max": 17,
            "_view_module": "@jupyter-widgets/controls",
            "_model_module_version": "1.5.0",
            "value": 17,
            "_view_count": null,
            "_view_module_version": "1.5.0",
            "orientation": "horizontal",
            "min": 0,
            "description_tooltip": null,
            "_model_module": "@jupyter-widgets/controls",
            "layout": "IPY_MODEL_edd9689b7d2c414e9e74bd328f2b562d"
          }
        },
        "a3cc1e5e9f5246b296f83708a269feff": {
          "model_module": "@jupyter-widgets/controls",
          "model_name": "HTMLModel",
          "model_module_version": "1.5.0",
          "state": {
            "_view_name": "HTMLView",
            "style": "IPY_MODEL_1736c2ab9b254fa8ab4b725c43deac2f",
            "_dom_classes": [],
            "description": "",
            "_model_name": "HTMLModel",
            "placeholder": "​",
            "_view_module": "@jupyter-widgets/controls",
            "_model_module_version": "1.5.0",
            "value": " 17/17 [00:05&lt;00:00,  3.06it/s]",
            "_view_count": null,
            "_view_module_version": "1.5.0",
            "description_tooltip": null,
            "_model_module": "@jupyter-widgets/controls",
            "layout": "IPY_MODEL_aea28beeddba479bbea99f9e1f3fd7c4"
          }
        },
        "70e67d9d228e49749177798177041a99": {
          "model_module": "@jupyter-widgets/controls",
          "model_name": "ProgressStyleModel",
          "model_module_version": "1.5.0",
          "state": {
            "_view_name": "StyleView",
            "_model_name": "ProgressStyleModel",
            "description_width": "initial",
            "_view_module": "@jupyter-widgets/base",
            "_model_module_version": "1.5.0",
            "_view_count": null,
            "_view_module_version": "1.2.0",
            "bar_color": null,
            "_model_module": "@jupyter-widgets/controls"
          }
        },
        "edd9689b7d2c414e9e74bd328f2b562d": {
          "model_module": "@jupyter-widgets/base",
          "model_name": "LayoutModel",
          "model_module_version": "1.2.0",
          "state": {
            "_view_name": "LayoutView",
            "grid_template_rows": null,
            "right": null,
            "justify_content": null,
            "_view_module": "@jupyter-widgets/base",
            "overflow": null,
            "_model_module_version": "1.2.0",
            "_view_count": null,
            "flex_flow": null,
            "width": null,
            "min_width": null,
            "border": null,
            "align_items": null,
            "bottom": null,
            "_model_module": "@jupyter-widgets/base",
            "top": null,
            "grid_column": null,
            "overflow_y": null,
            "overflow_x": null,
            "grid_auto_flow": null,
            "grid_area": null,
            "grid_template_columns": null,
            "flex": null,
            "_model_name": "LayoutModel",
            "justify_items": null,
            "grid_row": null,
            "max_height": null,
            "align_content": null,
            "visibility": null,
            "align_self": null,
            "height": null,
            "min_height": null,
            "padding": null,
            "grid_auto_rows": null,
            "grid_gap": null,
            "max_width": null,
            "order": null,
            "_view_module_version": "1.2.0",
            "grid_template_areas": null,
            "object_position": null,
            "object_fit": null,
            "grid_auto_columns": null,
            "margin": null,
            "display": null,
            "left": null
          }
        },
        "1736c2ab9b254fa8ab4b725c43deac2f": {
          "model_module": "@jupyter-widgets/controls",
          "model_name": "DescriptionStyleModel",
          "model_module_version": "1.5.0",
          "state": {
            "_view_name": "StyleView",
            "_model_name": "DescriptionStyleModel",
            "description_width": "",
            "_view_module": "@jupyter-widgets/base",
            "_model_module_version": "1.5.0",
            "_view_count": null,
            "_view_module_version": "1.2.0",
            "_model_module": "@jupyter-widgets/controls"
          }
        },
        "aea28beeddba479bbea99f9e1f3fd7c4": {
          "model_module": "@jupyter-widgets/base",
          "model_name": "LayoutModel",
          "model_module_version": "1.2.0",
          "state": {
            "_view_name": "LayoutView",
            "grid_template_rows": null,
            "right": null,
            "justify_content": null,
            "_view_module": "@jupyter-widgets/base",
            "overflow": null,
            "_model_module_version": "1.2.0",
            "_view_count": null,
            "flex_flow": null,
            "width": null,
            "min_width": null,
            "border": null,
            "align_items": null,
            "bottom": null,
            "_model_module": "@jupyter-widgets/base",
            "top": null,
            "grid_column": null,
            "overflow_y": null,
            "overflow_x": null,
            "grid_auto_flow": null,
            "grid_area": null,
            "grid_template_columns": null,
            "flex": null,
            "_model_name": "LayoutModel",
            "justify_items": null,
            "grid_row": null,
            "max_height": null,
            "align_content": null,
            "visibility": null,
            "align_self": null,
            "height": null,
            "min_height": null,
            "padding": null,
            "grid_auto_rows": null,
            "grid_gap": null,
            "max_width": null,
            "order": null,
            "_view_module_version": "1.2.0",
            "grid_template_areas": null,
            "object_position": null,
            "object_fit": null,
            "grid_auto_columns": null,
            "margin": null,
            "display": null,
            "left": null
          }
        },
        "8cc16cd58e494d9ab9c7bab1a9b1a4e5": {
          "model_module": "@jupyter-widgets/controls",
          "model_name": "HBoxModel",
          "model_module_version": "1.5.0",
          "state": {
            "_view_name": "HBoxView",
            "_dom_classes": [],
            "_model_name": "HBoxModel",
            "_view_module": "@jupyter-widgets/controls",
            "_model_module_version": "1.5.0",
            "_view_count": null,
            "_view_module_version": "1.5.0",
            "box_style": "",
            "layout": "IPY_MODEL_f70aadce14834adf9e4d128858550212",
            "_model_module": "@jupyter-widgets/controls",
            "children": [
              "IPY_MODEL_a26f42f8899749e88fde3bdb7b479e46",
              "IPY_MODEL_b0df99c9878644f785a151ecc67e8207"
            ]
          }
        },
        "f70aadce14834adf9e4d128858550212": {
          "model_module": "@jupyter-widgets/base",
          "model_name": "LayoutModel",
          "model_module_version": "1.2.0",
          "state": {
            "_view_name": "LayoutView",
            "grid_template_rows": null,
            "right": null,
            "justify_content": null,
            "_view_module": "@jupyter-widgets/base",
            "overflow": null,
            "_model_module_version": "1.2.0",
            "_view_count": null,
            "flex_flow": null,
            "width": null,
            "min_width": null,
            "border": null,
            "align_items": null,
            "bottom": null,
            "_model_module": "@jupyter-widgets/base",
            "top": null,
            "grid_column": null,
            "overflow_y": null,
            "overflow_x": null,
            "grid_auto_flow": null,
            "grid_area": null,
            "grid_template_columns": null,
            "flex": null,
            "_model_name": "LayoutModel",
            "justify_items": null,
            "grid_row": null,
            "max_height": null,
            "align_content": null,
            "visibility": null,
            "align_self": null,
            "height": null,
            "min_height": null,
            "padding": null,
            "grid_auto_rows": null,
            "grid_gap": null,
            "max_width": null,
            "order": null,
            "_view_module_version": "1.2.0",
            "grid_template_areas": null,
            "object_position": null,
            "object_fit": null,
            "grid_auto_columns": null,
            "margin": null,
            "display": null,
            "left": null
          }
        },
        "a26f42f8899749e88fde3bdb7b479e46": {
          "model_module": "@jupyter-widgets/controls",
          "model_name": "FloatProgressModel",
          "model_module_version": "1.5.0",
          "state": {
            "_view_name": "ProgressView",
            "style": "IPY_MODEL_2e4fa39ad3f8440ea323cb6db8c9bfa9",
            "_dom_classes": [],
            "description": "100%",
            "_model_name": "FloatProgressModel",
            "bar_style": "success",
            "max": 17,
            "_view_module": "@jupyter-widgets/controls",
            "_model_module_version": "1.5.0",
            "value": 17,
            "_view_count": null,
            "_view_module_version": "1.5.0",
            "orientation": "horizontal",
            "min": 0,
            "description_tooltip": null,
            "_model_module": "@jupyter-widgets/controls",
            "layout": "IPY_MODEL_4b646ccffb994d539287258b18d195ea"
          }
        },
        "b0df99c9878644f785a151ecc67e8207": {
          "model_module": "@jupyter-widgets/controls",
          "model_name": "HTMLModel",
          "model_module_version": "1.5.0",
          "state": {
            "_view_name": "HTMLView",
            "style": "IPY_MODEL_aec08125548e46dabf937f2d95ee8b33",
            "_dom_classes": [],
            "description": "",
            "_model_name": "HTMLModel",
            "placeholder": "​",
            "_view_module": "@jupyter-widgets/controls",
            "_model_module_version": "1.5.0",
            "value": " 17/17 [00:06&lt;00:00,  2.52it/s]",
            "_view_count": null,
            "_view_module_version": "1.5.0",
            "description_tooltip": null,
            "_model_module": "@jupyter-widgets/controls",
            "layout": "IPY_MODEL_6c718fef826e4dfc969717366614f152"
          }
        },
        "2e4fa39ad3f8440ea323cb6db8c9bfa9": {
          "model_module": "@jupyter-widgets/controls",
          "model_name": "ProgressStyleModel",
          "model_module_version": "1.5.0",
          "state": {
            "_view_name": "StyleView",
            "_model_name": "ProgressStyleModel",
            "description_width": "initial",
            "_view_module": "@jupyter-widgets/base",
            "_model_module_version": "1.5.0",
            "_view_count": null,
            "_view_module_version": "1.2.0",
            "bar_color": null,
            "_model_module": "@jupyter-widgets/controls"
          }
        },
        "4b646ccffb994d539287258b18d195ea": {
          "model_module": "@jupyter-widgets/base",
          "model_name": "LayoutModel",
          "model_module_version": "1.2.0",
          "state": {
            "_view_name": "LayoutView",
            "grid_template_rows": null,
            "right": null,
            "justify_content": null,
            "_view_module": "@jupyter-widgets/base",
            "overflow": null,
            "_model_module_version": "1.2.0",
            "_view_count": null,
            "flex_flow": null,
            "width": null,
            "min_width": null,
            "border": null,
            "align_items": null,
            "bottom": null,
            "_model_module": "@jupyter-widgets/base",
            "top": null,
            "grid_column": null,
            "overflow_y": null,
            "overflow_x": null,
            "grid_auto_flow": null,
            "grid_area": null,
            "grid_template_columns": null,
            "flex": null,
            "_model_name": "LayoutModel",
            "justify_items": null,
            "grid_row": null,
            "max_height": null,
            "align_content": null,
            "visibility": null,
            "align_self": null,
            "height": null,
            "min_height": null,
            "padding": null,
            "grid_auto_rows": null,
            "grid_gap": null,
            "max_width": null,
            "order": null,
            "_view_module_version": "1.2.0",
            "grid_template_areas": null,
            "object_position": null,
            "object_fit": null,
            "grid_auto_columns": null,
            "margin": null,
            "display": null,
            "left": null
          }
        },
        "aec08125548e46dabf937f2d95ee8b33": {
          "model_module": "@jupyter-widgets/controls",
          "model_name": "DescriptionStyleModel",
          "model_module_version": "1.5.0",
          "state": {
            "_view_name": "StyleView",
            "_model_name": "DescriptionStyleModel",
            "description_width": "",
            "_view_module": "@jupyter-widgets/base",
            "_model_module_version": "1.5.0",
            "_view_count": null,
            "_view_module_version": "1.2.0",
            "_model_module": "@jupyter-widgets/controls"
          }
        },
        "6c718fef826e4dfc969717366614f152": {
          "model_module": "@jupyter-widgets/base",
          "model_name": "LayoutModel",
          "model_module_version": "1.2.0",
          "state": {
            "_view_name": "LayoutView",
            "grid_template_rows": null,
            "right": null,
            "justify_content": null,
            "_view_module": "@jupyter-widgets/base",
            "overflow": null,
            "_model_module_version": "1.2.0",
            "_view_count": null,
            "flex_flow": null,
            "width": null,
            "min_width": null,
            "border": null,
            "align_items": null,
            "bottom": null,
            "_model_module": "@jupyter-widgets/base",
            "top": null,
            "grid_column": null,
            "overflow_y": null,
            "overflow_x": null,
            "grid_auto_flow": null,
            "grid_area": null,
            "grid_template_columns": null,
            "flex": null,
            "_model_name": "LayoutModel",
            "justify_items": null,
            "grid_row": null,
            "max_height": null,
            "align_content": null,
            "visibility": null,
            "align_self": null,
            "height": null,
            "min_height": null,
            "padding": null,
            "grid_auto_rows": null,
            "grid_gap": null,
            "max_width": null,
            "order": null,
            "_view_module_version": "1.2.0",
            "grid_template_areas": null,
            "object_position": null,
            "object_fit": null,
            "grid_auto_columns": null,
            "margin": null,
            "display": null,
            "left": null
          }
        },
        "4b522b2ca8ad425181c657e654bd6b1e": {
          "model_module": "@jupyter-widgets/controls",
          "model_name": "HBoxModel",
          "model_module_version": "1.5.0",
          "state": {
            "_view_name": "HBoxView",
            "_dom_classes": [],
            "_model_name": "HBoxModel",
            "_view_module": "@jupyter-widgets/controls",
            "_model_module_version": "1.5.0",
            "_view_count": null,
            "_view_module_version": "1.5.0",
            "box_style": "",
            "layout": "IPY_MODEL_ddbeff26e0fc4c059e4c38f37e381aeb",
            "_model_module": "@jupyter-widgets/controls",
            "children": [
              "IPY_MODEL_a7bd2b1a1910417bad4db85b935189c6",
              "IPY_MODEL_d052702fb5f94b879559be94c3d4a9d5"
            ]
          }
        },
        "ddbeff26e0fc4c059e4c38f37e381aeb": {
          "model_module": "@jupyter-widgets/base",
          "model_name": "LayoutModel",
          "model_module_version": "1.2.0",
          "state": {
            "_view_name": "LayoutView",
            "grid_template_rows": null,
            "right": null,
            "justify_content": null,
            "_view_module": "@jupyter-widgets/base",
            "overflow": null,
            "_model_module_version": "1.2.0",
            "_view_count": null,
            "flex_flow": null,
            "width": null,
            "min_width": null,
            "border": null,
            "align_items": null,
            "bottom": null,
            "_model_module": "@jupyter-widgets/base",
            "top": null,
            "grid_column": null,
            "overflow_y": null,
            "overflow_x": null,
            "grid_auto_flow": null,
            "grid_area": null,
            "grid_template_columns": null,
            "flex": null,
            "_model_name": "LayoutModel",
            "justify_items": null,
            "grid_row": null,
            "max_height": null,
            "align_content": null,
            "visibility": null,
            "align_self": null,
            "height": null,
            "min_height": null,
            "padding": null,
            "grid_auto_rows": null,
            "grid_gap": null,
            "max_width": null,
            "order": null,
            "_view_module_version": "1.2.0",
            "grid_template_areas": null,
            "object_position": null,
            "object_fit": null,
            "grid_auto_columns": null,
            "margin": null,
            "display": null,
            "left": null
          }
        },
        "a7bd2b1a1910417bad4db85b935189c6": {
          "model_module": "@jupyter-widgets/controls",
          "model_name": "FloatProgressModel",
          "model_module_version": "1.5.0",
          "state": {
            "_view_name": "ProgressView",
            "style": "IPY_MODEL_d1403fc64b354ba5893fb36814136595",
            "_dom_classes": [],
            "description": "100%",
            "_model_name": "FloatProgressModel",
            "bar_style": "success",
            "max": 29,
            "_view_module": "@jupyter-widgets/controls",
            "_model_module_version": "1.5.0",
            "value": 29,
            "_view_count": null,
            "_view_module_version": "1.5.0",
            "orientation": "horizontal",
            "min": 0,
            "description_tooltip": null,
            "_model_module": "@jupyter-widgets/controls",
            "layout": "IPY_MODEL_e618a47f9e17446283db4aeebd22a96d"
          }
        },
        "d052702fb5f94b879559be94c3d4a9d5": {
          "model_module": "@jupyter-widgets/controls",
          "model_name": "HTMLModel",
          "model_module_version": "1.5.0",
          "state": {
            "_view_name": "HTMLView",
            "style": "IPY_MODEL_7894910f42974a0f86e0f94dcc6f50af",
            "_dom_classes": [],
            "description": "",
            "_model_name": "HTMLModel",
            "placeholder": "​",
            "_view_module": "@jupyter-widgets/controls",
            "_model_module_version": "1.5.0",
            "value": " 29/29 [00:09&lt;00:00,  3.12it/s]",
            "_view_count": null,
            "_view_module_version": "1.5.0",
            "description_tooltip": null,
            "_model_module": "@jupyter-widgets/controls",
            "layout": "IPY_MODEL_73bf36ab9922423e9d0675d9f6e8f9cd"
          }
        },
        "d1403fc64b354ba5893fb36814136595": {
          "model_module": "@jupyter-widgets/controls",
          "model_name": "ProgressStyleModel",
          "model_module_version": "1.5.0",
          "state": {
            "_view_name": "StyleView",
            "_model_name": "ProgressStyleModel",
            "description_width": "initial",
            "_view_module": "@jupyter-widgets/base",
            "_model_module_version": "1.5.0",
            "_view_count": null,
            "_view_module_version": "1.2.0",
            "bar_color": null,
            "_model_module": "@jupyter-widgets/controls"
          }
        },
        "e618a47f9e17446283db4aeebd22a96d": {
          "model_module": "@jupyter-widgets/base",
          "model_name": "LayoutModel",
          "model_module_version": "1.2.0",
          "state": {
            "_view_name": "LayoutView",
            "grid_template_rows": null,
            "right": null,
            "justify_content": null,
            "_view_module": "@jupyter-widgets/base",
            "overflow": null,
            "_model_module_version": "1.2.0",
            "_view_count": null,
            "flex_flow": null,
            "width": null,
            "min_width": null,
            "border": null,
            "align_items": null,
            "bottom": null,
            "_model_module": "@jupyter-widgets/base",
            "top": null,
            "grid_column": null,
            "overflow_y": null,
            "overflow_x": null,
            "grid_auto_flow": null,
            "grid_area": null,
            "grid_template_columns": null,
            "flex": null,
            "_model_name": "LayoutModel",
            "justify_items": null,
            "grid_row": null,
            "max_height": null,
            "align_content": null,
            "visibility": null,
            "align_self": null,
            "height": null,
            "min_height": null,
            "padding": null,
            "grid_auto_rows": null,
            "grid_gap": null,
            "max_width": null,
            "order": null,
            "_view_module_version": "1.2.0",
            "grid_template_areas": null,
            "object_position": null,
            "object_fit": null,
            "grid_auto_columns": null,
            "margin": null,
            "display": null,
            "left": null
          }
        },
        "7894910f42974a0f86e0f94dcc6f50af": {
          "model_module": "@jupyter-widgets/controls",
          "model_name": "DescriptionStyleModel",
          "model_module_version": "1.5.0",
          "state": {
            "_view_name": "StyleView",
            "_model_name": "DescriptionStyleModel",
            "description_width": "",
            "_view_module": "@jupyter-widgets/base",
            "_model_module_version": "1.5.0",
            "_view_count": null,
            "_view_module_version": "1.2.0",
            "_model_module": "@jupyter-widgets/controls"
          }
        },
        "73bf36ab9922423e9d0675d9f6e8f9cd": {
          "model_module": "@jupyter-widgets/base",
          "model_name": "LayoutModel",
          "model_module_version": "1.2.0",
          "state": {
            "_view_name": "LayoutView",
            "grid_template_rows": null,
            "right": null,
            "justify_content": null,
            "_view_module": "@jupyter-widgets/base",
            "overflow": null,
            "_model_module_version": "1.2.0",
            "_view_count": null,
            "flex_flow": null,
            "width": null,
            "min_width": null,
            "border": null,
            "align_items": null,
            "bottom": null,
            "_model_module": "@jupyter-widgets/base",
            "top": null,
            "grid_column": null,
            "overflow_y": null,
            "overflow_x": null,
            "grid_auto_flow": null,
            "grid_area": null,
            "grid_template_columns": null,
            "flex": null,
            "_model_name": "LayoutModel",
            "justify_items": null,
            "grid_row": null,
            "max_height": null,
            "align_content": null,
            "visibility": null,
            "align_self": null,
            "height": null,
            "min_height": null,
            "padding": null,
            "grid_auto_rows": null,
            "grid_gap": null,
            "max_width": null,
            "order": null,
            "_view_module_version": "1.2.0",
            "grid_template_areas": null,
            "object_position": null,
            "object_fit": null,
            "grid_auto_columns": null,
            "margin": null,
            "display": null,
            "left": null
          }
        },
        "a180c4be7db74c1490bd623db6512df8": {
          "model_module": "@jupyter-widgets/controls",
          "model_name": "HBoxModel",
          "model_module_version": "1.5.0",
          "state": {
            "_view_name": "HBoxView",
            "_dom_classes": [],
            "_model_name": "HBoxModel",
            "_view_module": "@jupyter-widgets/controls",
            "_model_module_version": "1.5.0",
            "_view_count": null,
            "_view_module_version": "1.5.0",
            "box_style": "",
            "layout": "IPY_MODEL_e5dad138970c4f09aa15dca1a36e1558",
            "_model_module": "@jupyter-widgets/controls",
            "children": [
              "IPY_MODEL_8adab6772feb4fefae4a962c08bf626a",
              "IPY_MODEL_e7957d85b464417a8b548040d9233621"
            ]
          }
        },
        "e5dad138970c4f09aa15dca1a36e1558": {
          "model_module": "@jupyter-widgets/base",
          "model_name": "LayoutModel",
          "model_module_version": "1.2.0",
          "state": {
            "_view_name": "LayoutView",
            "grid_template_rows": null,
            "right": null,
            "justify_content": null,
            "_view_module": "@jupyter-widgets/base",
            "overflow": null,
            "_model_module_version": "1.2.0",
            "_view_count": null,
            "flex_flow": null,
            "width": null,
            "min_width": null,
            "border": null,
            "align_items": null,
            "bottom": null,
            "_model_module": "@jupyter-widgets/base",
            "top": null,
            "grid_column": null,
            "overflow_y": null,
            "overflow_x": null,
            "grid_auto_flow": null,
            "grid_area": null,
            "grid_template_columns": null,
            "flex": null,
            "_model_name": "LayoutModel",
            "justify_items": null,
            "grid_row": null,
            "max_height": null,
            "align_content": null,
            "visibility": null,
            "align_self": null,
            "height": null,
            "min_height": null,
            "padding": null,
            "grid_auto_rows": null,
            "grid_gap": null,
            "max_width": null,
            "order": null,
            "_view_module_version": "1.2.0",
            "grid_template_areas": null,
            "object_position": null,
            "object_fit": null,
            "grid_auto_columns": null,
            "margin": null,
            "display": null,
            "left": null
          }
        },
        "8adab6772feb4fefae4a962c08bf626a": {
          "model_module": "@jupyter-widgets/controls",
          "model_name": "FloatProgressModel",
          "model_module_version": "1.5.0",
          "state": {
            "_view_name": "ProgressView",
            "style": "IPY_MODEL_241eb15410c4407c882041506cd09c82",
            "_dom_classes": [],
            "description": "100%",
            "_model_name": "FloatProgressModel",
            "bar_style": "success",
            "max": 6,
            "_view_module": "@jupyter-widgets/controls",
            "_model_module_version": "1.5.0",
            "value": 6,
            "_view_count": null,
            "_view_module_version": "1.5.0",
            "orientation": "horizontal",
            "min": 0,
            "description_tooltip": null,
            "_model_module": "@jupyter-widgets/controls",
            "layout": "IPY_MODEL_805587cc19604536aee4c4f9a1464a43"
          }
        },
        "e7957d85b464417a8b548040d9233621": {
          "model_module": "@jupyter-widgets/controls",
          "model_name": "HTMLModel",
          "model_module_version": "1.5.0",
          "state": {
            "_view_name": "HTMLView",
            "style": "IPY_MODEL_9ec7f5427d144a07acdc1959ecd08b70",
            "_dom_classes": [],
            "description": "",
            "_model_name": "HTMLModel",
            "placeholder": "​",
            "_view_module": "@jupyter-widgets/controls",
            "_model_module_version": "1.5.0",
            "value": " 6/6 [00:02&lt;00:00,  2.89it/s]",
            "_view_count": null,
            "_view_module_version": "1.5.0",
            "description_tooltip": null,
            "_model_module": "@jupyter-widgets/controls",
            "layout": "IPY_MODEL_c3076aff40d545e1a99cd1571b113741"
          }
        },
        "241eb15410c4407c882041506cd09c82": {
          "model_module": "@jupyter-widgets/controls",
          "model_name": "ProgressStyleModel",
          "model_module_version": "1.5.0",
          "state": {
            "_view_name": "StyleView",
            "_model_name": "ProgressStyleModel",
            "description_width": "initial",
            "_view_module": "@jupyter-widgets/base",
            "_model_module_version": "1.5.0",
            "_view_count": null,
            "_view_module_version": "1.2.0",
            "bar_color": null,
            "_model_module": "@jupyter-widgets/controls"
          }
        },
        "805587cc19604536aee4c4f9a1464a43": {
          "model_module": "@jupyter-widgets/base",
          "model_name": "LayoutModel",
          "model_module_version": "1.2.0",
          "state": {
            "_view_name": "LayoutView",
            "grid_template_rows": null,
            "right": null,
            "justify_content": null,
            "_view_module": "@jupyter-widgets/base",
            "overflow": null,
            "_model_module_version": "1.2.0",
            "_view_count": null,
            "flex_flow": null,
            "width": null,
            "min_width": null,
            "border": null,
            "align_items": null,
            "bottom": null,
            "_model_module": "@jupyter-widgets/base",
            "top": null,
            "grid_column": null,
            "overflow_y": null,
            "overflow_x": null,
            "grid_auto_flow": null,
            "grid_area": null,
            "grid_template_columns": null,
            "flex": null,
            "_model_name": "LayoutModel",
            "justify_items": null,
            "grid_row": null,
            "max_height": null,
            "align_content": null,
            "visibility": null,
            "align_self": null,
            "height": null,
            "min_height": null,
            "padding": null,
            "grid_auto_rows": null,
            "grid_gap": null,
            "max_width": null,
            "order": null,
            "_view_module_version": "1.2.0",
            "grid_template_areas": null,
            "object_position": null,
            "object_fit": null,
            "grid_auto_columns": null,
            "margin": null,
            "display": null,
            "left": null
          }
        },
        "9ec7f5427d144a07acdc1959ecd08b70": {
          "model_module": "@jupyter-widgets/controls",
          "model_name": "DescriptionStyleModel",
          "model_module_version": "1.5.0",
          "state": {
            "_view_name": "StyleView",
            "_model_name": "DescriptionStyleModel",
            "description_width": "",
            "_view_module": "@jupyter-widgets/base",
            "_model_module_version": "1.5.0",
            "_view_count": null,
            "_view_module_version": "1.2.0",
            "_model_module": "@jupyter-widgets/controls"
          }
        },
        "c3076aff40d545e1a99cd1571b113741": {
          "model_module": "@jupyter-widgets/base",
          "model_name": "LayoutModel",
          "model_module_version": "1.2.0",
          "state": {
            "_view_name": "LayoutView",
            "grid_template_rows": null,
            "right": null,
            "justify_content": null,
            "_view_module": "@jupyter-widgets/base",
            "overflow": null,
            "_model_module_version": "1.2.0",
            "_view_count": null,
            "flex_flow": null,
            "width": null,
            "min_width": null,
            "border": null,
            "align_items": null,
            "bottom": null,
            "_model_module": "@jupyter-widgets/base",
            "top": null,
            "grid_column": null,
            "overflow_y": null,
            "overflow_x": null,
            "grid_auto_flow": null,
            "grid_area": null,
            "grid_template_columns": null,
            "flex": null,
            "_model_name": "LayoutModel",
            "justify_items": null,
            "grid_row": null,
            "max_height": null,
            "align_content": null,
            "visibility": null,
            "align_self": null,
            "height": null,
            "min_height": null,
            "padding": null,
            "grid_auto_rows": null,
            "grid_gap": null,
            "max_width": null,
            "order": null,
            "_view_module_version": "1.2.0",
            "grid_template_areas": null,
            "object_position": null,
            "object_fit": null,
            "grid_auto_columns": null,
            "margin": null,
            "display": null,
            "left": null
          }
        }
      }
    }
  },
  "cells": [
    {
      "cell_type": "markdown",
      "metadata": {
        "id": "view-in-github",
        "colab_type": "text"
      },
      "source": [
        "<a href=\"https://colab.research.google.com/github/Mostofa-Najmus-Sakib/NLP-works/blob/main/Assisgnment_5/A5_topic_modeling.ipynb\" target=\"_parent\"><img src=\"https://colab.research.google.com/assets/colab-badge.svg\" alt=\"Open In Colab\"/></a>"
      ]
    },
    {
      "cell_type": "markdown",
      "metadata": {
        "id": "sRXM2htgRkn0"
      },
      "source": [
        "### Topic Modeling with Word Embeddings, Tensorflow, and Keras\n",
        "\n",
        "- We'll be using the [pymagnitude](https://github.com/plasticityai/magnitude) library"
      ]
    },
    {
      "cell_type": "code",
      "metadata": {
        "colab": {
          "base_uri": "https://localhost:8080/"
        },
        "id": "PpJnnScLRkn7",
        "outputId": "417eb55b-8709-4fad-f64a-6fdd625d9fbf"
      },
      "source": [
        "# %pip install pymagnitude"
      ],
      "execution_count": null,
      "outputs": [
        {
          "output_type": "stream",
          "text": [
            "Collecting pymagnitude\n",
            "\u001b[?25l  Downloading https://files.pythonhosted.org/packages/69/40/ec05f0630f6dd56eb323dee5bc70a52e4f21247185d8662d3d08267cc6c7/pymagnitude-0.1.143.tar.gz (5.4MB)\n",
            "\u001b[K     |████████████████████████████████| 5.4MB 7.0MB/s \n",
            "\u001b[?25hBuilding wheels for collected packages: pymagnitude\n",
            "  Building wheel for pymagnitude (setup.py) ... \u001b[?25l\u001b[?25hdone\n",
            "  Created wheel for pymagnitude: filename=pymagnitude-0.1.143-cp37-cp37m-linux_x86_64.whl size=360622092 sha256=d30f1d1f856d9057c960bdfb6cdb82af6e634cb9b729a5e282cc1ac1aadc6ea4\n",
            "  Stored in directory: /root/.cache/pip/wheels/bb/b2/16/f88eb50800667ffe23d509c7e2157923a08d10ed6d6410124f\n",
            "Successfully built pymagnitude\n",
            "Installing collected packages: pymagnitude\n",
            "Successfully installed pymagnitude-0.1.143\n"
          ],
          "name": "stdout"
        }
      ]
    },
    {
      "cell_type": "code",
      "metadata": {
        "id": "YVpxOr4IRkn8"
      },
      "source": [
        "from pymagnitude import *"
      ],
      "execution_count": null,
      "outputs": []
    },
    {
      "cell_type": "code",
      "metadata": {
        "id": "9xcQHiICSy5X"
      },
      "source": [
        "# from google.colab import files\n",
        "# uploaded = files.upload()"
      ],
      "execution_count": null,
      "outputs": []
    },
    {
      "cell_type": "markdown",
      "metadata": {
        "id": "syIajJ8ORkn9"
      },
      "source": [
        "### You'll need to download embedding 'model' files manually\n",
        "\n",
        "Start by downloading one of the following:\n",
        "\n",
        "- [GloVe](http://magnitude.plasticity.ai/glove/medium/glove.6B.300d.magnitude)\n",
        "- [word2vec](http://magnitude.plasticity.ai/word2vec/heavy/GoogleNews-vectors-negative300.magnitude)\n",
        "- [fastText](http://magnitude.plasticity.ai/fasttext/light/wiki-news-300d-1M.magnitude)\n"
      ]
    },
    {
      "cell_type": "code",
      "metadata": {
        "id": "-u_IFkGJRkn9"
      },
      "source": [
        "# change path to the name/path of the embedding file you donwloaded\n",
        "path = 'glove.6B.300d.magnitude'\n",
        "\n",
        "# vectors = Magnitude(path)\n",
        "vectors = Magnitude('glove.6B.300d.magnitude')"
      ],
      "execution_count": null,
      "outputs": []
    },
    {
      "cell_type": "code",
      "metadata": {
        "colab": {
          "base_uri": "https://localhost:8080/"
        },
        "id": "B_iiQCpFRkn-",
        "outputId": "a0476abc-e6af-4c8b-a43f-06ad58b328cb"
      },
      "source": [
        "len(vectors)"
      ],
      "execution_count": null,
      "outputs": [
        {
          "output_type": "execute_result",
          "data": {
            "text/plain": [
              "400000"
            ]
          },
          "metadata": {
            "tags": []
          },
          "execution_count": 137
        }
      ]
    },
    {
      "cell_type": "code",
      "metadata": {
        "colab": {
          "base_uri": "https://localhost:8080/"
        },
        "id": "EoWiOnfVRkn-",
        "outputId": "8778fe71-86cd-4b5d-8a44-c9126c2337cd"
      },
      "source": [
        "vectors.dim # this is how big the vectors are for each word"
      ],
      "execution_count": null,
      "outputs": [
        {
          "output_type": "execute_result",
          "data": {
            "text/plain": [
              "300"
            ]
          },
          "metadata": {
            "tags": []
          },
          "execution_count": 138
        }
      ]
    },
    {
      "cell_type": "code",
      "metadata": {
        "colab": {
          "base_uri": "https://localhost:8080/"
        },
        "id": "zR6FA2c2Rkn-",
        "outputId": "fcffd50e-6e70-497a-8b44-d02681c7e2a2"
      },
      "source": [
        "\"cat\" in vectors"
      ],
      "execution_count": null,
      "outputs": [
        {
          "output_type": "execute_result",
          "data": {
            "text/plain": [
              "True"
            ]
          },
          "metadata": {
            "tags": []
          },
          "execution_count": 139
        }
      ]
    },
    {
      "cell_type": "code",
      "metadata": {
        "colab": {
          "base_uri": "https://localhost:8080/"
        },
        "id": "9gA4XDssRkn_",
        "outputId": "422047c2-036c-4ed7-a204-5e949ca71099"
      },
      "source": [
        "for key, vector in vectors[500:510]:\n",
        "    print(key, vector[:3])"
      ],
      "execution_count": null,
      "outputs": [
        {
          "output_type": "stream",
          "text": [
            "working [-0.0332886  0.0680554 -0.0059854]\n",
            "community [-0.0431237 -0.0621079  0.0222967]\n",
            "eight [-0.0645148  0.0757905 -0.0573475]\n",
            "groups [-0.0194742  0.0416667 -0.0084207]\n",
            "despite [ 0.0479242  0.02233   -0.0047541]\n",
            "level [-0.0848005  0.1553303  0.0087196]\n",
            "largest [-0.0233524  0.04329   -0.0260668]\n",
            "whose [-0.0069965  0.0276343  0.0280235]\n",
            "attacks [0.03818   0.0117073 0.0706972]\n",
            "germany [ 0.0062351  0.0252957 -0.0618449]\n"
          ],
          "name": "stdout"
        }
      ]
    },
    {
      "cell_type": "code",
      "metadata": {
        "colab": {
          "base_uri": "https://localhost:8080/"
        },
        "id": "XmKVcj7vRkn_",
        "outputId": "0cec61ce-737b-4e9b-c4df-76be4fa01d04"
      },
      "source": [
        "vectors.query(\"cat\")[:3]"
      ],
      "execution_count": null,
      "outputs": [
        {
          "output_type": "execute_result",
          "data": {
            "text/plain": [
              "array([-0.0463976,  0.0525527, -0.007488 ], dtype=float32)"
            ]
          },
          "metadata": {
            "tags": []
          },
          "execution_count": 141
        }
      ]
    },
    {
      "cell_type": "code",
      "metadata": {
        "colab": {
          "base_uri": "https://localhost:8080/"
        },
        "id": "JAj3iI_ORkoA",
        "outputId": "3f8d7e55-e82c-4000-9ccc-47b38a228386"
      },
      "source": [
        "vectors.query([\"cat\",\"dog\"])[0][:3]"
      ],
      "execution_count": null,
      "outputs": [
        {
          "output_type": "execute_result",
          "data": {
            "text/plain": [
              "array([-0.0463976,  0.0525527, -0.007488 ], dtype=float32)"
            ]
          },
          "metadata": {
            "tags": []
          },
          "execution_count": 142
        }
      ]
    },
    {
      "cell_type": "code",
      "metadata": {
        "colab": {
          "base_uri": "https://localhost:8080/"
        },
        "id": "gvSpqrImRkoA",
        "outputId": "7fed8f7c-9a19-4b74-9ee1-5d4421c4da4d"
      },
      "source": [
        "vectors.distance(\"cat\", \"dog\")"
      ],
      "execution_count": null,
      "outputs": [
        {
          "output_type": "execute_result",
          "data": {
            "text/plain": [
              "0.7979039"
            ]
          },
          "metadata": {
            "tags": []
          },
          "execution_count": 143
        }
      ]
    },
    {
      "cell_type": "code",
      "metadata": {
        "colab": {
          "base_uri": "https://localhost:8080/"
        },
        "id": "a0z_bBLJRkoA",
        "outputId": "42391e95-0e57-4675-e010-b056ea32e591"
      },
      "source": [
        "vectors.distance(\"cat\", \"car\")"
      ],
      "execution_count": null,
      "outputs": [
        {
          "output_type": "execute_result",
          "data": {
            "text/plain": [
              "1.3062327"
            ]
          },
          "metadata": {
            "tags": []
          },
          "execution_count": 144
        }
      ]
    },
    {
      "cell_type": "code",
      "metadata": {
        "colab": {
          "base_uri": "https://localhost:8080/",
          "height": 36
        },
        "id": "jfQy2_TbRkoB",
        "outputId": "363f3157-c5c0-4435-e51e-d0a65d149210"
      },
      "source": [
        "vectors.most_similar_to_given(\"cat\", [\"dog\", \"television\", \"laptop\"]) "
      ],
      "execution_count": null,
      "outputs": [
        {
          "output_type": "execute_result",
          "data": {
            "application/vnd.google.colaboratory.intrinsic+json": {
              "type": "string"
            },
            "text/plain": [
              "'dog'"
            ]
          },
          "metadata": {
            "tags": []
          },
          "execution_count": 145
        }
      ]
    },
    {
      "cell_type": "code",
      "metadata": {
        "colab": {
          "base_uri": "https://localhost:8080/",
          "height": 36
        },
        "id": "9Lc5F4LwRkoB",
        "outputId": "488e379c-ecdc-4d23-d857-375d669c6727"
      },
      "source": [
        "vectors.doesnt_match([\"breakfast\", \"cereal\", \"dinner\", \"lunch\"])"
      ],
      "execution_count": null,
      "outputs": [
        {
          "output_type": "execute_result",
          "data": {
            "application/vnd.google.colaboratory.intrinsic+json": {
              "type": "string"
            },
            "text/plain": [
              "'cereal'"
            ]
          },
          "metadata": {
            "tags": []
          },
          "execution_count": 146
        }
      ]
    },
    {
      "cell_type": "code",
      "metadata": {
        "id": "TNxyPnw_RkoC"
      },
      "source": [
        "#vectors.most_similar(\"cat\", topn = 5)"
      ],
      "execution_count": null,
      "outputs": []
    },
    {
      "cell_type": "code",
      "metadata": {
        "id": "rTsnGtwJRkoC"
      },
      "source": [
        "#vectors.most_similar(positive = [\"woman\", \"king\"], negative = [\"man\"])"
      ],
      "execution_count": null,
      "outputs": []
    },
    {
      "cell_type": "markdown",
      "metadata": {
        "id": "zDpswOx2RkoC"
      },
      "source": [
        "### Topic Modeling\n",
        "\n",
        "- Given a document, determine the topic of the document\n",
        "- For this task, we'll use the Brown corpus of texts accessible via NLTK"
      ]
    },
    {
      "cell_type": "code",
      "metadata": {
        "colab": {
          "base_uri": "https://localhost:8080/"
        },
        "id": "d_kmQLxOnrF7",
        "outputId": "c5a00262-5b9d-4777-bad8-7e6721f38eb1"
      },
      "source": [
        "import nltk\n",
        "nltk.download('brown')"
      ],
      "execution_count": null,
      "outputs": [
        {
          "output_type": "stream",
          "text": [
            "[nltk_data] Downloading package brown to /root/nltk_data...\n",
            "[nltk_data]   Package brown is already up-to-date!\n"
          ],
          "name": "stdout"
        },
        {
          "output_type": "execute_result",
          "data": {
            "text/plain": [
              "True"
            ]
          },
          "metadata": {
            "tags": []
          },
          "execution_count": 149
        }
      ]
    },
    {
      "cell_type": "code",
      "metadata": {
        "colab": {
          "base_uri": "https://localhost:8080/",
          "height": 1000,
          "referenced_widgets": [
            "890b92ab59cf4693b2c423cb80325a8a",
            "90004c5983d5413fa49ffaf9ea4b7145",
            "69f86b21c9d947e994cc7c983d76bdcb",
            "e823b75c9a7e40f6973756520dc29cb5",
            "01213e8e20774097b391e44757df55a9",
            "df1ecebd8b83457da4ec6b401a8ac0b4",
            "b51b999b868e46a4ac3140c1861777a1",
            "d27ead8b0db1490e9b560a08d56f75a2",
            "75ea09ea9e2e4f80976d14b391651583",
            "1dc668690c834c25a9512e341ab3c9ec",
            "f44e8a37d75845f785761e0b515f5cad",
            "d0dec42ad5d84ce9baaff52277c0a16f",
            "5fbf59fd38414833a2cc4a640fb23d71",
            "f10aa9d6d5374eccb15684aa1de6bc5d",
            "83f0f068d8344be1af1cf0ac6540d5e5",
            "5ca72ee4a1d6454faebbe1365801e793",
            "d14950bf388843b680ce563d3279f8c7",
            "b6b6b7a79b3a408883736c5ae75972a7",
            "e7c9a549c01b4a11976e848a76eee7fd",
            "aeaa89b6932849d3988f480f667e8a84",
            "11cb9b63837840c1ad25b19005962d93",
            "f030a9c04eb048a2ae3ebf9a1d21abee",
            "7c99ace1fad147b9add6f631f065746a",
            "a6a17b995ec74e6d8784a92e384329c8",
            "8bcccd67888343809b627704043af3df",
            "ffc37d9130874521891cad45b764207d",
            "8a5f1890b677481fbe7143d584ec28b2",
            "e0a8eec95ccf41f7b689ed499f91dc31",
            "9f84f941a17e494487362eb252baa90d",
            "2f31bbb6e6124256af117b06ce2af348",
            "c21c513576b24c1e8c9df19a83245bfd",
            "ae23c6e8e44745779be54204143a7198",
            "9e14fdc9a11d48aaa444e1addd1c7f4f",
            "bbf896ddfdda4391a29ee71e3af77658",
            "2f23bef2b5be4f508a0f769f932fe24a",
            "16cc20228e194a4a9f5fbb768fba5df1",
            "683fad5956d84de997e1a3fcf651e6a1",
            "9260ec569fb1407e9b23a3830acf3bf2",
            "cfab65d5f0264c04abe2949846300d4f",
            "5c245d1b514541d4b2ca92c87ffcfaf6",
            "8da6b468402445469d1c59f0a3a0cd00",
            "b8c2c8fd8d664d5ab04220dd723e9c05",
            "8b725b278b25448e9c153fe3e9e6743d",
            "da43912411684e9b8cadc7f54b0521bb",
            "64a22514549f480eb41a590f65df7f2d",
            "3d6863e03ff24642beae7bf5a9395543",
            "1b61ed5b85bc4ea8a12067607b5da907",
            "a3cee92f42484b3ea32b7ef83bd8b991",
            "5d07e4e2f8024c28879c3838f3309fdd",
            "3ec0ee88e3ed4f50bd58f0e4441947c6",
            "f8a08b212ecd463685923675917843fd",
            "65cdf6975e4d4fc295473f1e492fbec1",
            "7bbb454c0d174919962c453e3a92e87e",
            "837a1164cba44cf9bb66b235d55b4b7e",
            "2db53821a9ac426cbe49f0840130dfd4",
            "2c61063de2da4095bc1188b3763f862a",
            "f7eabf60b548404d83643e1123711618",
            "183aeb7e5ddc42508544b67de85e8fc6",
            "a78ed1eff11b42db8801f04bfccf7448",
            "231132fdd8d3480bac38856b896f8404",
            "232eff5c20184a69a499d50ab849c026",
            "5cdb95ac1bf84add8b888dd67e57ab84",
            "1d1e7e14a6f54c238c5f0ed49b331bfe",
            "0b68facab5354bb79699a2773ea3d8b4",
            "40d643fb01e9485e826ce90c328484cb",
            "b92781c17d594344af986d2d58437343",
            "c126369c8efd4a8194c67d441928754a",
            "523cd5f4569749fca210eeea7973fe63",
            "3a05f7c6d3c54d3cab9a46cf9f28c190",
            "164f4e834a9d41feb1129645819c6529",
            "ddb794eb508746d48f2dd45be559ae1a",
            "8259dcf5e50f476f8d62b362f5a728c9",
            "b13668c75c1c44b891c2cc3b3eead369",
            "40d4c98366474b5f943bdaccb16be3c6",
            "7fe85e6c388d479b912654f88df8223a",
            "c2597e325d8840a2814c1c3e851db7f3",
            "9cf8bc85f0ac44eebe58be2626765511",
            "9a628d55644c45b08c480e18007f153d",
            "209b058ba3954494b05bcf2a756cbfc1",
            "19b1d6a6786e4af59c43513606019188",
            "6ef940ea07924f12b14017253f0fa014",
            "d582f94524fa406b84dcd8c02c8cba31",
            "7db59974e6cc433d8310c897819aa6b2",
            "4fa79a8fc6cd432894c6f69e20fcd958",
            "5403e7c0ce72497695dde16ee51dc445",
            "1c83a288ad294bb1ae44dbfb5d72fe40",
            "b4c62c8c4d0f4c34b6114178125b09b8",
            "75b9cc5581e442c4bbcc7b97554e916c",
            "afbdad81be5d491985884e86b11871a3",
            "b07589ff205e4f2ba722d7147681d376",
            "5ec8c87dbc68478492f70a192c0008f8",
            "a3cc1e5e9f5246b296f83708a269feff",
            "70e67d9d228e49749177798177041a99",
            "edd9689b7d2c414e9e74bd328f2b562d",
            "1736c2ab9b254fa8ab4b725c43deac2f",
            "aea28beeddba479bbea99f9e1f3fd7c4",
            "8cc16cd58e494d9ab9c7bab1a9b1a4e5",
            "f70aadce14834adf9e4d128858550212",
            "a26f42f8899749e88fde3bdb7b479e46",
            "b0df99c9878644f785a151ecc67e8207",
            "2e4fa39ad3f8440ea323cb6db8c9bfa9",
            "4b646ccffb994d539287258b18d195ea",
            "aec08125548e46dabf937f2d95ee8b33",
            "6c718fef826e4dfc969717366614f152",
            "4b522b2ca8ad425181c657e654bd6b1e",
            "ddbeff26e0fc4c059e4c38f37e381aeb",
            "a7bd2b1a1910417bad4db85b935189c6",
            "d052702fb5f94b879559be94c3d4a9d5",
            "d1403fc64b354ba5893fb36814136595",
            "e618a47f9e17446283db4aeebd22a96d",
            "7894910f42974a0f86e0f94dcc6f50af",
            "73bf36ab9922423e9d0675d9f6e8f9cd",
            "a180c4be7db74c1490bd623db6512df8",
            "e5dad138970c4f09aa15dca1a36e1558",
            "8adab6772feb4fefae4a962c08bf626a",
            "e7957d85b464417a8b548040d9233621",
            "241eb15410c4407c882041506cd09c82",
            "805587cc19604536aee4c4f9a1464a43",
            "9ec7f5427d144a07acdc1959ecd08b70",
            "c3076aff40d545e1a99cd1571b113741"
          ]
        },
        "id": "8Rb0q8e-RkoC",
        "outputId": "6e73e078-7a71-4b8e-92cf-a90c8ca92f69"
      },
      "source": [
        "# from nltk.corpus import brown\n",
        "# from collections import defaultdict\n",
        "# import tqdm # tqdm displays a progress bar\n",
        "# from tqdm import tqdm_notebook as tqdm\n",
        "\n",
        "category_vectors = []\n",
        "\n",
        "cats = brown.categories()\n",
        "    \n",
        "# for each category\n",
        "for cat in cats:\n",
        "    print(cat)\n",
        "    # grab all of the documents\n",
        "    for fileid in tqdm(brown.fileids(categories=[cat])):\n",
        "        words = list(map(str.lower, brown.words(fileids=[fileid])))\n",
        "        # grab all of the words, find their embedding, sum all embeddings\n",
        "        word_sum = np.sum([vectors.query([w]) for w in words if w in vectors], axis=0) # why axis=0?\n",
        "        # add the now summed embedding to the list for this category\n",
        "        category_vectors.append((cat,word_sum))\n",
        "    "
      ],
      "execution_count": null,
      "outputs": [
        {
          "output_type": "stream",
          "text": [
            "adventure\n"
          ],
          "name": "stdout"
        },
        {
          "output_type": "stream",
          "text": [
            "/usr/local/lib/python3.7/dist-packages/ipykernel_launcher.py:14: TqdmDeprecationWarning: This function will be removed in tqdm==5.0.0\n",
            "Please use `tqdm.notebook.tqdm` instead of `tqdm.tqdm_notebook`\n",
            "  \n"
          ],
          "name": "stderr"
        },
        {
          "output_type": "display_data",
          "data": {
            "application/vnd.jupyter.widget-view+json": {
              "model_id": "890b92ab59cf4693b2c423cb80325a8a",
              "version_minor": 0,
              "version_major": 2
            },
            "text/plain": [
              "HBox(children=(FloatProgress(value=0.0, max=29.0), HTML(value='')))"
            ]
          },
          "metadata": {
            "tags": []
          }
        },
        {
          "output_type": "stream",
          "text": [
            "\n",
            "belles_lettres\n"
          ],
          "name": "stdout"
        },
        {
          "output_type": "display_data",
          "data": {
            "application/vnd.jupyter.widget-view+json": {
              "model_id": "75ea09ea9e2e4f80976d14b391651583",
              "version_minor": 0,
              "version_major": 2
            },
            "text/plain": [
              "HBox(children=(FloatProgress(value=0.0, max=75.0), HTML(value='')))"
            ]
          },
          "metadata": {
            "tags": []
          }
        },
        {
          "output_type": "stream",
          "text": [
            "\n",
            "editorial\n"
          ],
          "name": "stdout"
        },
        {
          "output_type": "display_data",
          "data": {
            "application/vnd.jupyter.widget-view+json": {
              "model_id": "d14950bf388843b680ce563d3279f8c7",
              "version_minor": 0,
              "version_major": 2
            },
            "text/plain": [
              "HBox(children=(FloatProgress(value=0.0, max=27.0), HTML(value='')))"
            ]
          },
          "metadata": {
            "tags": []
          }
        },
        {
          "output_type": "stream",
          "text": [
            "\n",
            "fiction\n"
          ],
          "name": "stdout"
        },
        {
          "output_type": "display_data",
          "data": {
            "application/vnd.jupyter.widget-view+json": {
              "model_id": "8bcccd67888343809b627704043af3df",
              "version_minor": 0,
              "version_major": 2
            },
            "text/plain": [
              "HBox(children=(FloatProgress(value=0.0, max=29.0), HTML(value='')))"
            ]
          },
          "metadata": {
            "tags": []
          }
        },
        {
          "output_type": "stream",
          "text": [
            "\n",
            "government\n"
          ],
          "name": "stdout"
        },
        {
          "output_type": "display_data",
          "data": {
            "application/vnd.jupyter.widget-view+json": {
              "model_id": "9e14fdc9a11d48aaa444e1addd1c7f4f",
              "version_minor": 0,
              "version_major": 2
            },
            "text/plain": [
              "HBox(children=(FloatProgress(value=0.0, max=30.0), HTML(value='')))"
            ]
          },
          "metadata": {
            "tags": []
          }
        },
        {
          "output_type": "stream",
          "text": [
            "\n",
            "hobbies\n"
          ],
          "name": "stdout"
        },
        {
          "output_type": "display_data",
          "data": {
            "application/vnd.jupyter.widget-view+json": {
              "model_id": "8da6b468402445469d1c59f0a3a0cd00",
              "version_minor": 0,
              "version_major": 2
            },
            "text/plain": [
              "HBox(children=(FloatProgress(value=0.0, max=36.0), HTML(value='')))"
            ]
          },
          "metadata": {
            "tags": []
          }
        },
        {
          "output_type": "stream",
          "text": [
            "\n",
            "humor\n"
          ],
          "name": "stdout"
        },
        {
          "output_type": "display_data",
          "data": {
            "application/vnd.jupyter.widget-view+json": {
              "model_id": "5d07e4e2f8024c28879c3838f3309fdd",
              "version_minor": 0,
              "version_major": 2
            },
            "text/plain": [
              "HBox(children=(FloatProgress(value=0.0, max=9.0), HTML(value='')))"
            ]
          },
          "metadata": {
            "tags": []
          }
        },
        {
          "output_type": "stream",
          "text": [
            "\n",
            "learned\n"
          ],
          "name": "stdout"
        },
        {
          "output_type": "display_data",
          "data": {
            "application/vnd.jupyter.widget-view+json": {
              "model_id": "f7eabf60b548404d83643e1123711618",
              "version_minor": 0,
              "version_major": 2
            },
            "text/plain": [
              "HBox(children=(FloatProgress(value=0.0, max=80.0), HTML(value='')))"
            ]
          },
          "metadata": {
            "tags": []
          }
        },
        {
          "output_type": "stream",
          "text": [
            "\n",
            "lore\n"
          ],
          "name": "stdout"
        },
        {
          "output_type": "display_data",
          "data": {
            "application/vnd.jupyter.widget-view+json": {
              "model_id": "40d643fb01e9485e826ce90c328484cb",
              "version_minor": 0,
              "version_major": 2
            },
            "text/plain": [
              "HBox(children=(FloatProgress(value=0.0, max=48.0), HTML(value='')))"
            ]
          },
          "metadata": {
            "tags": []
          }
        },
        {
          "output_type": "stream",
          "text": [
            "\n",
            "mystery\n"
          ],
          "name": "stdout"
        },
        {
          "output_type": "display_data",
          "data": {
            "application/vnd.jupyter.widget-view+json": {
              "model_id": "b13668c75c1c44b891c2cc3b3eead369",
              "version_minor": 0,
              "version_major": 2
            },
            "text/plain": [
              "HBox(children=(FloatProgress(value=0.0, max=24.0), HTML(value='')))"
            ]
          },
          "metadata": {
            "tags": []
          }
        },
        {
          "output_type": "stream",
          "text": [
            "\n",
            "news\n"
          ],
          "name": "stdout"
        },
        {
          "output_type": "display_data",
          "data": {
            "application/vnd.jupyter.widget-view+json": {
              "model_id": "6ef940ea07924f12b14017253f0fa014",
              "version_minor": 0,
              "version_major": 2
            },
            "text/plain": [
              "HBox(children=(FloatProgress(value=0.0, max=44.0), HTML(value='')))"
            ]
          },
          "metadata": {
            "tags": []
          }
        },
        {
          "output_type": "stream",
          "text": [
            "\n",
            "religion\n"
          ],
          "name": "stdout"
        },
        {
          "output_type": "display_data",
          "data": {
            "application/vnd.jupyter.widget-view+json": {
              "model_id": "afbdad81be5d491985884e86b11871a3",
              "version_minor": 0,
              "version_major": 2
            },
            "text/plain": [
              "HBox(children=(FloatProgress(value=0.0, max=17.0), HTML(value='')))"
            ]
          },
          "metadata": {
            "tags": []
          }
        },
        {
          "output_type": "stream",
          "text": [
            "\n",
            "reviews\n"
          ],
          "name": "stdout"
        },
        {
          "output_type": "display_data",
          "data": {
            "application/vnd.jupyter.widget-view+json": {
              "model_id": "8cc16cd58e494d9ab9c7bab1a9b1a4e5",
              "version_minor": 0,
              "version_major": 2
            },
            "text/plain": [
              "HBox(children=(FloatProgress(value=0.0, max=17.0), HTML(value='')))"
            ]
          },
          "metadata": {
            "tags": []
          }
        },
        {
          "output_type": "stream",
          "text": [
            "\n",
            "romance\n"
          ],
          "name": "stdout"
        },
        {
          "output_type": "display_data",
          "data": {
            "application/vnd.jupyter.widget-view+json": {
              "model_id": "4b522b2ca8ad425181c657e654bd6b1e",
              "version_minor": 0,
              "version_major": 2
            },
            "text/plain": [
              "HBox(children=(FloatProgress(value=0.0, max=29.0), HTML(value='')))"
            ]
          },
          "metadata": {
            "tags": []
          }
        },
        {
          "output_type": "stream",
          "text": [
            "\n",
            "science_fiction\n"
          ],
          "name": "stdout"
        },
        {
          "output_type": "display_data",
          "data": {
            "application/vnd.jupyter.widget-view+json": {
              "model_id": "a180c4be7db74c1490bd623db6512df8",
              "version_minor": 0,
              "version_major": 2
            },
            "text/plain": [
              "HBox(children=(FloatProgress(value=0.0, max=6.0), HTML(value='')))"
            ]
          },
          "metadata": {
            "tags": []
          }
        },
        {
          "output_type": "stream",
          "text": [
            "\n"
          ],
          "name": "stdout"
        }
      ]
    },
    {
      "cell_type": "code",
      "metadata": {
        "id": "-IGByQXSRkoD"
      },
      "source": [
        "import pandas as pd\n",
        "\n",
        "keys,values=zip(*category_vectors) # unzip using a *\n",
        "\n",
        "data = pd.DataFrame({'cat':keys,'vectors':values})"
      ],
      "execution_count": null,
      "outputs": []
    },
    {
      "cell_type": "code",
      "metadata": {
        "colab": {
          "base_uri": "https://localhost:8080/",
          "height": 135
        },
        "id": "Hp6o3U36RkoD",
        "outputId": "241963be-5efc-4f78-8c10-a8d15435d496"
      },
      "source": [
        "data[:3]"
      ],
      "execution_count": null,
      "outputs": [
        {
          "output_type": "execute_result",
          "data": {
            "text/html": [
              "<div>\n",
              "<style scoped>\n",
              "    .dataframe tbody tr th:only-of-type {\n",
              "        vertical-align: middle;\n",
              "    }\n",
              "\n",
              "    .dataframe tbody tr th {\n",
              "        vertical-align: top;\n",
              "    }\n",
              "\n",
              "    .dataframe thead th {\n",
              "        text-align: right;\n",
              "    }\n",
              "</style>\n",
              "<table border=\"1\" class=\"dataframe\">\n",
              "  <thead>\n",
              "    <tr style=\"text-align: right;\">\n",
              "      <th></th>\n",
              "      <th>cat</th>\n",
              "      <th>vectors</th>\n",
              "    </tr>\n",
              "  </thead>\n",
              "  <tbody>\n",
              "    <tr>\n",
              "      <th>0</th>\n",
              "      <td>adventure</td>\n",
              "      <td>[[-62.71034, 23.958982, -9.739936, -54.190174,...</td>\n",
              "    </tr>\n",
              "    <tr>\n",
              "      <th>1</th>\n",
              "      <td>adventure</td>\n",
              "      <td>[[-54.73519, 19.858883, -8.82027, -59.00295, -...</td>\n",
              "    </tr>\n",
              "    <tr>\n",
              "      <th>2</th>\n",
              "      <td>adventure</td>\n",
              "      <td>[[-46.095287, 24.262121, -7.475177, -59.681107...</td>\n",
              "    </tr>\n",
              "  </tbody>\n",
              "</table>\n",
              "</div>"
            ],
            "text/plain": [
              "         cat                                            vectors\n",
              "0  adventure  [[-62.71034, 23.958982, -9.739936, -54.190174,...\n",
              "1  adventure  [[-54.73519, 19.858883, -8.82027, -59.00295, -...\n",
              "2  adventure  [[-46.095287, 24.262121, -7.475177, -59.681107..."
            ]
          },
          "metadata": {
            "tags": []
          },
          "execution_count": 152
        }
      ]
    },
    {
      "cell_type": "code",
      "metadata": {
        "colab": {
          "base_uri": "https://localhost:8080/"
        },
        "id": "pMNJh7jdRkoD",
        "outputId": "07d39704-65e9-4ffe-d4ce-5d8223002ad4"
      },
      "source": [
        "total = len(data)\n",
        "total"
      ],
      "execution_count": null,
      "outputs": [
        {
          "output_type": "execute_result",
          "data": {
            "text/plain": [
              "500"
            ]
          },
          "metadata": {
            "tags": []
          },
          "execution_count": 153
        }
      ]
    },
    {
      "cell_type": "markdown",
      "metadata": {
        "id": "5cXW5Oe8RkoD"
      },
      "source": [
        "#### compute the baselines"
      ]
    },
    {
      "cell_type": "code",
      "metadata": {
        "colab": {
          "base_uri": "https://localhost:8080/"
        },
        "id": "7JqG9eGkRkoE",
        "outputId": "f2a54740-7952-4969-f78f-05cbe9953820"
      },
      "source": [
        "print('random baseline {}'.format(1.0/len(cat)))\n",
        "\n",
        "print('most common baseline?')\n",
        "for cat in cats:\n",
        "    print(cat, len(data[data.cat==cat])/total)"
      ],
      "execution_count": null,
      "outputs": [
        {
          "output_type": "stream",
          "text": [
            "random baseline 0.06666666666666667\n",
            "most common baseline?\n",
            "adventure 0.058\n",
            "belles_lettres 0.15\n",
            "editorial 0.054\n",
            "fiction 0.058\n",
            "government 0.06\n",
            "hobbies 0.072\n",
            "humor 0.018\n",
            "learned 0.16\n",
            "lore 0.096\n",
            "mystery 0.048\n",
            "news 0.088\n",
            "religion 0.034\n",
            "reviews 0.034\n",
            "romance 0.058\n",
            "science_fiction 0.012\n"
          ],
          "name": "stdout"
        }
      ]
    },
    {
      "cell_type": "markdown",
      "metadata": {
        "id": "aX6GsQrDRkoE"
      },
      "source": [
        "#### split the data into train/test"
      ]
    },
    {
      "cell_type": "code",
      "metadata": {
        "colab": {
          "base_uri": "https://localhost:8080/"
        },
        "id": "lM7-IBZtRkoE",
        "outputId": "6db080f2-0c06-4221-d09f-13891ee258f6"
      },
      "source": [
        "test = data.sample(frac=0.1,random_state=200)\n",
        "train = data.drop(test.index)\n",
        "\n",
        "test.shape, train.shape "
      ],
      "execution_count": null,
      "outputs": [
        {
          "output_type": "execute_result",
          "data": {
            "text/plain": [
              "((50, 2), (450, 2))"
            ]
          },
          "metadata": {
            "tags": []
          },
          "execution_count": 155
        }
      ]
    },
    {
      "cell_type": "markdown",
      "metadata": {
        "id": "faemLMyzRkoE"
      },
      "source": [
        "#### train a classifier"
      ]
    },
    {
      "cell_type": "code",
      "metadata": {
        "id": "36_MZt6gRkoF"
      },
      "source": [
        "from sklearn import preprocessing\n",
        "le = preprocessing.LabelEncoder()\n",
        "le.fit(data.cat) \n",
        "X = [x[0] for x in train.vectors]\n",
        "y = le.transform(train.cat)"
      ],
      "execution_count": null,
      "outputs": []
    },
    {
      "cell_type": "code",
      "metadata": {
        "id": "PyEcCXzBRkoF"
      },
      "source": [
        "from sklearn.linear_model import LogisticRegression"
      ],
      "execution_count": null,
      "outputs": []
    },
    {
      "cell_type": "code",
      "metadata": {
        "id": "m2qm3iUrRkoF"
      },
      "source": [
        "clfr = LogisticRegression(multi_class='multinomial', solver='lbfgs')"
      ],
      "execution_count": null,
      "outputs": []
    },
    {
      "cell_type": "code",
      "metadata": {
        "colab": {
          "base_uri": "https://localhost:8080/"
        },
        "id": "mXibx92RRkoF",
        "outputId": "94ee2e32-8a95-4301-c748-f8405b34ae8b"
      },
      "source": [
        "clfr.fit(X,y)"
      ],
      "execution_count": null,
      "outputs": [
        {
          "output_type": "stream",
          "text": [
            "/usr/local/lib/python3.7/dist-packages/sklearn/linear_model/_logistic.py:940: ConvergenceWarning: lbfgs failed to converge (status=1):\n",
            "STOP: TOTAL NO. of ITERATIONS REACHED LIMIT.\n",
            "\n",
            "Increase the number of iterations (max_iter) or scale the data as shown in:\n",
            "    https://scikit-learn.org/stable/modules/preprocessing.html\n",
            "Please also refer to the documentation for alternative solver options:\n",
            "    https://scikit-learn.org/stable/modules/linear_model.html#logistic-regression\n",
            "  extra_warning_msg=_LOGISTIC_SOLVER_CONVERGENCE_MSG)\n"
          ],
          "name": "stderr"
        },
        {
          "output_type": "execute_result",
          "data": {
            "text/plain": [
              "LogisticRegression(C=1.0, class_weight=None, dual=False, fit_intercept=True,\n",
              "                   intercept_scaling=1, l1_ratio=None, max_iter=100,\n",
              "                   multi_class='multinomial', n_jobs=None, penalty='l2',\n",
              "                   random_state=None, solver='lbfgs', tol=0.0001, verbose=0,\n",
              "                   warm_start=False)"
            ]
          },
          "metadata": {
            "tags": []
          },
          "execution_count": 159
        }
      ]
    },
    {
      "cell_type": "markdown",
      "metadata": {
        "id": "AkrTNq5MRkoG"
      },
      "source": [
        "#### evaluate "
      ]
    },
    {
      "cell_type": "code",
      "metadata": {
        "id": "RCoFYhQRRkoG"
      },
      "source": [
        "from sklearn.metrics import accuracy_score"
      ],
      "execution_count": null,
      "outputs": []
    },
    {
      "cell_type": "code",
      "metadata": {
        "id": "fjFlkYt7RkoG"
      },
      "source": [
        "test_y = le.transform(test.cat)\n",
        "test_X = [x[0] for x in test.vectors]\n",
        "\n",
        "score = accuracy_score(clfr.predict(test_X), test_y)"
      ],
      "execution_count": null,
      "outputs": []
    },
    {
      "cell_type": "code",
      "metadata": {
        "colab": {
          "base_uri": "https://localhost:8080/"
        },
        "id": "9Ns0NxenRkoG",
        "outputId": "e15c8347-58bd-4fb5-86c1-be381a4efab5"
      },
      "source": [
        "print(path, score)"
      ],
      "execution_count": null,
      "outputs": [
        {
          "output_type": "stream",
          "text": [
            "glove.6B.300d.magnitude 0.52\n"
          ],
          "name": "stdout"
        }
      ]
    },
    {
      "cell_type": "markdown",
      "metadata": {
        "id": "j_iSRcTsptfb"
      },
      "source": [
        "data/GoogleNews-vectors-negative300.magnitude 0.4\n",
        "data/wiki-news-300d-1M.magnitude 0.56\n",
        "data/glove.6B.300d.magnitude 0.52"
      ]
    },
    {
      "cell_type": "markdown",
      "metadata": {
        "id": "M2oIpWoSpoWG"
      },
      "source": [
        "## Preprocessing data for neural network\n"
      ]
    },
    {
      "cell_type": "code",
      "metadata": {
        "colab": {
          "base_uri": "https://localhost:8080/"
        },
        "id": "p2Sz1HSCRkoH",
        "outputId": "b001db05-3817-46c2-ad10-a43f577dce65"
      },
      "source": [
        "from sklearn import preprocessing\n",
        "le = preprocessing.LabelEncoder()\n",
        "ohe = preprocessing.OneHotEncoder()\n",
        "le.fit(data.cat) \n",
        "y = le.transform(train.cat).reshape(-1,1)\n",
        "ohe.fit(y)\n",
        "\n",
        "y = ohe.transform(y).todense()\n",
        "\n",
        "X = np.array([x[0] for x in train.vectors])\n",
        "X.shape, y.shape\n"
      ],
      "execution_count": null,
      "outputs": [
        {
          "output_type": "execute_result",
          "data": {
            "text/plain": [
              "((450, 300), (450, 15))"
            ]
          },
          "metadata": {
            "tags": []
          },
          "execution_count": 163
        }
      ]
    },
    {
      "cell_type": "code",
      "metadata": {
        "id": "gdg2QdR_pzZP"
      },
      "source": [
        "\n",
        "from keras.models import Sequential\n",
        "from keras import layers\n",
        "from keras.optimizers import Adam"
      ],
      "execution_count": null,
      "outputs": []
    },
    {
      "cell_type": "markdown",
      "metadata": {
        "id": "4BjmI-6tqDxY"
      },
      "source": [
        "### With a single dense hidden layer"
      ]
    },
    {
      "cell_type": "code",
      "metadata": {
        "id": "7CsEvucap1Ny"
      },
      "source": [
        "model = Sequential()\n",
        "model.add(layers.Dense(32, input_dim = 300, activation='sigmoid'))\n",
        "model.add(layers.Dense(15, activation='softmax'))"
      ],
      "execution_count": null,
      "outputs": []
    },
    {
      "cell_type": "code",
      "metadata": {
        "colab": {
          "base_uri": "https://localhost:8080/"
        },
        "id": "ED4VO0YVp444",
        "outputId": "947c490c-94bd-4d8d-c8e7-55b621fdfad0"
      },
      "source": [
        "model.compile(loss='binary_crossentropy', optimizer='adam', metrics=['accuracy'])\n",
        "model.summary()"
      ],
      "execution_count": null,
      "outputs": [
        {
          "output_type": "stream",
          "text": [
            "Model: \"sequential_22\"\n",
            "_________________________________________________________________\n",
            "Layer (type)                 Output Shape              Param #   \n",
            "=================================================================\n",
            "dense_60 (Dense)             (None, 32)                9632      \n",
            "_________________________________________________________________\n",
            "dense_61 (Dense)             (None, 15)                495       \n",
            "=================================================================\n",
            "Total params: 10,127\n",
            "Trainable params: 10,127\n",
            "Non-trainable params: 0\n",
            "_________________________________________________________________\n"
          ],
          "name": "stdout"
        }
      ]
    },
    {
      "cell_type": "code",
      "metadata": {
        "id": "Y-OmIR3aqLVJ"
      },
      "source": [
        "test_y = ohe.transform(le.transform(test.cat).reshape(-1, 1))\n",
        "test_X = np.array([x[0] for x in test.vectors])"
      ],
      "execution_count": null,
      "outputs": []
    },
    {
      "cell_type": "code",
      "metadata": {
        "id": "lMInVDsUrkE7"
      },
      "source": [
        "# loss, accuracy = model.evaluate(test_X, test_y, verbose = True)\n",
        "# loss, accuracy"
      ],
      "execution_count": null,
      "outputs": []
    },
    {
      "cell_type": "markdown",
      "metadata": {
        "id": "2OgRpSDHvgI7"
      },
      "source": [
        "I had a loss of 0.21 and accuracy of 0.93 here"
      ]
    },
    {
      "cell_type": "markdown",
      "metadata": {
        "id": "5xjJU3mqrvRZ"
      },
      "source": [
        "### With a single dense hidden layer (Changing number of nodes, activation functions"
      ]
    },
    {
      "cell_type": "code",
      "metadata": {
        "colab": {
          "base_uri": "https://localhost:8080/"
        },
        "id": "MJ7DU8bnrxQw",
        "outputId": "d08bcb60-7891-4576-9784-8d0ce0711e9c"
      },
      "source": [
        "model = Sequential()\n",
        "model.add(layers.Dense(64, input_dim = 300, activation='relu'))\n",
        "model.add(layers.Dense(15, activation='softmax'))\n",
        "model.compile(loss='binary_crossentropy', optimizer='adam', metrics=['accuracy'])\n",
        "\n",
        "model.fit(X, y, epochs = 100, verbose = False)"
      ],
      "execution_count": null,
      "outputs": [
        {
          "output_type": "execute_result",
          "data": {
            "text/plain": [
              "<tensorflow.python.keras.callbacks.History at 0x7fe830bea250>"
            ]
          },
          "metadata": {
            "tags": []
          },
          "execution_count": 169
        }
      ]
    },
    {
      "cell_type": "code",
      "metadata": {
        "id": "GTA5TGX8rzAI"
      },
      "source": [
        "test_y = ohe.transform(le.transform(test.cat).reshape(-1, 1))\n",
        "test_X = np.array([x[0] for x in test.vectors])\n"
      ],
      "execution_count": null,
      "outputs": []
    },
    {
      "cell_type": "code",
      "metadata": {
        "id": "cBAn7mXivPTv"
      },
      "source": [
        "# loss, accuracy = model.evaluate(test_X, test_y, verbose = True)\n",
        "# loss, accuracy"
      ],
      "execution_count": null,
      "outputs": []
    },
    {
      "cell_type": "markdown",
      "metadata": {
        "id": "daR0RXSVvnoY"
      },
      "source": [
        "I had a loss of 0.27 and accuracy of 0.93 here"
      ]
    },
    {
      "cell_type": "code",
      "metadata": {
        "id": "86rk2yunsMvx"
      },
      "source": [
        ""
      ],
      "execution_count": null,
      "outputs": []
    },
    {
      "cell_type": "code",
      "metadata": {
        "id": "oPmdsnBiv_qF"
      },
      "source": [
        "test_y = ohe.transform(le.transform(test.cat).reshape(-1, 1))\n",
        "test_X = np.array([x[0] for x in test.vectors])\n",
        "# loss, accuracy = model.evaluate(test_X, test_y, verbose = True)\n",
        "# loss, accuracy"
      ],
      "execution_count": null,
      "outputs": []
    },
    {
      "cell_type": "markdown",
      "metadata": {
        "id": "ckbqHmOGwHZb"
      },
      "source": [
        "I had a loss of 1.92 and accuracy of 0.87 here"
      ]
    },
    {
      "cell_type": "markdown",
      "metadata": {
        "id": "K9hYfyt9wRpb"
      },
      "source": [
        "### With additional hidden layers"
      ]
    },
    {
      "cell_type": "code",
      "metadata": {
        "id": "kSp_Ch_8wQN5"
      },
      "source": [
        "model = Sequential()\n",
        "model.add(layers.Dense(128, input_dim = 300, activation='sigmoid'))\n",
        "model.add(layers.Dense(64, activation='relu'))\n",
        "model.add(layers.Dense(15, activation='softmax'))"
      ],
      "execution_count": null,
      "outputs": []
    },
    {
      "cell_type": "code",
      "metadata": {
        "colab": {
          "base_uri": "https://localhost:8080/"
        },
        "id": "Meb5JAc4wQQx",
        "outputId": "9d392146-abe0-421c-f457-120ebebe56f9"
      },
      "source": [
        "model.compile(loss='binary_crossentropy', optimizer='adam', metrics=['accuracy'])\n",
        "model.summary()"
      ],
      "execution_count": null,
      "outputs": [
        {
          "output_type": "stream",
          "text": [
            "Model: \"sequential_24\"\n",
            "_________________________________________________________________\n",
            "Layer (type)                 Output Shape              Param #   \n",
            "=================================================================\n",
            "dense_64 (Dense)             (None, 128)               38528     \n",
            "_________________________________________________________________\n",
            "dense_65 (Dense)             (None, 64)                8256      \n",
            "_________________________________________________________________\n",
            "dense_66 (Dense)             (None, 15)                975       \n",
            "=================================================================\n",
            "Total params: 47,759\n",
            "Trainable params: 47,759\n",
            "Non-trainable params: 0\n",
            "_________________________________________________________________\n"
          ],
          "name": "stdout"
        }
      ]
    },
    {
      "cell_type": "code",
      "metadata": {
        "id": "AQqt10urwQTl"
      },
      "source": [
        "model.fit(X, y, epochs = 100, verbose = False)\n",
        "test_y = ohe.transform(le.transform(test.cat).reshape(-1, 1))\n",
        "test_X = np.array([x[0] for x in test.vectors])\n",
        "# loss, accuracy = model.evaluate(test_X, test_y, verbose = True)\n",
        "# loss, accuracy"
      ],
      "execution_count": null,
      "outputs": []
    },
    {
      "cell_type": "markdown",
      "metadata": {
        "id": "MpSVqxztwl1m"
      },
      "source": [
        "I had a loss of 0.16 and accuracy of 0.93 here"
      ]
    },
    {
      "cell_type": "markdown",
      "metadata": {
        "id": "OmmWPOVuwyuz"
      },
      "source": [
        "### Adding regularization (Dropout)"
      ]
    },
    {
      "cell_type": "code",
      "metadata": {
        "id": "UDVbmV_8wQVq"
      },
      "source": [
        "model = Sequential()\n",
        "model.add(layers.Dense(128, input_dim = 300, activation='sigmoid'))\n",
        "model.add(layers.Dropout(0.2))\n",
        "model.add(layers.Dense(64, activation='relu'))\n",
        "model.add(layers.Dense(15, activation='softmax'))\n",
        "\n",
        "model.compile(loss='binary_crossentropy', optimizer='adam', metrics=['accuracy'])"
      ],
      "execution_count": null,
      "outputs": []
    },
    {
      "cell_type": "code",
      "metadata": {
        "id": "WpxTrpkvwQYD"
      },
      "source": [
        "model.fit(X, y, epochs = 100, verbose = False)\n",
        "test_y = ohe.transform(le.transform(test.cat).reshape(-1, 1))\n",
        "test_X = np.array([x[0] for x in test.vectors])\n",
        "# loss, accuracy = model.evaluate(test_X, test_y, verbose = True)\n",
        "# loss, accuracy"
      ],
      "execution_count": null,
      "outputs": []
    },
    {
      "cell_type": "markdown",
      "metadata": {
        "id": "KaYhXM5rw6x_"
      },
      "source": [
        "I had a loss of 0.17 and accuracy of 0.93 here"
      ]
    },
    {
      "cell_type": "markdown",
      "metadata": {
        "id": "yYzf47N1w_ol"
      },
      "source": [
        "### Adding regularization (Norm)"
      ]
    },
    {
      "cell_type": "code",
      "metadata": {
        "id": "jp0HeRipwQaj"
      },
      "source": [
        "from keras import regularizers\n",
        "\n",
        "model = Sequential()\n",
        "model.add(layers.Dense(128, input_dim = 300, activation='sigmoid', kernel_regularizer=regularizers.l2(0.01)))\n",
        "model.add(layers.Dense(64, activation='relu'))\n",
        "model.add(layers.Dense(15, activation='softmax'))\n",
        "\n",
        "model.compile(loss='binary_crossentropy', optimizer='adam', metrics=['accuracy'])"
      ],
      "execution_count": null,
      "outputs": []
    },
    {
      "cell_type": "code",
      "metadata": {
        "id": "SJ4m-XlWwQdn"
      },
      "source": [
        "model.fit(X, y, epochs = 100, verbose = False)\n",
        "test_y = ohe.transform(le.transform(test.cat).reshape(-1, 1))\n",
        "test_X = np.array([x[0] for x in test.vectors])\n",
        "# loss, accuracy = model.evaluate(test_X, test_y, verbose = True)\n",
        "# loss, accuracy"
      ],
      "execution_count": null,
      "outputs": []
    },
    {
      "cell_type": "markdown",
      "metadata": {
        "id": "pOgQQt_IxGnZ"
      },
      "source": [
        "I had a loss of 0.21 and accuracy of 0.93 here\n",
        "\n"
      ]
    },
    {
      "cell_type": "code",
      "metadata": {
        "id": "TrXhBACrwQgF"
      },
      "source": [
        ""
      ],
      "execution_count": null,
      "outputs": []
    },
    {
      "cell_type": "code",
      "metadata": {
        "colab": {
          "base_uri": "https://localhost:8080/"
        },
        "id": "wBEhlPVNummw",
        "outputId": "5a53d41a-49e4-4981-e2be-aeb60ac38924"
      },
      "source": [
        "le = preprocessing.LabelEncoder() \n",
        "ohe = preprocessing.OneHotEncoder() \n",
        "\n",
        "le.fit(data.cat) \n",
        "y = le.transform(train.cat).reshape(-1, 1) \n",
        "ohe.fit(y)\n",
        "y = ohe.transform(y).todense()\n",
        "\n",
        "X = np.array([x[0] for x in train.vectors])\n",
        "\n",
        "X.shape, y.shape\n",
        "\n",
        "test_y = le.transform(test.cat).reshape(-1, 1) \n",
        "ohe.fit(test_y)\n",
        "test_y = ohe.transform(test_y).todense()\n",
        "\n",
        "test_X = np.array([x[0] for x in test.vectors])\n",
        "\n",
        "test_X.shape, test_y.shape"
      ],
      "execution_count": null,
      "outputs": [
        {
          "output_type": "execute_result",
          "data": {
            "text/plain": [
              "((50, 300), (50, 14))"
            ]
          },
          "metadata": {
            "tags": []
          },
          "execution_count": 180
        }
      ]
    },
    {
      "cell_type": "code",
      "metadata": {
        "id": "bOavRF74usTc"
      },
      "source": [
        "def final_model():\n",
        "  model = tf.keras.Sequential([\n",
        "    tf.keras.layers.Dense(128, activation='sigmoid', kernel_regularizer='l2', input_shape=(300,)),\n",
        "    tf.keras.layers.Dense(64, activation='relu',kernel_regularizer='l2'),\n",
        "    tf.keras.layers.Dense(15, activation='softmax',kernel_regularizer='l2'),\n",
        "    tf.keras.layers.Dense(15)\n",
        "  ])\n",
        "\n",
        "  model.compile(optimizer='Adam',\n",
        "                loss='binary_crossentropy',\n",
        "                metrics=['accuracy'])\n",
        "  return model"
      ],
      "execution_count": null,
      "outputs": []
    },
    {
      "cell_type": "code",
      "metadata": {
        "colab": {
          "base_uri": "https://localhost:8080/"
        },
        "id": "o5x10Hl1ut9t",
        "outputId": "5d5934a5-a021-4588-d20d-f40569354aeb"
      },
      "source": [
        "model = None\n",
        "model = final_model()\n",
        "model.summary()"
      ],
      "execution_count": null,
      "outputs": [
        {
          "output_type": "stream",
          "text": [
            "Model: \"sequential_27\"\n",
            "_________________________________________________________________\n",
            "Layer (type)                 Output Shape              Param #   \n",
            "=================================================================\n",
            "dense_73 (Dense)             (None, 128)               38528     \n",
            "_________________________________________________________________\n",
            "dense_74 (Dense)             (None, 64)                8256      \n",
            "_________________________________________________________________\n",
            "dense_75 (Dense)             (None, 15)                975       \n",
            "_________________________________________________________________\n",
            "dense_76 (Dense)             (None, 15)                240       \n",
            "=================================================================\n",
            "Total params: 47,999\n",
            "Trainable params: 47,999\n",
            "Non-trainable params: 0\n",
            "_________________________________________________________________\n"
          ],
          "name": "stdout"
        }
      ]
    },
    {
      "cell_type": "code",
      "metadata": {
        "colab": {
          "base_uri": "https://localhost:8080/"
        },
        "id": "WEWd1IV1uvhQ",
        "outputId": "6f8c93af-ac5d-4123-bf9b-42dd709b55de"
      },
      "source": [
        "model.fit(X,y, epochs=200)"
      ],
      "execution_count": null,
      "outputs": [
        {
          "output_type": "stream",
          "text": [
            "Epoch 1/200\n",
            "15/15 [==============================] - 1s 2ms/step - loss: 3.4260 - accuracy: 0.0849\n",
            "Epoch 2/200\n",
            "15/15 [==============================] - 0s 2ms/step - loss: 2.6282 - accuracy: 0.0748\n",
            "Epoch 3/200\n",
            "15/15 [==============================] - 0s 2ms/step - loss: 2.0333 - accuracy: 0.0840\n",
            "Epoch 4/200\n",
            "15/15 [==============================] - 0s 2ms/step - loss: 1.6880 - accuracy: 0.0728\n",
            "Epoch 5/200\n",
            "15/15 [==============================] - 0s 2ms/step - loss: 1.4466 - accuracy: 0.1213\n",
            "Epoch 6/200\n",
            "15/15 [==============================] - 0s 2ms/step - loss: 1.3108 - accuracy: 0.1403\n",
            "Epoch 7/200\n",
            "15/15 [==============================] - 0s 2ms/step - loss: 1.1278 - accuracy: 0.1067\n",
            "Epoch 8/200\n",
            "15/15 [==============================] - 0s 2ms/step - loss: 1.0712 - accuracy: 0.1458\n",
            "Epoch 9/200\n",
            "15/15 [==============================] - 0s 2ms/step - loss: 0.9903 - accuracy: 0.1487\n",
            "Epoch 10/200\n",
            "15/15 [==============================] - 0s 2ms/step - loss: 0.9222 - accuracy: 0.1513\n",
            "Epoch 11/200\n",
            "15/15 [==============================] - 0s 2ms/step - loss: 0.9094 - accuracy: 0.1454\n",
            "Epoch 12/200\n",
            "15/15 [==============================] - 0s 2ms/step - loss: 0.8965 - accuracy: 0.1471\n",
            "Epoch 13/200\n",
            "15/15 [==============================] - 0s 2ms/step - loss: 0.8812 - accuracy: 0.1627\n",
            "Epoch 14/200\n",
            "15/15 [==============================] - 0s 2ms/step - loss: 0.8687 - accuracy: 0.1516\n",
            "Epoch 15/200\n",
            "15/15 [==============================] - 0s 2ms/step - loss: 0.8504 - accuracy: 0.1516\n",
            "Epoch 16/200\n",
            "15/15 [==============================] - 0s 2ms/step - loss: 0.8137 - accuracy: 0.1565\n",
            "Epoch 17/200\n",
            "15/15 [==============================] - 0s 2ms/step - loss: 0.7983 - accuracy: 0.1600\n",
            "Epoch 18/200\n",
            "15/15 [==============================] - 0s 2ms/step - loss: 0.8265 - accuracy: 0.1362\n",
            "Epoch 19/200\n",
            "15/15 [==============================] - 0s 2ms/step - loss: 0.7957 - accuracy: 0.1723\n",
            "Epoch 20/200\n",
            "15/15 [==============================] - 0s 2ms/step - loss: 0.7896 - accuracy: 0.1323\n",
            "Epoch 21/200\n",
            "15/15 [==============================] - 0s 3ms/step - loss: 0.7444 - accuracy: 0.1570\n",
            "Epoch 22/200\n",
            "15/15 [==============================] - 0s 2ms/step - loss: 0.7731 - accuracy: 0.1346\n",
            "Epoch 23/200\n",
            "15/15 [==============================] - 0s 2ms/step - loss: 0.7677 - accuracy: 0.1556\n",
            "Epoch 24/200\n",
            "15/15 [==============================] - 0s 2ms/step - loss: 0.7382 - accuracy: 0.1647\n",
            "Epoch 25/200\n",
            "15/15 [==============================] - 0s 2ms/step - loss: 0.7538 - accuracy: 0.1523\n",
            "Epoch 26/200\n",
            "15/15 [==============================] - 0s 2ms/step - loss: 0.7433 - accuracy: 0.1426\n",
            "Epoch 27/200\n",
            "15/15 [==============================] - 0s 2ms/step - loss: 0.7239 - accuracy: 0.1537\n",
            "Epoch 28/200\n",
            "15/15 [==============================] - 0s 2ms/step - loss: 0.7547 - accuracy: 0.1383\n",
            "Epoch 29/200\n",
            "15/15 [==============================] - 0s 2ms/step - loss: 0.7177 - accuracy: 0.1660\n",
            "Epoch 30/200\n",
            "15/15 [==============================] - 0s 2ms/step - loss: 0.7310 - accuracy: 0.1398\n",
            "Epoch 31/200\n",
            "15/15 [==============================] - 0s 2ms/step - loss: 0.7167 - accuracy: 0.1270\n",
            "Epoch 32/200\n",
            "15/15 [==============================] - 0s 2ms/step - loss: 0.7075 - accuracy: 0.1566\n",
            "Epoch 33/200\n",
            "15/15 [==============================] - 0s 2ms/step - loss: 0.6891 - accuracy: 0.1574\n",
            "Epoch 34/200\n",
            "15/15 [==============================] - 0s 2ms/step - loss: 0.6947 - accuracy: 0.1629\n",
            "Epoch 35/200\n",
            "15/15 [==============================] - 0s 2ms/step - loss: 0.7018 - accuracy: 0.1517\n",
            "Epoch 36/200\n",
            "15/15 [==============================] - 0s 2ms/step - loss: 0.6912 - accuracy: 0.1417\n",
            "Epoch 37/200\n",
            "15/15 [==============================] - 0s 2ms/step - loss: 0.6657 - accuracy: 0.1355\n",
            "Epoch 38/200\n",
            "15/15 [==============================] - 0s 2ms/step - loss: 0.6938 - accuracy: 0.1531\n",
            "Epoch 39/200\n",
            "15/15 [==============================] - 0s 2ms/step - loss: 0.6750 - accuracy: 0.1361\n",
            "Epoch 40/200\n",
            "15/15 [==============================] - 0s 2ms/step - loss: 0.6735 - accuracy: 0.1604\n",
            "Epoch 41/200\n",
            "15/15 [==============================] - 0s 2ms/step - loss: 0.6906 - accuracy: 0.1465\n",
            "Epoch 42/200\n",
            "15/15 [==============================] - 0s 2ms/step - loss: 0.6755 - accuracy: 0.1281\n",
            "Epoch 43/200\n",
            "15/15 [==============================] - 0s 2ms/step - loss: 0.6422 - accuracy: 0.1606\n",
            "Epoch 44/200\n",
            "15/15 [==============================] - 0s 2ms/step - loss: 0.6584 - accuracy: 0.1598\n",
            "Epoch 45/200\n",
            "15/15 [==============================] - 0s 2ms/step - loss: 0.6679 - accuracy: 0.1058\n",
            "Epoch 46/200\n",
            "15/15 [==============================] - 0s 2ms/step - loss: 0.6655 - accuracy: 0.0835\n",
            "Epoch 47/200\n",
            "15/15 [==============================] - 0s 2ms/step - loss: 0.6168 - accuracy: 0.0987\n",
            "Epoch 48/200\n",
            "15/15 [==============================] - 0s 2ms/step - loss: 0.6412 - accuracy: 0.1610\n",
            "Epoch 49/200\n",
            "15/15 [==============================] - 0s 2ms/step - loss: 0.6356 - accuracy: 0.1421\n",
            "Epoch 50/200\n",
            "15/15 [==============================] - 0s 2ms/step - loss: 0.6154 - accuracy: 0.1409\n",
            "Epoch 51/200\n",
            "15/15 [==============================] - 0s 2ms/step - loss: 0.6336 - accuracy: 0.1549\n",
            "Epoch 52/200\n",
            "15/15 [==============================] - 0s 3ms/step - loss: 0.6201 - accuracy: 0.1481\n",
            "Epoch 53/200\n",
            "15/15 [==============================] - 0s 2ms/step - loss: 0.6141 - accuracy: 0.1522\n",
            "Epoch 54/200\n",
            "15/15 [==============================] - 0s 2ms/step - loss: 0.6332 - accuracy: 0.1335\n",
            "Epoch 55/200\n",
            "15/15 [==============================] - 0s 2ms/step - loss: 0.6324 - accuracy: 0.1394\n",
            "Epoch 56/200\n",
            "15/15 [==============================] - 0s 2ms/step - loss: 0.6269 - accuracy: 0.1586\n",
            "Epoch 57/200\n",
            "15/15 [==============================] - 0s 2ms/step - loss: 0.5957 - accuracy: 0.1371\n",
            "Epoch 58/200\n",
            "15/15 [==============================] - 0s 3ms/step - loss: 0.6049 - accuracy: 0.1729\n",
            "Epoch 59/200\n",
            "15/15 [==============================] - 0s 2ms/step - loss: 0.5907 - accuracy: 0.1573\n",
            "Epoch 60/200\n",
            "15/15 [==============================] - 0s 3ms/step - loss: 0.5823 - accuracy: 0.1568\n",
            "Epoch 61/200\n",
            "15/15 [==============================] - 0s 2ms/step - loss: 0.5905 - accuracy: 0.1448\n",
            "Epoch 62/200\n",
            "15/15 [==============================] - 0s 2ms/step - loss: 0.5996 - accuracy: 0.1318\n",
            "Epoch 63/200\n",
            "15/15 [==============================] - 0s 2ms/step - loss: 0.6083 - accuracy: 0.1230\n",
            "Epoch 64/200\n",
            "15/15 [==============================] - 0s 2ms/step - loss: 0.6097 - accuracy: 0.1420\n",
            "Epoch 65/200\n",
            "15/15 [==============================] - 0s 2ms/step - loss: 0.5798 - accuracy: 0.1389\n",
            "Epoch 66/200\n",
            "15/15 [==============================] - 0s 2ms/step - loss: 0.5990 - accuracy: 0.1228\n",
            "Epoch 67/200\n",
            "15/15 [==============================] - 0s 2ms/step - loss: 0.6077 - accuracy: 0.1386\n",
            "Epoch 68/200\n",
            "15/15 [==============================] - 0s 3ms/step - loss: 0.5718 - accuracy: 0.1701\n",
            "Epoch 69/200\n",
            "15/15 [==============================] - 0s 2ms/step - loss: 0.5814 - accuracy: 0.1599\n",
            "Epoch 70/200\n",
            "15/15 [==============================] - 0s 2ms/step - loss: 0.5725 - accuracy: 0.1661\n",
            "Epoch 71/200\n",
            "15/15 [==============================] - 0s 2ms/step - loss: 0.6037 - accuracy: 0.1689\n",
            "Epoch 72/200\n",
            "15/15 [==============================] - 0s 2ms/step - loss: 0.5838 - accuracy: 0.1538\n",
            "Epoch 73/200\n",
            "15/15 [==============================] - 0s 2ms/step - loss: 0.5936 - accuracy: 0.1414\n",
            "Epoch 74/200\n",
            "15/15 [==============================] - 0s 2ms/step - loss: 0.5842 - accuracy: 0.1595\n",
            "Epoch 75/200\n",
            "15/15 [==============================] - 0s 3ms/step - loss: 0.5577 - accuracy: 0.1619\n",
            "Epoch 76/200\n",
            "15/15 [==============================] - 0s 2ms/step - loss: 0.5655 - accuracy: 0.1565\n",
            "Epoch 77/200\n",
            "15/15 [==============================] - 0s 2ms/step - loss: 0.5733 - accuracy: 0.1475\n",
            "Epoch 78/200\n",
            "15/15 [==============================] - 0s 2ms/step - loss: 0.5786 - accuracy: 0.1412\n",
            "Epoch 79/200\n",
            "15/15 [==============================] - 0s 2ms/step - loss: 0.5696 - accuracy: 0.1400\n",
            "Epoch 80/200\n",
            "15/15 [==============================] - 0s 2ms/step - loss: 0.5757 - accuracy: 0.1558\n",
            "Epoch 81/200\n",
            "15/15 [==============================] - 0s 2ms/step - loss: 0.5759 - accuracy: 0.1483\n",
            "Epoch 82/200\n",
            "15/15 [==============================] - 0s 2ms/step - loss: 0.5631 - accuracy: 0.1474\n",
            "Epoch 83/200\n",
            "15/15 [==============================] - 0s 2ms/step - loss: 0.5373 - accuracy: 0.1845\n",
            "Epoch 84/200\n",
            "15/15 [==============================] - 0s 2ms/step - loss: 0.5541 - accuracy: 0.1444\n",
            "Epoch 85/200\n",
            "15/15 [==============================] - 0s 2ms/step - loss: 0.5423 - accuracy: 0.1622\n",
            "Epoch 86/200\n",
            "15/15 [==============================] - 0s 2ms/step - loss: 0.5803 - accuracy: 0.1445\n",
            "Epoch 87/200\n",
            "15/15 [==============================] - 0s 2ms/step - loss: 0.5410 - accuracy: 0.1541\n",
            "Epoch 88/200\n",
            "15/15 [==============================] - 0s 2ms/step - loss: 0.5887 - accuracy: 0.1479\n",
            "Epoch 89/200\n",
            "15/15 [==============================] - 0s 2ms/step - loss: 0.5459 - accuracy: 0.1520\n",
            "Epoch 90/200\n",
            "15/15 [==============================] - 0s 2ms/step - loss: 0.5560 - accuracy: 0.1591\n",
            "Epoch 91/200\n",
            "15/15 [==============================] - 0s 2ms/step - loss: 0.5519 - accuracy: 0.1547\n",
            "Epoch 92/200\n",
            "15/15 [==============================] - 0s 2ms/step - loss: 0.5673 - accuracy: 0.1545\n",
            "Epoch 93/200\n",
            "15/15 [==============================] - 0s 2ms/step - loss: 0.5499 - accuracy: 0.1527\n",
            "Epoch 94/200\n",
            "15/15 [==============================] - 0s 2ms/step - loss: 0.5594 - accuracy: 0.1495\n",
            "Epoch 95/200\n",
            "15/15 [==============================] - 0s 2ms/step - loss: 0.5623 - accuracy: 0.1413\n",
            "Epoch 96/200\n",
            "15/15 [==============================] - 0s 2ms/step - loss: 0.5614 - accuracy: 0.1465\n",
            "Epoch 97/200\n",
            "15/15 [==============================] - 0s 2ms/step - loss: 0.5351 - accuracy: 0.1477\n",
            "Epoch 98/200\n",
            "15/15 [==============================] - 0s 2ms/step - loss: 0.5687 - accuracy: 0.1493\n",
            "Epoch 99/200\n",
            "15/15 [==============================] - 0s 2ms/step - loss: 0.5661 - accuracy: 0.1401\n",
            "Epoch 100/200\n",
            "15/15 [==============================] - 0s 3ms/step - loss: 0.5248 - accuracy: 0.1755\n",
            "Epoch 101/200\n",
            "15/15 [==============================] - 0s 2ms/step - loss: 0.5383 - accuracy: 0.1643\n",
            "Epoch 102/200\n",
            "15/15 [==============================] - 0s 2ms/step - loss: 0.5429 - accuracy: 0.1410\n",
            "Epoch 103/200\n",
            "15/15 [==============================] - 0s 2ms/step - loss: 0.5616 - accuracy: 0.1467\n",
            "Epoch 104/200\n",
            "15/15 [==============================] - 0s 3ms/step - loss: 0.5541 - accuracy: 0.1445\n",
            "Epoch 105/200\n",
            "15/15 [==============================] - 0s 2ms/step - loss: 0.5276 - accuracy: 0.1405\n",
            "Epoch 106/200\n",
            "15/15 [==============================] - 0s 2ms/step - loss: 0.5728 - accuracy: 0.1435\n",
            "Epoch 107/200\n",
            "15/15 [==============================] - 0s 2ms/step - loss: 0.5241 - accuracy: 0.1579\n",
            "Epoch 108/200\n",
            "15/15 [==============================] - 0s 2ms/step - loss: 0.5548 - accuracy: 0.1604\n",
            "Epoch 109/200\n",
            "15/15 [==============================] - 0s 2ms/step - loss: 0.5388 - accuracy: 0.1578\n",
            "Epoch 110/200\n",
            "15/15 [==============================] - 0s 2ms/step - loss: 0.5251 - accuracy: 0.1402\n",
            "Epoch 111/200\n",
            "15/15 [==============================] - 0s 2ms/step - loss: 0.5568 - accuracy: 0.1265\n",
            "Epoch 112/200\n",
            "15/15 [==============================] - 0s 2ms/step - loss: 0.5455 - accuracy: 0.1423\n",
            "Epoch 113/200\n",
            "15/15 [==============================] - 0s 2ms/step - loss: 0.5522 - accuracy: 0.1437\n",
            "Epoch 114/200\n",
            "15/15 [==============================] - 0s 2ms/step - loss: 0.5275 - accuracy: 0.1728\n",
            "Epoch 115/200\n",
            "15/15 [==============================] - 0s 2ms/step - loss: 0.5545 - accuracy: 0.1502\n",
            "Epoch 116/200\n",
            "15/15 [==============================] - 0s 2ms/step - loss: 0.5338 - accuracy: 0.1405\n",
            "Epoch 117/200\n",
            "15/15 [==============================] - 0s 2ms/step - loss: 0.5288 - accuracy: 0.1552\n",
            "Epoch 118/200\n",
            "15/15 [==============================] - 0s 2ms/step - loss: 0.5304 - accuracy: 0.1612\n",
            "Epoch 119/200\n",
            "15/15 [==============================] - 0s 2ms/step - loss: 0.5471 - accuracy: 0.1415\n",
            "Epoch 120/200\n",
            "15/15 [==============================] - 0s 2ms/step - loss: 0.5543 - accuracy: 0.1328\n",
            "Epoch 121/200\n",
            "15/15 [==============================] - 0s 2ms/step - loss: 0.5232 - accuracy: 0.1516\n",
            "Epoch 122/200\n",
            "15/15 [==============================] - 0s 2ms/step - loss: 0.5348 - accuracy: 0.1595\n",
            "Epoch 123/200\n",
            "15/15 [==============================] - 0s 2ms/step - loss: 0.5385 - accuracy: 0.1548\n",
            "Epoch 124/200\n",
            "15/15 [==============================] - 0s 3ms/step - loss: 0.5109 - accuracy: 0.1366\n",
            "Epoch 125/200\n",
            "15/15 [==============================] - 0s 3ms/step - loss: 0.5187 - accuracy: 0.1474\n",
            "Epoch 126/200\n",
            "15/15 [==============================] - 0s 2ms/step - loss: 0.5347 - accuracy: 0.1523\n",
            "Epoch 127/200\n",
            "15/15 [==============================] - 0s 2ms/step - loss: 0.5183 - accuracy: 0.1496\n",
            "Epoch 128/200\n",
            "15/15 [==============================] - 0s 2ms/step - loss: 0.5407 - accuracy: 0.1606\n",
            "Epoch 129/200\n",
            "15/15 [==============================] - 0s 2ms/step - loss: 0.5575 - accuracy: 0.1326\n",
            "Epoch 130/200\n",
            "15/15 [==============================] - 0s 2ms/step - loss: 0.5430 - accuracy: 0.1534\n",
            "Epoch 131/200\n",
            "15/15 [==============================] - 0s 2ms/step - loss: 0.5492 - accuracy: 0.1361\n",
            "Epoch 132/200\n",
            "15/15 [==============================] - 0s 2ms/step - loss: 0.5140 - accuracy: 0.1626\n",
            "Epoch 133/200\n",
            "15/15 [==============================] - 0s 2ms/step - loss: 0.5348 - accuracy: 0.1439\n",
            "Epoch 134/200\n",
            "15/15 [==============================] - 0s 2ms/step - loss: 0.5494 - accuracy: 0.1343\n",
            "Epoch 135/200\n",
            "15/15 [==============================] - 0s 2ms/step - loss: 0.5336 - accuracy: 0.1677\n",
            "Epoch 136/200\n",
            "15/15 [==============================] - 0s 2ms/step - loss: 0.5321 - accuracy: 0.1567\n",
            "Epoch 137/200\n",
            "15/15 [==============================] - 0s 3ms/step - loss: 0.5603 - accuracy: 0.1555\n",
            "Epoch 138/200\n",
            "15/15 [==============================] - 0s 2ms/step - loss: 0.5273 - accuracy: 0.1432\n",
            "Epoch 139/200\n",
            "15/15 [==============================] - 0s 2ms/step - loss: 0.5251 - accuracy: 0.1639\n",
            "Epoch 140/200\n",
            "15/15 [==============================] - 0s 2ms/step - loss: 0.5338 - accuracy: 0.1622\n",
            "Epoch 141/200\n",
            "15/15 [==============================] - 0s 2ms/step - loss: 0.5430 - accuracy: 0.1538\n",
            "Epoch 142/200\n",
            "15/15 [==============================] - 0s 2ms/step - loss: 0.5391 - accuracy: 0.1221\n",
            "Epoch 143/200\n",
            "15/15 [==============================] - 0s 2ms/step - loss: 0.5018 - accuracy: 0.1470\n",
            "Epoch 144/200\n",
            "15/15 [==============================] - 0s 2ms/step - loss: 0.5133 - accuracy: 0.1379\n",
            "Epoch 145/200\n",
            "15/15 [==============================] - 0s 2ms/step - loss: 0.5154 - accuracy: 0.1408\n",
            "Epoch 146/200\n",
            "15/15 [==============================] - 0s 2ms/step - loss: 0.5421 - accuracy: 0.1334\n",
            "Epoch 147/200\n",
            "15/15 [==============================] - 0s 2ms/step - loss: 0.5265 - accuracy: 0.1359\n",
            "Epoch 148/200\n",
            "15/15 [==============================] - 0s 2ms/step - loss: 0.5287 - accuracy: 0.1527\n",
            "Epoch 149/200\n",
            "15/15 [==============================] - 0s 3ms/step - loss: 0.5187 - accuracy: 0.1761\n",
            "Epoch 150/200\n",
            "15/15 [==============================] - 0s 2ms/step - loss: 0.5288 - accuracy: 0.1587\n",
            "Epoch 151/200\n",
            "15/15 [==============================] - 0s 3ms/step - loss: 0.5281 - accuracy: 0.1676\n",
            "Epoch 152/200\n",
            "15/15 [==============================] - 0s 2ms/step - loss: 0.5385 - accuracy: 0.1552\n",
            "Epoch 153/200\n",
            "15/15 [==============================] - 0s 2ms/step - loss: 0.5188 - accuracy: 0.1476\n",
            "Epoch 154/200\n",
            "15/15 [==============================] - 0s 2ms/step - loss: 0.5115 - accuracy: 0.1482\n",
            "Epoch 155/200\n",
            "15/15 [==============================] - 0s 3ms/step - loss: 0.5385 - accuracy: 0.1673\n",
            "Epoch 156/200\n",
            "15/15 [==============================] - 0s 2ms/step - loss: 0.5129 - accuracy: 0.1410\n",
            "Epoch 157/200\n",
            "15/15 [==============================] - 0s 2ms/step - loss: 0.5057 - accuracy: 0.1476\n",
            "Epoch 158/200\n",
            "15/15 [==============================] - 0s 2ms/step - loss: 0.5395 - accuracy: 0.1524\n",
            "Epoch 159/200\n",
            "15/15 [==============================] - 0s 3ms/step - loss: 0.5340 - accuracy: 0.1384\n",
            "Epoch 160/200\n",
            "15/15 [==============================] - 0s 2ms/step - loss: 0.5145 - accuracy: 0.1524\n",
            "Epoch 161/200\n",
            "15/15 [==============================] - 0s 3ms/step - loss: 0.5353 - accuracy: 0.1505\n",
            "Epoch 162/200\n",
            "15/15 [==============================] - 0s 3ms/step - loss: 0.5253 - accuracy: 0.1435\n",
            "Epoch 163/200\n",
            "15/15 [==============================] - 0s 2ms/step - loss: 0.5212 - accuracy: 0.1472\n",
            "Epoch 164/200\n",
            "15/15 [==============================] - 0s 2ms/step - loss: 0.5287 - accuracy: 0.1420\n",
            "Epoch 165/200\n",
            "15/15 [==============================] - 0s 3ms/step - loss: 0.5299 - accuracy: 0.1619\n",
            "Epoch 166/200\n",
            "15/15 [==============================] - 0s 3ms/step - loss: 0.5270 - accuracy: 0.1603\n",
            "Epoch 167/200\n",
            "15/15 [==============================] - 0s 2ms/step - loss: 0.5082 - accuracy: 0.1531\n",
            "Epoch 168/200\n",
            "15/15 [==============================] - 0s 2ms/step - loss: 0.5292 - accuracy: 0.1391\n",
            "Epoch 169/200\n",
            "15/15 [==============================] - 0s 2ms/step - loss: 0.5554 - accuracy: 0.1429\n",
            "Epoch 170/200\n",
            "15/15 [==============================] - 0s 3ms/step - loss: 0.5394 - accuracy: 0.1464\n",
            "Epoch 171/200\n",
            "15/15 [==============================] - 0s 2ms/step - loss: 0.5197 - accuracy: 0.1442\n",
            "Epoch 172/200\n",
            "15/15 [==============================] - 0s 2ms/step - loss: 0.5365 - accuracy: 0.1481\n",
            "Epoch 173/200\n",
            "15/15 [==============================] - 0s 3ms/step - loss: 0.5207 - accuracy: 0.1448\n",
            "Epoch 174/200\n",
            "15/15 [==============================] - 0s 2ms/step - loss: 0.5498 - accuracy: 0.1279\n",
            "Epoch 175/200\n",
            "15/15 [==============================] - 0s 2ms/step - loss: 0.4882 - accuracy: 0.1466\n",
            "Epoch 176/200\n",
            "15/15 [==============================] - 0s 2ms/step - loss: 0.5215 - accuracy: 0.1397\n",
            "Epoch 177/200\n",
            "15/15 [==============================] - 0s 2ms/step - loss: 0.5365 - accuracy: 0.1475\n",
            "Epoch 178/200\n",
            "15/15 [==============================] - 0s 2ms/step - loss: 0.5185 - accuracy: 0.1617\n",
            "Epoch 179/200\n",
            "15/15 [==============================] - 0s 2ms/step - loss: 0.5377 - accuracy: 0.1404\n",
            "Epoch 180/200\n",
            "15/15 [==============================] - 0s 3ms/step - loss: 0.5103 - accuracy: 0.1409\n",
            "Epoch 181/200\n",
            "15/15 [==============================] - 0s 2ms/step - loss: 0.5155 - accuracy: 0.1490\n",
            "Epoch 182/200\n",
            "15/15 [==============================] - 0s 2ms/step - loss: 0.5231 - accuracy: 0.1491\n",
            "Epoch 183/200\n",
            "15/15 [==============================] - 0s 2ms/step - loss: 0.5317 - accuracy: 0.1531\n",
            "Epoch 184/200\n",
            "15/15 [==============================] - 0s 2ms/step - loss: 0.5099 - accuracy: 0.1469\n",
            "Epoch 185/200\n",
            "15/15 [==============================] - 0s 2ms/step - loss: 0.5408 - accuracy: 0.1585\n",
            "Epoch 186/200\n",
            "15/15 [==============================] - 0s 2ms/step - loss: 0.5058 - accuracy: 0.1438\n",
            "Epoch 187/200\n",
            "15/15 [==============================] - 0s 2ms/step - loss: 0.5340 - accuracy: 0.1628\n",
            "Epoch 188/200\n",
            "15/15 [==============================] - 0s 2ms/step - loss: 0.4953 - accuracy: 0.1408\n",
            "Epoch 189/200\n",
            "15/15 [==============================] - 0s 2ms/step - loss: 0.5092 - accuracy: 0.1631\n",
            "Epoch 190/200\n",
            "15/15 [==============================] - 0s 2ms/step - loss: 0.5236 - accuracy: 0.1479\n",
            "Epoch 191/200\n",
            "15/15 [==============================] - 0s 3ms/step - loss: 0.4802 - accuracy: 0.1600\n",
            "Epoch 192/200\n",
            "15/15 [==============================] - 0s 2ms/step - loss: 0.4872 - accuracy: 0.1726\n",
            "Epoch 193/200\n",
            "15/15 [==============================] - 0s 2ms/step - loss: 0.5571 - accuracy: 0.1439\n",
            "Epoch 194/200\n",
            "15/15 [==============================] - 0s 2ms/step - loss: 0.5296 - accuracy: 0.1368\n",
            "Epoch 195/200\n",
            "15/15 [==============================] - 0s 2ms/step - loss: 0.5322 - accuracy: 0.1711\n",
            "Epoch 196/200\n",
            "15/15 [==============================] - 0s 2ms/step - loss: 0.5121 - accuracy: 0.1621\n",
            "Epoch 197/200\n",
            "15/15 [==============================] - 0s 2ms/step - loss: 0.5335 - accuracy: 0.1227\n",
            "Epoch 198/200\n",
            "15/15 [==============================] - 0s 2ms/step - loss: 0.5095 - accuracy: 0.1527\n",
            "Epoch 199/200\n",
            "15/15 [==============================] - 0s 2ms/step - loss: 0.5059 - accuracy: 0.1655\n",
            "Epoch 200/200\n",
            "15/15 [==============================] - 0s 2ms/step - loss: 0.5372 - accuracy: 0.1402\n"
          ],
          "name": "stdout"
        },
        {
          "output_type": "execute_result",
          "data": {
            "text/plain": [
              "<tensorflow.python.keras.callbacks.History at 0x7fe82ff410d0>"
            ]
          },
          "metadata": {
            "tags": []
          },
          "execution_count": 183
        }
      ]
    },
    {
      "cell_type": "markdown",
      "metadata": {
        "id": "01lsSncK3J-F"
      },
      "source": [
        "I had a really low accuracy rate here"
      ]
    },
    {
      "cell_type": "markdown",
      "metadata": {
        "id": "iHWd_TJ1x0x7"
      },
      "source": [
        "#### What would you say is the neural network \"learning\"?"
      ]
    },
    {
      "cell_type": "markdown",
      "metadata": {
        "id": "n8SNxgvwx00_"
      },
      "source": [
        "Ans: A neural network is tring to recognize underlying relationships in the given  set of data through a process that mimics the way the human brain operates. In this sense, neural networks refer to systems of neurons, either organic or artificial in nature. Neural networks can adapt to changing input; so the network generates the best possible result without needing to redesign the output criteria. \n",
        "\n",
        "The network is actually learning the mapping between a 300 dimensional vector (the summed up vector of every word embeddings vector of words from each category) and a 15 dimensional one hot encoded vector (that contains the class/category label). Throughout the training, the network is fed 450 such example pairs to learn a mapping function."
      ]
    },
    {
      "cell_type": "markdown",
      "metadata": {
        "id": "RCc9nt71x04H"
      },
      "source": [
        "#### How does the depth or width of the network affect the training and the results?"
      ]
    },
    {
      "cell_type": "markdown",
      "metadata": {
        "id": "A3Nvp4dGx06o"
      },
      "source": [
        "Ans: Depth of the network (adding additional hidden layers in between input and output layer) improves the result. This is because the model become capable of holding longer non-linear relationships.\n",
        "Though, adding to many hidden layers decreases the performance because of overfitting into the train data.\n",
        "\n",
        "Also, width of the network (adding more neurons/nodes in each layer) seems to increase the performance in a certain level of adjustment.\n",
        "\n",
        "In either way, the training time increases when depth/width is increased because the number of parameter increases proportionally which needs extra computational time."
      ]
    },
    {
      "cell_type": "markdown",
      "metadata": {
        "id": "08zD77wnx097"
      },
      "source": [
        "#### As you made changes to the network, what do you notice about how parameters (network depth, number of nodes, learning rate, etc.) and how they interact with each other? We said that neural networks are learning non-convex problems, but what about finding the best parameters? Is that a convex problem?"
      ]
    },
    {
      "cell_type": "markdown",
      "metadata": {
        "id": "yq1BKeI6x1AA"
      },
      "source": [
        "Ans: I think this is a convex problem because while I tried to add too many depths/nodes/learning rate it actually become really slow. But we were also focusing on minimizing the loss "
      ]
    },
    {
      "cell_type": "markdown",
      "metadata": {
        "id": "fRq_K0KYx1CK"
      },
      "source": [
        "#### What is regularization? Why is it important?"
      ]
    },
    {
      "cell_type": "markdown",
      "metadata": {
        "id": "TmTYLV05x1Ex"
      },
      "source": [
        "Ans: Regularization is a technique which makes slight modifications to the learning algorithm such that the model generalizes better. This in turn improves the model’s performance on the unseen data as well.\n",
        "\n",
        "In other words this helps to resolve the overfitting (situation where the model performed exceptionally well on train data, but is not able to do good at test data) issue. In deep learning, it penalizes the weight matrices of the nodes resulting into a much simpler linear network and slight underfitting of the training data."
      ]
    },
    {
      "cell_type": "markdown",
      "metadata": {
        "id": "t2_MVAgJx1IU"
      },
      "source": [
        "#### Which activation functions did you choose (besides logitistic/sigmoid)? For one of the activation functions you tried, spend some time learning about it. Whereas logistic/sigmoid maps from inputs to a probability between 0-1, what does the activation function you chose do?"
      ]
    },
    {
      "cell_type": "markdown",
      "metadata": {
        "id": "C70LzMS0x1Kr"
      },
      "source": [
        "Ans: I have used the sigmoid, relu and softmax function. The main reason to use sigmoid function is because it exists between (0 to 1). Therefore, it is especially used for models where we have to predict the probability as an output.\n",
        "\n",
        "The rectified linear activation function or ReLU for short is a piecewise linear function that will output the input directly if it is positive, otherwise, it will output zero.\n",
        "\n",
        "The softmax function is a function that turns a vector of K real values into a vector of K real values that sum to 1."
      ]
    },
    {
      "cell_type": "markdown",
      "metadata": {
        "id": "BFi0KEBdx1M9"
      },
      "source": [
        ""
      ]
    }
  ]
}