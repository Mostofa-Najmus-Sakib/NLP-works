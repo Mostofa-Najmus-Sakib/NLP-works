{
 "cells": [
  {
   "cell_type": "markdown",
   "metadata": {},
   "source": [
    "# Assignment 4 - Linguistics\n",
    "\n",
    "### Instructions and Hints:\n",
    "\n",
    "* For this assignment, we will be looking at tokenization, morphology, and syntax. \n",
    "* This will follow in a similar way as the notebook we did in class, though it will be a bit more work. \n",
    "* Answer each question (or, in some cases, follow the command)\n",
    "* Follow the instructions on the corresponding assignment Trello card for submitting your assignment."
   ]
  },
  {
   "cell_type": "markdown",
   "metadata": {},
   "source": [
    "#### We will be using **[Tamarian](https://www.youtube.com/watch?v=ANvlLcOTy6M)** as our example language: "
   ]
  },
  {
   "cell_type": "code",
   "execution_count": 1,
   "metadata": {},
   "outputs": [],
   "source": [
    "sentences = [\n",
    "    'Sinda his face black his eyes red',\n",
    "    'Tamak',\n",
    "    'The river Tamak in winter',\n",
    "    'Darmok and Jalad at Tanagra',\n",
    "    'Darmok and Jalad on the ocean',\n",
    "    'Socath his eyes opened',\n",
    "#    'The beast of Tanagra Usani his army Jakka when the walls fell', # don't worry about this one\n",
    "    'Picard and Dathan at Eladrel',\n",
    "    'Marab with sails unfurled',\n",
    "    'Timba his arms open',\n",
    "    'Timba at rest'\n",
    "]"
   ]
  },
  {
   "cell_type": "markdown",
   "metadata": {},
   "source": [
    "### 1. Tokenize the sentences \n",
    "\n",
    "* you will need to make sure everything is lower case\n",
    "* you will need to represent the sentences as a 2D array of words"
   ]
  },
  {
   "cell_type": "code",
   "execution_count": 2,
   "metadata": {},
   "outputs": [
    {
     "data": {
      "text/plain": [
       "[['sinda', 'his', 'face', 'black', 'his', 'eyes', 'red'],\n",
       " ['tamak'],\n",
       " ['the', 'river', 'tamak', 'in', 'winter'],\n",
       " ['darmok', 'and', 'jalad', 'at', 'tanagra'],\n",
       " ['darmok', 'and', 'jalad', 'on', 'the', 'ocean'],\n",
       " ['socath', 'his', 'eyes', 'opened'],\n",
       " ['picard', 'and', 'dathan', 'at', 'eladrel'],\n",
       " ['marab', 'with', 'sails', 'unfurled'],\n",
       " ['timba', 'his', 'arms', 'open'],\n",
       " ['timba', 'at', 'rest']]"
      ]
     },
     "execution_count": 2,
     "metadata": {},
     "output_type": "execute_result"
    }
   ],
   "source": [
    "sentences = list(map(lambda x: x.lower().split(), sentences))\n",
    "sentences"
   ]
  },
  {
   "cell_type": "markdown",
   "metadata": {},
   "source": [
    "### 2. Use a stemmer or lemmatizer \n",
    "\n",
    "- (NLTK has several) \n",
    "-  You will know your stemmer/lemmatizer did its job because plural words will no longer be plural (e.g., 'eyes' -> 'eye') and past-tense words will no longer be past-tense (e.g. 'unfurled' -> 'unfurl')\n"
   ]
  },
  {
   "cell_type": "code",
   "execution_count": 3,
   "metadata": {},
   "outputs": [],
   "source": [
    "import nltk\n",
    "import nltk.stem.snowball as stem"
   ]
  },
  {
   "cell_type": "code",
   "execution_count": 4,
   "metadata": {},
   "outputs": [
    {
     "data": {
      "text/plain": [
       "[['sinda', 'his', 'face', 'black', 'his', 'eye', 'red'],\n",
       " ['tamak'],\n",
       " ['the', 'river', 'tamak', 'in', 'winter'],\n",
       " ['darmok', 'and', 'jalad', 'at', 'tanagra'],\n",
       " ['darmok', 'and', 'jalad', 'on', 'the', 'ocean'],\n",
       " ['socath', 'his', 'eye', 'open'],\n",
       " ['picard', 'and', 'dathan', 'at', 'eladrel'],\n",
       " ['marab', 'with', 'sail', 'unfurl'],\n",
       " ['timba', 'his', 'arm', 'open'],\n",
       " ['timba', 'at', 'rest']]"
      ]
     },
     "execution_count": 4,
     "metadata": {},
     "output_type": "execute_result"
    }
   ],
   "source": [
    "wnl = stem.EnglishStemmer()\n",
    "lemma_sentences = list()\n",
    "for s in sentences:\n",
    "    lemma_sentences.append([wnl.stem(t) for t in s])\n",
    "lemma_sentences"
   ]
  },
  {
   "cell_type": "markdown",
   "metadata": {},
   "source": [
    "### 3. Write a grammar that can parse all of the sentences\n",
    "\n",
    "* Try to write as few grammar rules as possible\n",
    "* Use recursion where you can\n",
    "* Use `S` as the start symbol\n",
    "* All terminals need to be in quotes\n"
   ]
  },
  {
   "cell_type": "code",
   "execution_count": 5,
   "metadata": {},
   "outputs": [],
   "source": [
    "import nltk\n",
    "\n",
    "tamarian_grammar = nltk.CFG.fromstring(\"\"\"\n",
    " S -> NP\n",
    " NP -> NP ADJP | NP PP | NP VP | Det N | Det N N | N | N CC N | N Pr N\n",
    " ADJP -> Pr N JJ\n",
    " PP -> P NP\n",
    " VP -> V\n",
    " Det -> 'the'\n",
    " N -> 'sinda' | 'face' | 'river' | 'tamak' | 'winter' | 'darmok' | 'jalad' | 'tanagra' | 'socath' | 'ocean' | 'eye' | 'picard' | 'dathan' | 'eladrel' | 'marab' | 'sail' | 'timba' | 'arm' | 'rest'\n",
    " V -> 'open' | 'unfurl'\n",
    " JJ -> 'black' | 'red'\n",
    " P -> 'in' | 'at' | 'on' | 'with'\n",
    " CC -> 'and'\n",
    " Pr -> 'his'\n",
    "\n",
    "\"\"\")"
   ]
  },
  {
   "cell_type": "markdown",
   "metadata": {},
   "source": [
    "## 4. Show that your grammar parses all of the sentences\n",
    "\n",
    "* Use a parser that can use a CFG (NLTK has several) \n",
    "* Make sure there is a parse tree for each of the sentences"
   ]
  },
  {
   "cell_type": "code",
   "execution_count": 6,
   "metadata": {},
   "outputs": [
    {
     "name": "stdout",
     "output_type": "stream",
     "text": [
      "['sinda', 'his', 'face', 'black', 'his', 'eye', 'red']\n",
      "(S\n",
      "  (NP\n",
      "    (NP (NP (N sinda)) (ADJP (Pr his) (N face) (JJ black)))\n",
      "    (ADJP (Pr his) (N eye) (JJ red))))\n",
      "\n",
      "\n",
      "['tamak']\n",
      "(S (NP (N tamak)))\n",
      "\n",
      "\n",
      "['the', 'river', 'tamak', 'in', 'winter']\n",
      "(S\n",
      "  (NP (NP (Det the) (N river) (N tamak)) (PP (P in) (NP (N winter)))))\n",
      "\n",
      "\n",
      "['darmok', 'and', 'jalad', 'at', 'tanagra']\n",
      "(S\n",
      "  (NP\n",
      "    (NP (N darmok) (CC and) (N jalad))\n",
      "    (PP (P at) (NP (N tanagra)))))\n",
      "\n",
      "\n",
      "['darmok', 'and', 'jalad', 'on', 'the', 'ocean']\n",
      "(S\n",
      "  (NP\n",
      "    (NP (N darmok) (CC and) (N jalad))\n",
      "    (PP (P on) (NP (Det the) (N ocean)))))\n",
      "\n",
      "\n",
      "['socath', 'his', 'eye', 'open']\n",
      "(S (NP (NP (N socath) (Pr his) (N eye)) (VP (V open))))\n",
      "\n",
      "\n",
      "['picard', 'and', 'dathan', 'at', 'eladrel']\n",
      "(S\n",
      "  (NP\n",
      "    (NP (N picard) (CC and) (N dathan))\n",
      "    (PP (P at) (NP (N eladrel)))))\n",
      "\n",
      "\n",
      "['marab', 'with', 'sail', 'unfurl']\n",
      "(S\n",
      "  (NP\n",
      "    (NP (NP (N marab)) (PP (P with) (NP (N sail))))\n",
      "    (VP (V unfurl))))\n",
      "(S\n",
      "  (NP\n",
      "    (NP (N marab))\n",
      "    (PP (P with) (NP (NP (N sail)) (VP (V unfurl))))))\n",
      "\n",
      "\n",
      "['timba', 'his', 'arm', 'open']\n",
      "(S (NP (NP (N timba) (Pr his) (N arm)) (VP (V open))))\n",
      "\n",
      "\n",
      "['timba', 'at', 'rest']\n",
      "(S (NP (NP (N timba)) (PP (P at) (NP (N rest)))))\n",
      "\n",
      "\n"
     ]
    }
   ],
   "source": [
    "parser = nltk.ChartParser(tamarian_grammar)\n",
    "for s in lemma_sentences:\n",
    "    print(s)\n",
    "    for tree in parser.parse(s):\n",
    "        print(tree)\n",
    "    print()\n",
    "    print()"
   ]
  },
  {
   "cell_type": "markdown",
   "metadata": {},
   "source": [
    "For questions 5-7, just answer in marktown/raw text. No code necessary.\n",
    "\n",
    "## 5. Does your parser have full coverage?"
   ]
  },
  {
   "cell_type": "markdown",
   "metadata": {},
   "source": [
    "Ans: I believe it has full coverage becuase it was able to parse all of the sentences"
   ]
  },
  {
   "cell_type": "markdown",
   "metadata": {},
   "source": [
    "## 6. Does your parser over-generate?"
   ]
  },
  {
   "cell_type": "markdown",
   "metadata": {},
   "source": [
    "Ans: Yes, becuase for many of the sentences multiple parse trees were generated"
   ]
  },
  {
   "cell_type": "markdown",
   "metadata": {},
   "source": [
    "## 7. Which sentences are ambiguous? How do you know?"
   ]
  },
  {
   "cell_type": "markdown",
   "metadata": {},
   "source": [
    "Ans: As per the generated grammar, the following two sentences seem to be ambiguous to me.\n",
    "\n",
    "- ['sinda', 'his', 'face', 'black', 'his', 'eye', 'red'] \n",
    "- ['marab', 'with', 'sail', 'unfurl']\n",
    "\n",
    "Because, when a grammar produces more than one parse for a particular sentence, then that sentence is, by definition, syntactically ambiguous."
   ]
  },
  {
   "cell_type": "markdown",
   "metadata": {},
   "source": [
    "## 8. Parse this sentence:\n",
    "\n",
    "* If you wrote your grammar right, this should be covered. If this isn't covered, then you'll need to go back and change your grammar."
   ]
  },
  {
   "cell_type": "code",
   "execution_count": 7,
   "metadata": {},
   "outputs": [],
   "source": [
    "s = ['timba', 'his', 'face', 'red', 'his', 'eye', 'black', 'in', 'winter']"
   ]
  },
  {
   "cell_type": "code",
   "execution_count": 8,
   "metadata": {},
   "outputs": [
    {
     "name": "stdout",
     "output_type": "stream",
     "text": [
      "(S\n",
      "  (NP\n",
      "    (NP\n",
      "      (NP (NP (N timba)) (ADJP (Pr his) (N face) (JJ red)))\n",
      "      (ADJP (Pr his) (N eye) (JJ black)))\n",
      "    (PP (P in) (NP (N winter)))))\n"
     ]
    }
   ],
   "source": [
    "for tree in parser.parse(s):\n",
    "    print(tree)"
   ]
  },
  {
   "cell_type": "markdown",
   "metadata": {},
   "source": [
    "## 9. Was your result in Questions 8 ambiguous?\n",
    "\n",
    "* Answer in markdown or raw text, no code necessary"
   ]
  },
  {
   "cell_type": "markdown",
   "metadata": {
    "collapsed": true
   },
   "source": [
    "Ans: Yes, I believe so because it got parsed into two trees."
   ]
  },
  {
   "cell_type": "markdown",
   "metadata": {
    "collapsed": true
   },
   "source": [
    "## 10. How expressive is your language?\n",
    "\n",
    "* Answer in markdown or raw text, no code necessary"
   ]
  },
  {
   "cell_type": "markdown",
   "metadata": {},
   "source": [
    "Ans: I think it is most expressive. Because, it has recursive rule which means it can generate or be used to parse an infinite number of sentences."
   ]
  },
  {
   "cell_type": "markdown",
   "metadata": {},
   "source": [
    "## 11. Make the grammar more general by treating POS tags as the terminals"
   ]
  },
  {
   "cell_type": "code",
   "execution_count": 9,
   "metadata": {},
   "outputs": [],
   "source": [
    "tamarian_grammar = nltk.CFG.fromstring(\"\"\"\n",
    "   \n",
    " S -> NP\n",
    " NP -> NP ADJP | NP PP | NP VP | 'Det' 'N' | 'Det' 'N' 'N' | 'N' | 'N' 'CC' 'N' | 'N' 'Pr' 'N'\n",
    " ADJP -> 'Pr' 'N' 'JJ'\n",
    " PP -> 'P' NP\n",
    " VP -> 'V'\n",
    "\"\"\")"
   ]
  },
  {
   "cell_type": "markdown",
   "metadata": {},
   "source": [
    "## 12. What is your set of POS tags?\n",
    "\n",
    "* show the list of strings (e.g., ['Adj', ...])\n",
    "\n"
   ]
  },
  {
   "cell_type": "code",
   "execution_count": 10,
   "metadata": {},
   "outputs": [],
   "source": [
    "pos_tags = ['Det', 'N', 'V', 'JJ', 'P', 'CC', 'Pr']"
   ]
  },
  {
   "cell_type": "markdown",
   "metadata": {},
   "source": [
    "## 13. Make a list for the POS tags that correspond to the sentence `s` below:"
   ]
  },
  {
   "cell_type": "code",
   "execution_count": 11,
   "metadata": {},
   "outputs": [],
   "source": [
    "s = ['timba', 'his', 'face', 'red', 'his', 'eye', 'black', 'in', 'winter']\n",
    "# p = ['PN',  ??, ... ]\n",
    "p = ['N', 'Pr', 'N', 'JJ', 'Pr', 'N', 'JJ', 'P', 'N']"
   ]
  },
  {
   "cell_type": "markdown",
   "metadata": {},
   "source": [
    "## 14. Parse the sentence (represented as POS tags)"
   ]
  },
  {
   "cell_type": "code",
   "execution_count": 12,
   "metadata": {},
   "outputs": [
    {
     "name": "stdout",
     "output_type": "stream",
     "text": [
      "(S (NP (NP (NP (NP N) (ADJP Pr N JJ)) (ADJP Pr N JJ)) (PP P (NP N))))\n"
     ]
    }
   ],
   "source": [
    "parser = nltk.ChartParser(tamarian_grammar)\n",
    "\n",
    "for tree in parser.parse(p):\n",
    "    print(tree)"
   ]
  },
  {
   "cell_type": "markdown",
   "metadata": {},
   "source": [
    "## Extra Credit! Do all of the above questions again, but add the sentence:\n",
    "\n",
    "'The beast of Tanagra Usani his army Jakka when the walls fell'"
   ]
  },
  {
   "cell_type": "markdown",
   "metadata": {
    "collapsed": true
   },
   "source": [
    "*Done!*"
   ]
  },
  {
   "cell_type": "markdown",
   "metadata": {},
   "source": [
    "## Submit"
   ]
  },
  {
   "cell_type": "code",
   "execution_count": 15,
   "metadata": {},
   "outputs": [
    {
     "name": "stdout",
     "output_type": "stream",
     "text": [
      "=====================================================================\n",
      "Assignment: A4 Linguistics\n",
      "OK, version v1.18.1\n",
      "=====================================================================\n",
      "\n",
      "Successfully logged in as MostofanajmusSak@u.boisestate.edu\n"
     ]
    }
   ],
   "source": [
    "from client.api.notebook import Notebook\n",
    "ok = Notebook('a4.ok')\n",
    "ok.auth(inline=True)"
   ]
  },
  {
   "cell_type": "code",
   "execution_count": 16,
   "metadata": {},
   "outputs": [
    {
     "data": {
      "application/javascript": [
       "IPython.notebook.save_checkpoint();"
      ],
      "text/plain": [
       "<IPython.core.display.Javascript object>"
      ]
     },
     "metadata": {},
     "output_type": "display_data"
    },
    {
     "data": {
      "application/javascript": [
       "IPython.notebook.save_notebook();"
      ],
      "text/plain": [
       "<IPython.core.display.Javascript object>"
      ]
     },
     "metadata": {},
     "output_type": "display_data"
    },
    {
     "name": "stdout",
     "output_type": "stream",
     "text": [
      "Saving notebook... Saved 'A4-linguistics.ipynb'.\n",
      "Submit... 100% complete\n",
      "Submission successful for user: MostofanajmusSak@u.boisestate.edu\n",
      "URL: https://okpy.org/bsu/nlp/sp21/a4/submissions/VQz57o\n",
      "\n"
     ]
    }
   ],
   "source": [
    "ok.submit()"
   ]
  },
  {
   "cell_type": "code",
   "execution_count": null,
   "metadata": {},
   "outputs": [],
   "source": []
  }
 ],
 "metadata": {
  "anaconda-cloud": {},
  "kernelspec": {
   "display_name": "Python 3",
   "language": "python",
   "name": "python3"
  },
  "language_info": {
   "codemirror_mode": {
    "name": "ipython",
    "version": 3
   },
   "file_extension": ".py",
   "mimetype": "text/x-python",
   "name": "python",
   "nbconvert_exporter": "python",
   "pygments_lexer": "ipython3",
   "version": "3.8.3"
  }
 },
 "nbformat": 4,
 "nbformat_minor": 1
}
