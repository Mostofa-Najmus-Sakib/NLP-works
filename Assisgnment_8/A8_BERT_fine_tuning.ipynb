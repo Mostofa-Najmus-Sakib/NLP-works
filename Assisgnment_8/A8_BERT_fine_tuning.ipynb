{
  "nbformat": 4,
  "nbformat_minor": 0,
  "metadata": {
    "kernelspec": {
      "display_name": "Python 3",
      "language": "python",
      "name": "python3"
    },
    "language_info": {
      "codemirror_mode": {
        "name": "ipython",
        "version": 3
      },
      "file_extension": ".py",
      "mimetype": "text/x-python",
      "name": "python",
      "nbconvert_exporter": "python",
      "pygments_lexer": "ipython3",
      "version": "3.8.5"
    },
    "colab": {
      "name": "A8-BERT-fine-tuning.ipynb",
      "provenance": [],
      "collapsed_sections": [],
      "include_colab_link": true
    },
    "accelerator": "GPU",
    "widgets": {
      "application/vnd.jupyter.widget-state+json": {
        "33c6d00726994a4c9f3e469fadf3f812": {
          "model_module": "@jupyter-widgets/controls",
          "model_name": "HBoxModel",
          "model_module_version": "1.5.0",
          "state": {
            "_view_name": "HBoxView",
            "_dom_classes": [],
            "_model_name": "HBoxModel",
            "_view_module": "@jupyter-widgets/controls",
            "_model_module_version": "1.5.0",
            "_view_count": null,
            "_view_module_version": "1.5.0",
            "box_style": "",
            "layout": "IPY_MODEL_eafe1eaf396d41c09f57ccbf5516ba2a",
            "_model_module": "@jupyter-widgets/controls",
            "children": [
              "IPY_MODEL_eb028b138da24c25a46c7ba7b26d6a8f",
              "IPY_MODEL_69b53dba6d1b4ea58f22e27c2a6e0598"
            ]
          }
        },
        "eafe1eaf396d41c09f57ccbf5516ba2a": {
          "model_module": "@jupyter-widgets/base",
          "model_name": "LayoutModel",
          "model_module_version": "1.2.0",
          "state": {
            "_view_name": "LayoutView",
            "grid_template_rows": null,
            "right": null,
            "justify_content": null,
            "_view_module": "@jupyter-widgets/base",
            "overflow": null,
            "_model_module_version": "1.2.0",
            "_view_count": null,
            "flex_flow": null,
            "width": null,
            "min_width": null,
            "border": null,
            "align_items": null,
            "bottom": null,
            "_model_module": "@jupyter-widgets/base",
            "top": null,
            "grid_column": null,
            "overflow_y": null,
            "overflow_x": null,
            "grid_auto_flow": null,
            "grid_area": null,
            "grid_template_columns": null,
            "flex": null,
            "_model_name": "LayoutModel",
            "justify_items": null,
            "grid_row": null,
            "max_height": null,
            "align_content": null,
            "visibility": null,
            "align_self": null,
            "height": null,
            "min_height": null,
            "padding": null,
            "grid_auto_rows": null,
            "grid_gap": null,
            "max_width": null,
            "order": null,
            "_view_module_version": "1.2.0",
            "grid_template_areas": null,
            "object_position": null,
            "object_fit": null,
            "grid_auto_columns": null,
            "margin": null,
            "display": null,
            "left": null
          }
        },
        "eb028b138da24c25a46c7ba7b26d6a8f": {
          "model_module": "@jupyter-widgets/controls",
          "model_name": "FloatProgressModel",
          "model_module_version": "1.5.0",
          "state": {
            "_view_name": "ProgressView",
            "style": "IPY_MODEL_9d32a0a4be5a464180e0a2a03a3af798",
            "_dom_classes": [],
            "description": "100%",
            "_model_name": "FloatProgressModel",
            "bar_style": "success",
            "max": 719,
            "_view_module": "@jupyter-widgets/controls",
            "_model_module_version": "1.5.0",
            "value": 719,
            "_view_count": null,
            "_view_module_version": "1.5.0",
            "orientation": "horizontal",
            "min": 0,
            "description_tooltip": null,
            "_model_module": "@jupyter-widgets/controls",
            "layout": "IPY_MODEL_9b23a6c648f745a2a3eecdaf5ef64df9"
          }
        },
        "69b53dba6d1b4ea58f22e27c2a6e0598": {
          "model_module": "@jupyter-widgets/controls",
          "model_name": "HTMLModel",
          "model_module_version": "1.5.0",
          "state": {
            "_view_name": "HTMLView",
            "style": "IPY_MODEL_cf77ddac30ee478181b0d9f0099f01c5",
            "_dom_classes": [],
            "description": "",
            "_model_name": "HTMLModel",
            "placeholder": "​",
            "_view_module": "@jupyter-widgets/controls",
            "_model_module_version": "1.5.0",
            "value": " 719/719 [21:20&lt;00:00,  1.78s/it]",
            "_view_count": null,
            "_view_module_version": "1.5.0",
            "description_tooltip": null,
            "_model_module": "@jupyter-widgets/controls",
            "layout": "IPY_MODEL_b87e5e8455e3481ab2d45961fd73f2a0"
          }
        },
        "9d32a0a4be5a464180e0a2a03a3af798": {
          "model_module": "@jupyter-widgets/controls",
          "model_name": "ProgressStyleModel",
          "model_module_version": "1.5.0",
          "state": {
            "_view_name": "StyleView",
            "_model_name": "ProgressStyleModel",
            "description_width": "initial",
            "_view_module": "@jupyter-widgets/base",
            "_model_module_version": "1.5.0",
            "_view_count": null,
            "_view_module_version": "1.2.0",
            "bar_color": null,
            "_model_module": "@jupyter-widgets/controls"
          }
        },
        "9b23a6c648f745a2a3eecdaf5ef64df9": {
          "model_module": "@jupyter-widgets/base",
          "model_name": "LayoutModel",
          "model_module_version": "1.2.0",
          "state": {
            "_view_name": "LayoutView",
            "grid_template_rows": null,
            "right": null,
            "justify_content": null,
            "_view_module": "@jupyter-widgets/base",
            "overflow": null,
            "_model_module_version": "1.2.0",
            "_view_count": null,
            "flex_flow": null,
            "width": null,
            "min_width": null,
            "border": null,
            "align_items": null,
            "bottom": null,
            "_model_module": "@jupyter-widgets/base",
            "top": null,
            "grid_column": null,
            "overflow_y": null,
            "overflow_x": null,
            "grid_auto_flow": null,
            "grid_area": null,
            "grid_template_columns": null,
            "flex": null,
            "_model_name": "LayoutModel",
            "justify_items": null,
            "grid_row": null,
            "max_height": null,
            "align_content": null,
            "visibility": null,
            "align_self": null,
            "height": null,
            "min_height": null,
            "padding": null,
            "grid_auto_rows": null,
            "grid_gap": null,
            "max_width": null,
            "order": null,
            "_view_module_version": "1.2.0",
            "grid_template_areas": null,
            "object_position": null,
            "object_fit": null,
            "grid_auto_columns": null,
            "margin": null,
            "display": null,
            "left": null
          }
        },
        "cf77ddac30ee478181b0d9f0099f01c5": {
          "model_module": "@jupyter-widgets/controls",
          "model_name": "DescriptionStyleModel",
          "model_module_version": "1.5.0",
          "state": {
            "_view_name": "StyleView",
            "_model_name": "DescriptionStyleModel",
            "description_width": "",
            "_view_module": "@jupyter-widgets/base",
            "_model_module_version": "1.5.0",
            "_view_count": null,
            "_view_module_version": "1.2.0",
            "_model_module": "@jupyter-widgets/controls"
          }
        },
        "b87e5e8455e3481ab2d45961fd73f2a0": {
          "model_module": "@jupyter-widgets/base",
          "model_name": "LayoutModel",
          "model_module_version": "1.2.0",
          "state": {
            "_view_name": "LayoutView",
            "grid_template_rows": null,
            "right": null,
            "justify_content": null,
            "_view_module": "@jupyter-widgets/base",
            "overflow": null,
            "_model_module_version": "1.2.0",
            "_view_count": null,
            "flex_flow": null,
            "width": null,
            "min_width": null,
            "border": null,
            "align_items": null,
            "bottom": null,
            "_model_module": "@jupyter-widgets/base",
            "top": null,
            "grid_column": null,
            "overflow_y": null,
            "overflow_x": null,
            "grid_auto_flow": null,
            "grid_area": null,
            "grid_template_columns": null,
            "flex": null,
            "_model_name": "LayoutModel",
            "justify_items": null,
            "grid_row": null,
            "max_height": null,
            "align_content": null,
            "visibility": null,
            "align_self": null,
            "height": null,
            "min_height": null,
            "padding": null,
            "grid_auto_rows": null,
            "grid_gap": null,
            "max_width": null,
            "order": null,
            "_view_module_version": "1.2.0",
            "grid_template_areas": null,
            "object_position": null,
            "object_fit": null,
            "grid_auto_columns": null,
            "margin": null,
            "display": null,
            "left": null
          }
        },
        "81a93f9845cb46c2b4d34a72847dc07a": {
          "model_module": "@jupyter-widgets/controls",
          "model_name": "HBoxModel",
          "model_module_version": "1.5.0",
          "state": {
            "_view_name": "HBoxView",
            "_dom_classes": [],
            "_model_name": "HBoxModel",
            "_view_module": "@jupyter-widgets/controls",
            "_model_module_version": "1.5.0",
            "_view_count": null,
            "_view_module_version": "1.5.0",
            "box_style": "",
            "layout": "IPY_MODEL_ad8aa9f0a1f3461285bc3dd15c11cbab",
            "_model_module": "@jupyter-widgets/controls",
            "children": [
              "IPY_MODEL_71bce40f0b6842cab86fa9460534f1a8",
              "IPY_MODEL_e1c6ffa2a59b44c1baff73637baa226a"
            ]
          }
        },
        "ad8aa9f0a1f3461285bc3dd15c11cbab": {
          "model_module": "@jupyter-widgets/base",
          "model_name": "LayoutModel",
          "model_module_version": "1.2.0",
          "state": {
            "_view_name": "LayoutView",
            "grid_template_rows": null,
            "right": null,
            "justify_content": null,
            "_view_module": "@jupyter-widgets/base",
            "overflow": null,
            "_model_module_version": "1.2.0",
            "_view_count": null,
            "flex_flow": null,
            "width": null,
            "min_width": null,
            "border": null,
            "align_items": null,
            "bottom": null,
            "_model_module": "@jupyter-widgets/base",
            "top": null,
            "grid_column": null,
            "overflow_y": null,
            "overflow_x": null,
            "grid_auto_flow": null,
            "grid_area": null,
            "grid_template_columns": null,
            "flex": null,
            "_model_name": "LayoutModel",
            "justify_items": null,
            "grid_row": null,
            "max_height": null,
            "align_content": null,
            "visibility": null,
            "align_self": null,
            "height": null,
            "min_height": null,
            "padding": null,
            "grid_auto_rows": null,
            "grid_gap": null,
            "max_width": null,
            "order": null,
            "_view_module_version": "1.2.0",
            "grid_template_areas": null,
            "object_position": null,
            "object_fit": null,
            "grid_auto_columns": null,
            "margin": null,
            "display": null,
            "left": null
          }
        },
        "71bce40f0b6842cab86fa9460534f1a8": {
          "model_module": "@jupyter-widgets/controls",
          "model_name": "FloatProgressModel",
          "model_module_version": "1.5.0",
          "state": {
            "_view_name": "ProgressView",
            "style": "IPY_MODEL_58493a97517b471c8519d615e3922000",
            "_dom_classes": [],
            "description": "100%",
            "_model_name": "FloatProgressModel",
            "bar_style": "success",
            "max": 16,
            "_view_module": "@jupyter-widgets/controls",
            "_model_module_version": "1.5.0",
            "value": 16,
            "_view_count": null,
            "_view_module_version": "1.5.0",
            "orientation": "horizontal",
            "min": 0,
            "description_tooltip": null,
            "_model_module": "@jupyter-widgets/controls",
            "layout": "IPY_MODEL_ebc3d4eaec774d72b79282e146421808"
          }
        },
        "e1c6ffa2a59b44c1baff73637baa226a": {
          "model_module": "@jupyter-widgets/controls",
          "model_name": "HTMLModel",
          "model_module_version": "1.5.0",
          "state": {
            "_view_name": "HTMLView",
            "style": "IPY_MODEL_6a7f14ace50e4f1caf3c64e1c314d5bb",
            "_dom_classes": [],
            "description": "",
            "_model_name": "HTMLModel",
            "placeholder": "​",
            "_view_module": "@jupyter-widgets/controls",
            "_model_module_version": "1.5.0",
            "value": " 16/16 [00:12&lt;00:00,  1.30it/s]",
            "_view_count": null,
            "_view_module_version": "1.5.0",
            "description_tooltip": null,
            "_model_module": "@jupyter-widgets/controls",
            "layout": "IPY_MODEL_d05a8c5233704534af390220131634b1"
          }
        },
        "58493a97517b471c8519d615e3922000": {
          "model_module": "@jupyter-widgets/controls",
          "model_name": "ProgressStyleModel",
          "model_module_version": "1.5.0",
          "state": {
            "_view_name": "StyleView",
            "_model_name": "ProgressStyleModel",
            "description_width": "initial",
            "_view_module": "@jupyter-widgets/base",
            "_model_module_version": "1.5.0",
            "_view_count": null,
            "_view_module_version": "1.2.0",
            "bar_color": null,
            "_model_module": "@jupyter-widgets/controls"
          }
        },
        "ebc3d4eaec774d72b79282e146421808": {
          "model_module": "@jupyter-widgets/base",
          "model_name": "LayoutModel",
          "model_module_version": "1.2.0",
          "state": {
            "_view_name": "LayoutView",
            "grid_template_rows": null,
            "right": null,
            "justify_content": null,
            "_view_module": "@jupyter-widgets/base",
            "overflow": null,
            "_model_module_version": "1.2.0",
            "_view_count": null,
            "flex_flow": null,
            "width": null,
            "min_width": null,
            "border": null,
            "align_items": null,
            "bottom": null,
            "_model_module": "@jupyter-widgets/base",
            "top": null,
            "grid_column": null,
            "overflow_y": null,
            "overflow_x": null,
            "grid_auto_flow": null,
            "grid_area": null,
            "grid_template_columns": null,
            "flex": null,
            "_model_name": "LayoutModel",
            "justify_items": null,
            "grid_row": null,
            "max_height": null,
            "align_content": null,
            "visibility": null,
            "align_self": null,
            "height": null,
            "min_height": null,
            "padding": null,
            "grid_auto_rows": null,
            "grid_gap": null,
            "max_width": null,
            "order": null,
            "_view_module_version": "1.2.0",
            "grid_template_areas": null,
            "object_position": null,
            "object_fit": null,
            "grid_auto_columns": null,
            "margin": null,
            "display": null,
            "left": null
          }
        },
        "6a7f14ace50e4f1caf3c64e1c314d5bb": {
          "model_module": "@jupyter-widgets/controls",
          "model_name": "DescriptionStyleModel",
          "model_module_version": "1.5.0",
          "state": {
            "_view_name": "StyleView",
            "_model_name": "DescriptionStyleModel",
            "description_width": "",
            "_view_module": "@jupyter-widgets/base",
            "_model_module_version": "1.5.0",
            "_view_count": null,
            "_view_module_version": "1.2.0",
            "_model_module": "@jupyter-widgets/controls"
          }
        },
        "d05a8c5233704534af390220131634b1": {
          "model_module": "@jupyter-widgets/base",
          "model_name": "LayoutModel",
          "model_module_version": "1.2.0",
          "state": {
            "_view_name": "LayoutView",
            "grid_template_rows": null,
            "right": null,
            "justify_content": null,
            "_view_module": "@jupyter-widgets/base",
            "overflow": null,
            "_model_module_version": "1.2.0",
            "_view_count": null,
            "flex_flow": null,
            "width": null,
            "min_width": null,
            "border": null,
            "align_items": null,
            "bottom": null,
            "_model_module": "@jupyter-widgets/base",
            "top": null,
            "grid_column": null,
            "overflow_y": null,
            "overflow_x": null,
            "grid_auto_flow": null,
            "grid_area": null,
            "grid_template_columns": null,
            "flex": null,
            "_model_name": "LayoutModel",
            "justify_items": null,
            "grid_row": null,
            "max_height": null,
            "align_content": null,
            "visibility": null,
            "align_self": null,
            "height": null,
            "min_height": null,
            "padding": null,
            "grid_auto_rows": null,
            "grid_gap": null,
            "max_width": null,
            "order": null,
            "_view_module_version": "1.2.0",
            "grid_template_areas": null,
            "object_position": null,
            "object_fit": null,
            "grid_auto_columns": null,
            "margin": null,
            "display": null,
            "left": null
          }
        },
        "48c84634c455414dafa94193ccc10e7b": {
          "model_module": "@jupyter-widgets/controls",
          "model_name": "HBoxModel",
          "model_module_version": "1.5.0",
          "state": {
            "_view_name": "HBoxView",
            "_dom_classes": [],
            "_model_name": "HBoxModel",
            "_view_module": "@jupyter-widgets/controls",
            "_model_module_version": "1.5.0",
            "_view_count": null,
            "_view_module_version": "1.5.0",
            "box_style": "",
            "layout": "IPY_MODEL_060a92fdda3e4c979cffacc59457943c",
            "_model_module": "@jupyter-widgets/controls",
            "children": [
              "IPY_MODEL_fa85b4a7ba1349e48f0182cf1b656a62",
              "IPY_MODEL_a2563aea66d64baab8fdea545ae545f1"
            ]
          }
        },
        "060a92fdda3e4c979cffacc59457943c": {
          "model_module": "@jupyter-widgets/base",
          "model_name": "LayoutModel",
          "model_module_version": "1.2.0",
          "state": {
            "_view_name": "LayoutView",
            "grid_template_rows": null,
            "right": null,
            "justify_content": null,
            "_view_module": "@jupyter-widgets/base",
            "overflow": null,
            "_model_module_version": "1.2.0",
            "_view_count": null,
            "flex_flow": null,
            "width": null,
            "min_width": null,
            "border": null,
            "align_items": null,
            "bottom": null,
            "_model_module": "@jupyter-widgets/base",
            "top": null,
            "grid_column": null,
            "overflow_y": null,
            "overflow_x": null,
            "grid_auto_flow": null,
            "grid_area": null,
            "grid_template_columns": null,
            "flex": null,
            "_model_name": "LayoutModel",
            "justify_items": null,
            "grid_row": null,
            "max_height": null,
            "align_content": null,
            "visibility": null,
            "align_self": null,
            "height": null,
            "min_height": null,
            "padding": null,
            "grid_auto_rows": null,
            "grid_gap": null,
            "max_width": null,
            "order": null,
            "_view_module_version": "1.2.0",
            "grid_template_areas": null,
            "object_position": null,
            "object_fit": null,
            "grid_auto_columns": null,
            "margin": null,
            "display": null,
            "left": null
          }
        },
        "fa85b4a7ba1349e48f0182cf1b656a62": {
          "model_module": "@jupyter-widgets/controls",
          "model_name": "FloatProgressModel",
          "model_module_version": "1.5.0",
          "state": {
            "_view_name": "ProgressView",
            "style": "IPY_MODEL_34e2a02e12954ebebd50524bf1795d16",
            "_dom_classes": [],
            "description": "100%",
            "_model_name": "FloatProgressModel",
            "bar_style": "success",
            "max": 719,
            "_view_module": "@jupyter-widgets/controls",
            "_model_module_version": "1.5.0",
            "value": 719,
            "_view_count": null,
            "_view_module_version": "1.5.0",
            "orientation": "horizontal",
            "min": 0,
            "description_tooltip": null,
            "_model_module": "@jupyter-widgets/controls",
            "layout": "IPY_MODEL_69305a6e7df5484997f77096a90d9ed7"
          }
        },
        "a2563aea66d64baab8fdea545ae545f1": {
          "model_module": "@jupyter-widgets/controls",
          "model_name": "HTMLModel",
          "model_module_version": "1.5.0",
          "state": {
            "_view_name": "HTMLView",
            "style": "IPY_MODEL_7851ea5b2d374390bee39f81174d4457",
            "_dom_classes": [],
            "description": "",
            "_model_name": "HTMLModel",
            "placeholder": "​",
            "_view_module": "@jupyter-widgets/controls",
            "_model_module_version": "1.5.0",
            "value": " 719/719 [21:28&lt;00:00,  1.79s/it]",
            "_view_count": null,
            "_view_module_version": "1.5.0",
            "description_tooltip": null,
            "_model_module": "@jupyter-widgets/controls",
            "layout": "IPY_MODEL_329591cd448a4798a7e72290a1bf48cb"
          }
        },
        "34e2a02e12954ebebd50524bf1795d16": {
          "model_module": "@jupyter-widgets/controls",
          "model_name": "ProgressStyleModel",
          "model_module_version": "1.5.0",
          "state": {
            "_view_name": "StyleView",
            "_model_name": "ProgressStyleModel",
            "description_width": "initial",
            "_view_module": "@jupyter-widgets/base",
            "_model_module_version": "1.5.0",
            "_view_count": null,
            "_view_module_version": "1.2.0",
            "bar_color": null,
            "_model_module": "@jupyter-widgets/controls"
          }
        },
        "69305a6e7df5484997f77096a90d9ed7": {
          "model_module": "@jupyter-widgets/base",
          "model_name": "LayoutModel",
          "model_module_version": "1.2.0",
          "state": {
            "_view_name": "LayoutView",
            "grid_template_rows": null,
            "right": null,
            "justify_content": null,
            "_view_module": "@jupyter-widgets/base",
            "overflow": null,
            "_model_module_version": "1.2.0",
            "_view_count": null,
            "flex_flow": null,
            "width": null,
            "min_width": null,
            "border": null,
            "align_items": null,
            "bottom": null,
            "_model_module": "@jupyter-widgets/base",
            "top": null,
            "grid_column": null,
            "overflow_y": null,
            "overflow_x": null,
            "grid_auto_flow": null,
            "grid_area": null,
            "grid_template_columns": null,
            "flex": null,
            "_model_name": "LayoutModel",
            "justify_items": null,
            "grid_row": null,
            "max_height": null,
            "align_content": null,
            "visibility": null,
            "align_self": null,
            "height": null,
            "min_height": null,
            "padding": null,
            "grid_auto_rows": null,
            "grid_gap": null,
            "max_width": null,
            "order": null,
            "_view_module_version": "1.2.0",
            "grid_template_areas": null,
            "object_position": null,
            "object_fit": null,
            "grid_auto_columns": null,
            "margin": null,
            "display": null,
            "left": null
          }
        },
        "7851ea5b2d374390bee39f81174d4457": {
          "model_module": "@jupyter-widgets/controls",
          "model_name": "DescriptionStyleModel",
          "model_module_version": "1.5.0",
          "state": {
            "_view_name": "StyleView",
            "_model_name": "DescriptionStyleModel",
            "description_width": "",
            "_view_module": "@jupyter-widgets/base",
            "_model_module_version": "1.5.0",
            "_view_count": null,
            "_view_module_version": "1.2.0",
            "_model_module": "@jupyter-widgets/controls"
          }
        },
        "329591cd448a4798a7e72290a1bf48cb": {
          "model_module": "@jupyter-widgets/base",
          "model_name": "LayoutModel",
          "model_module_version": "1.2.0",
          "state": {
            "_view_name": "LayoutView",
            "grid_template_rows": null,
            "right": null,
            "justify_content": null,
            "_view_module": "@jupyter-widgets/base",
            "overflow": null,
            "_model_module_version": "1.2.0",
            "_view_count": null,
            "flex_flow": null,
            "width": null,
            "min_width": null,
            "border": null,
            "align_items": null,
            "bottom": null,
            "_model_module": "@jupyter-widgets/base",
            "top": null,
            "grid_column": null,
            "overflow_y": null,
            "overflow_x": null,
            "grid_auto_flow": null,
            "grid_area": null,
            "grid_template_columns": null,
            "flex": null,
            "_model_name": "LayoutModel",
            "justify_items": null,
            "grid_row": null,
            "max_height": null,
            "align_content": null,
            "visibility": null,
            "align_self": null,
            "height": null,
            "min_height": null,
            "padding": null,
            "grid_auto_rows": null,
            "grid_gap": null,
            "max_width": null,
            "order": null,
            "_view_module_version": "1.2.0",
            "grid_template_areas": null,
            "object_position": null,
            "object_fit": null,
            "grid_auto_columns": null,
            "margin": null,
            "display": null,
            "left": null
          }
        },
        "b012ad6469e14e0e83d4320230cea8bd": {
          "model_module": "@jupyter-widgets/controls",
          "model_name": "HBoxModel",
          "model_module_version": "1.5.0",
          "state": {
            "_view_name": "HBoxView",
            "_dom_classes": [],
            "_model_name": "HBoxModel",
            "_view_module": "@jupyter-widgets/controls",
            "_model_module_version": "1.5.0",
            "_view_count": null,
            "_view_module_version": "1.5.0",
            "box_style": "",
            "layout": "IPY_MODEL_d7e883e253ce4070b639d6e1e7ccd473",
            "_model_module": "@jupyter-widgets/controls",
            "children": [
              "IPY_MODEL_25c08e6bfb1e478380d7ea14a1e9abe4",
              "IPY_MODEL_6f619ae2ac0e4f1c91bbfbd527341411"
            ]
          }
        },
        "d7e883e253ce4070b639d6e1e7ccd473": {
          "model_module": "@jupyter-widgets/base",
          "model_name": "LayoutModel",
          "model_module_version": "1.2.0",
          "state": {
            "_view_name": "LayoutView",
            "grid_template_rows": null,
            "right": null,
            "justify_content": null,
            "_view_module": "@jupyter-widgets/base",
            "overflow": null,
            "_model_module_version": "1.2.0",
            "_view_count": null,
            "flex_flow": null,
            "width": null,
            "min_width": null,
            "border": null,
            "align_items": null,
            "bottom": null,
            "_model_module": "@jupyter-widgets/base",
            "top": null,
            "grid_column": null,
            "overflow_y": null,
            "overflow_x": null,
            "grid_auto_flow": null,
            "grid_area": null,
            "grid_template_columns": null,
            "flex": null,
            "_model_name": "LayoutModel",
            "justify_items": null,
            "grid_row": null,
            "max_height": null,
            "align_content": null,
            "visibility": null,
            "align_self": null,
            "height": null,
            "min_height": null,
            "padding": null,
            "grid_auto_rows": null,
            "grid_gap": null,
            "max_width": null,
            "order": null,
            "_view_module_version": "1.2.0",
            "grid_template_areas": null,
            "object_position": null,
            "object_fit": null,
            "grid_auto_columns": null,
            "margin": null,
            "display": null,
            "left": null
          }
        },
        "25c08e6bfb1e478380d7ea14a1e9abe4": {
          "model_module": "@jupyter-widgets/controls",
          "model_name": "FloatProgressModel",
          "model_module_version": "1.5.0",
          "state": {
            "_view_name": "ProgressView",
            "style": "IPY_MODEL_0d4dabec73f74a04acac87b33ca61895",
            "_dom_classes": [],
            "description": "100%",
            "_model_name": "FloatProgressModel",
            "bar_style": "success",
            "max": 16,
            "_view_module": "@jupyter-widgets/controls",
            "_model_module_version": "1.5.0",
            "value": 16,
            "_view_count": null,
            "_view_module_version": "1.5.0",
            "orientation": "horizontal",
            "min": 0,
            "description_tooltip": null,
            "_model_module": "@jupyter-widgets/controls",
            "layout": "IPY_MODEL_f236fc2acf734d3abb1a47229b392343"
          }
        },
        "6f619ae2ac0e4f1c91bbfbd527341411": {
          "model_module": "@jupyter-widgets/controls",
          "model_name": "HTMLModel",
          "model_module_version": "1.5.0",
          "state": {
            "_view_name": "HTMLView",
            "style": "IPY_MODEL_c02e9a6c1bb64c06bbd98a25434fa897",
            "_dom_classes": [],
            "description": "",
            "_model_name": "HTMLModel",
            "placeholder": "​",
            "_view_module": "@jupyter-widgets/controls",
            "_model_module_version": "1.5.0",
            "value": " 16/16 [00:12&lt;00:00,  1.31it/s]",
            "_view_count": null,
            "_view_module_version": "1.5.0",
            "description_tooltip": null,
            "_model_module": "@jupyter-widgets/controls",
            "layout": "IPY_MODEL_792e0532572d45e197ac4b02478faab9"
          }
        },
        "0d4dabec73f74a04acac87b33ca61895": {
          "model_module": "@jupyter-widgets/controls",
          "model_name": "ProgressStyleModel",
          "model_module_version": "1.5.0",
          "state": {
            "_view_name": "StyleView",
            "_model_name": "ProgressStyleModel",
            "description_width": "initial",
            "_view_module": "@jupyter-widgets/base",
            "_model_module_version": "1.5.0",
            "_view_count": null,
            "_view_module_version": "1.2.0",
            "bar_color": null,
            "_model_module": "@jupyter-widgets/controls"
          }
        },
        "f236fc2acf734d3abb1a47229b392343": {
          "model_module": "@jupyter-widgets/base",
          "model_name": "LayoutModel",
          "model_module_version": "1.2.0",
          "state": {
            "_view_name": "LayoutView",
            "grid_template_rows": null,
            "right": null,
            "justify_content": null,
            "_view_module": "@jupyter-widgets/base",
            "overflow": null,
            "_model_module_version": "1.2.0",
            "_view_count": null,
            "flex_flow": null,
            "width": null,
            "min_width": null,
            "border": null,
            "align_items": null,
            "bottom": null,
            "_model_module": "@jupyter-widgets/base",
            "top": null,
            "grid_column": null,
            "overflow_y": null,
            "overflow_x": null,
            "grid_auto_flow": null,
            "grid_area": null,
            "grid_template_columns": null,
            "flex": null,
            "_model_name": "LayoutModel",
            "justify_items": null,
            "grid_row": null,
            "max_height": null,
            "align_content": null,
            "visibility": null,
            "align_self": null,
            "height": null,
            "min_height": null,
            "padding": null,
            "grid_auto_rows": null,
            "grid_gap": null,
            "max_width": null,
            "order": null,
            "_view_module_version": "1.2.0",
            "grid_template_areas": null,
            "object_position": null,
            "object_fit": null,
            "grid_auto_columns": null,
            "margin": null,
            "display": null,
            "left": null
          }
        },
        "c02e9a6c1bb64c06bbd98a25434fa897": {
          "model_module": "@jupyter-widgets/controls",
          "model_name": "DescriptionStyleModel",
          "model_module_version": "1.5.0",
          "state": {
            "_view_name": "StyleView",
            "_model_name": "DescriptionStyleModel",
            "description_width": "",
            "_view_module": "@jupyter-widgets/base",
            "_model_module_version": "1.5.0",
            "_view_count": null,
            "_view_module_version": "1.2.0",
            "_model_module": "@jupyter-widgets/controls"
          }
        },
        "792e0532572d45e197ac4b02478faab9": {
          "model_module": "@jupyter-widgets/base",
          "model_name": "LayoutModel",
          "model_module_version": "1.2.0",
          "state": {
            "_view_name": "LayoutView",
            "grid_template_rows": null,
            "right": null,
            "justify_content": null,
            "_view_module": "@jupyter-widgets/base",
            "overflow": null,
            "_model_module_version": "1.2.0",
            "_view_count": null,
            "flex_flow": null,
            "width": null,
            "min_width": null,
            "border": null,
            "align_items": null,
            "bottom": null,
            "_model_module": "@jupyter-widgets/base",
            "top": null,
            "grid_column": null,
            "overflow_y": null,
            "overflow_x": null,
            "grid_auto_flow": null,
            "grid_area": null,
            "grid_template_columns": null,
            "flex": null,
            "_model_name": "LayoutModel",
            "justify_items": null,
            "grid_row": null,
            "max_height": null,
            "align_content": null,
            "visibility": null,
            "align_self": null,
            "height": null,
            "min_height": null,
            "padding": null,
            "grid_auto_rows": null,
            "grid_gap": null,
            "max_width": null,
            "order": null,
            "_view_module_version": "1.2.0",
            "grid_template_areas": null,
            "object_position": null,
            "object_fit": null,
            "grid_auto_columns": null,
            "margin": null,
            "display": null,
            "left": null
          }
        },
        "036f8e3fef104dc2adbdc30b8c494506": {
          "model_module": "@jupyter-widgets/controls",
          "model_name": "HBoxModel",
          "model_module_version": "1.5.0",
          "state": {
            "_view_name": "HBoxView",
            "_dom_classes": [],
            "_model_name": "HBoxModel",
            "_view_module": "@jupyter-widgets/controls",
            "_model_module_version": "1.5.0",
            "_view_count": null,
            "_view_module_version": "1.5.0",
            "box_style": "",
            "layout": "IPY_MODEL_a51295bb896b4ccd972d542ab639eb09",
            "_model_module": "@jupyter-widgets/controls",
            "children": [
              "IPY_MODEL_7cbdfc2934d64bdb8b13bbdd2e8cdfbc",
              "IPY_MODEL_2908660c074f47bf937fb845041f4a47"
            ]
          }
        },
        "a51295bb896b4ccd972d542ab639eb09": {
          "model_module": "@jupyter-widgets/base",
          "model_name": "LayoutModel",
          "model_module_version": "1.2.0",
          "state": {
            "_view_name": "LayoutView",
            "grid_template_rows": null,
            "right": null,
            "justify_content": null,
            "_view_module": "@jupyter-widgets/base",
            "overflow": null,
            "_model_module_version": "1.2.0",
            "_view_count": null,
            "flex_flow": null,
            "width": null,
            "min_width": null,
            "border": null,
            "align_items": null,
            "bottom": null,
            "_model_module": "@jupyter-widgets/base",
            "top": null,
            "grid_column": null,
            "overflow_y": null,
            "overflow_x": null,
            "grid_auto_flow": null,
            "grid_area": null,
            "grid_template_columns": null,
            "flex": null,
            "_model_name": "LayoutModel",
            "justify_items": null,
            "grid_row": null,
            "max_height": null,
            "align_content": null,
            "visibility": null,
            "align_self": null,
            "height": null,
            "min_height": null,
            "padding": null,
            "grid_auto_rows": null,
            "grid_gap": null,
            "max_width": null,
            "order": null,
            "_view_module_version": "1.2.0",
            "grid_template_areas": null,
            "object_position": null,
            "object_fit": null,
            "grid_auto_columns": null,
            "margin": null,
            "display": null,
            "left": null
          }
        },
        "7cbdfc2934d64bdb8b13bbdd2e8cdfbc": {
          "model_module": "@jupyter-widgets/controls",
          "model_name": "FloatProgressModel",
          "model_module_version": "1.5.0",
          "state": {
            "_view_name": "ProgressView",
            "style": "IPY_MODEL_57c10cb1f59e4cfc8d35fd15b100532c",
            "_dom_classes": [],
            "description": "100%",
            "_model_name": "FloatProgressModel",
            "bar_style": "success",
            "max": 719,
            "_view_module": "@jupyter-widgets/controls",
            "_model_module_version": "1.5.0",
            "value": 719,
            "_view_count": null,
            "_view_module_version": "1.5.0",
            "orientation": "horizontal",
            "min": 0,
            "description_tooltip": null,
            "_model_module": "@jupyter-widgets/controls",
            "layout": "IPY_MODEL_f7347398e7c1444f89bb8b9a4e820af9"
          }
        },
        "2908660c074f47bf937fb845041f4a47": {
          "model_module": "@jupyter-widgets/controls",
          "model_name": "HTMLModel",
          "model_module_version": "1.5.0",
          "state": {
            "_view_name": "HTMLView",
            "style": "IPY_MODEL_2aeb3b2fe97c4184af28f066f253ad2d",
            "_dom_classes": [],
            "description": "",
            "_model_name": "HTMLModel",
            "placeholder": "​",
            "_view_module": "@jupyter-widgets/controls",
            "_model_module_version": "1.5.0",
            "value": " 719/719 [21:31&lt;00:00,  1.80s/it]",
            "_view_count": null,
            "_view_module_version": "1.5.0",
            "description_tooltip": null,
            "_model_module": "@jupyter-widgets/controls",
            "layout": "IPY_MODEL_c510801441b0410da3c2f3baaecf726d"
          }
        },
        "57c10cb1f59e4cfc8d35fd15b100532c": {
          "model_module": "@jupyter-widgets/controls",
          "model_name": "ProgressStyleModel",
          "model_module_version": "1.5.0",
          "state": {
            "_view_name": "StyleView",
            "_model_name": "ProgressStyleModel",
            "description_width": "initial",
            "_view_module": "@jupyter-widgets/base",
            "_model_module_version": "1.5.0",
            "_view_count": null,
            "_view_module_version": "1.2.0",
            "bar_color": null,
            "_model_module": "@jupyter-widgets/controls"
          }
        },
        "f7347398e7c1444f89bb8b9a4e820af9": {
          "model_module": "@jupyter-widgets/base",
          "model_name": "LayoutModel",
          "model_module_version": "1.2.0",
          "state": {
            "_view_name": "LayoutView",
            "grid_template_rows": null,
            "right": null,
            "justify_content": null,
            "_view_module": "@jupyter-widgets/base",
            "overflow": null,
            "_model_module_version": "1.2.0",
            "_view_count": null,
            "flex_flow": null,
            "width": null,
            "min_width": null,
            "border": null,
            "align_items": null,
            "bottom": null,
            "_model_module": "@jupyter-widgets/base",
            "top": null,
            "grid_column": null,
            "overflow_y": null,
            "overflow_x": null,
            "grid_auto_flow": null,
            "grid_area": null,
            "grid_template_columns": null,
            "flex": null,
            "_model_name": "LayoutModel",
            "justify_items": null,
            "grid_row": null,
            "max_height": null,
            "align_content": null,
            "visibility": null,
            "align_self": null,
            "height": null,
            "min_height": null,
            "padding": null,
            "grid_auto_rows": null,
            "grid_gap": null,
            "max_width": null,
            "order": null,
            "_view_module_version": "1.2.0",
            "grid_template_areas": null,
            "object_position": null,
            "object_fit": null,
            "grid_auto_columns": null,
            "margin": null,
            "display": null,
            "left": null
          }
        },
        "2aeb3b2fe97c4184af28f066f253ad2d": {
          "model_module": "@jupyter-widgets/controls",
          "model_name": "DescriptionStyleModel",
          "model_module_version": "1.5.0",
          "state": {
            "_view_name": "StyleView",
            "_model_name": "DescriptionStyleModel",
            "description_width": "",
            "_view_module": "@jupyter-widgets/base",
            "_model_module_version": "1.5.0",
            "_view_count": null,
            "_view_module_version": "1.2.0",
            "_model_module": "@jupyter-widgets/controls"
          }
        },
        "c510801441b0410da3c2f3baaecf726d": {
          "model_module": "@jupyter-widgets/base",
          "model_name": "LayoutModel",
          "model_module_version": "1.2.0",
          "state": {
            "_view_name": "LayoutView",
            "grid_template_rows": null,
            "right": null,
            "justify_content": null,
            "_view_module": "@jupyter-widgets/base",
            "overflow": null,
            "_model_module_version": "1.2.0",
            "_view_count": null,
            "flex_flow": null,
            "width": null,
            "min_width": null,
            "border": null,
            "align_items": null,
            "bottom": null,
            "_model_module": "@jupyter-widgets/base",
            "top": null,
            "grid_column": null,
            "overflow_y": null,
            "overflow_x": null,
            "grid_auto_flow": null,
            "grid_area": null,
            "grid_template_columns": null,
            "flex": null,
            "_model_name": "LayoutModel",
            "justify_items": null,
            "grid_row": null,
            "max_height": null,
            "align_content": null,
            "visibility": null,
            "align_self": null,
            "height": null,
            "min_height": null,
            "padding": null,
            "grid_auto_rows": null,
            "grid_gap": null,
            "max_width": null,
            "order": null,
            "_view_module_version": "1.2.0",
            "grid_template_areas": null,
            "object_position": null,
            "object_fit": null,
            "grid_auto_columns": null,
            "margin": null,
            "display": null,
            "left": null
          }
        },
        "9fa141a91ac847f19820afb691db7ff3": {
          "model_module": "@jupyter-widgets/controls",
          "model_name": "HBoxModel",
          "model_module_version": "1.5.0",
          "state": {
            "_view_name": "HBoxView",
            "_dom_classes": [],
            "_model_name": "HBoxModel",
            "_view_module": "@jupyter-widgets/controls",
            "_model_module_version": "1.5.0",
            "_view_count": null,
            "_view_module_version": "1.5.0",
            "box_style": "",
            "layout": "IPY_MODEL_82901b02991e4f01b0163fabe2fc418d",
            "_model_module": "@jupyter-widgets/controls",
            "children": [
              "IPY_MODEL_182a2b4c76ac45949b43f76f9bb8ac04",
              "IPY_MODEL_91c57a8473b84215b4efd9fd842273e2"
            ]
          }
        },
        "82901b02991e4f01b0163fabe2fc418d": {
          "model_module": "@jupyter-widgets/base",
          "model_name": "LayoutModel",
          "model_module_version": "1.2.0",
          "state": {
            "_view_name": "LayoutView",
            "grid_template_rows": null,
            "right": null,
            "justify_content": null,
            "_view_module": "@jupyter-widgets/base",
            "overflow": null,
            "_model_module_version": "1.2.0",
            "_view_count": null,
            "flex_flow": null,
            "width": null,
            "min_width": null,
            "border": null,
            "align_items": null,
            "bottom": null,
            "_model_module": "@jupyter-widgets/base",
            "top": null,
            "grid_column": null,
            "overflow_y": null,
            "overflow_x": null,
            "grid_auto_flow": null,
            "grid_area": null,
            "grid_template_columns": null,
            "flex": null,
            "_model_name": "LayoutModel",
            "justify_items": null,
            "grid_row": null,
            "max_height": null,
            "align_content": null,
            "visibility": null,
            "align_self": null,
            "height": null,
            "min_height": null,
            "padding": null,
            "grid_auto_rows": null,
            "grid_gap": null,
            "max_width": null,
            "order": null,
            "_view_module_version": "1.2.0",
            "grid_template_areas": null,
            "object_position": null,
            "object_fit": null,
            "grid_auto_columns": null,
            "margin": null,
            "display": null,
            "left": null
          }
        },
        "182a2b4c76ac45949b43f76f9bb8ac04": {
          "model_module": "@jupyter-widgets/controls",
          "model_name": "FloatProgressModel",
          "model_module_version": "1.5.0",
          "state": {
            "_view_name": "ProgressView",
            "style": "IPY_MODEL_8ecbd6aa8eba45a6b779705b3a98088f",
            "_dom_classes": [],
            "description": "100%",
            "_model_name": "FloatProgressModel",
            "bar_style": "success",
            "max": 16,
            "_view_module": "@jupyter-widgets/controls",
            "_model_module_version": "1.5.0",
            "value": 16,
            "_view_count": null,
            "_view_module_version": "1.5.0",
            "orientation": "horizontal",
            "min": 0,
            "description_tooltip": null,
            "_model_module": "@jupyter-widgets/controls",
            "layout": "IPY_MODEL_d867cb5267474ca291234781121d2002"
          }
        },
        "91c57a8473b84215b4efd9fd842273e2": {
          "model_module": "@jupyter-widgets/controls",
          "model_name": "HTMLModel",
          "model_module_version": "1.5.0",
          "state": {
            "_view_name": "HTMLView",
            "style": "IPY_MODEL_8ddcb92004624dff97efda1f2334d5e2",
            "_dom_classes": [],
            "description": "",
            "_model_name": "HTMLModel",
            "placeholder": "​",
            "_view_module": "@jupyter-widgets/controls",
            "_model_module_version": "1.5.0",
            "value": " 16/16 [00:12&lt;00:00,  1.30it/s]",
            "_view_count": null,
            "_view_module_version": "1.5.0",
            "description_tooltip": null,
            "_model_module": "@jupyter-widgets/controls",
            "layout": "IPY_MODEL_20c334a9f7bf4d6ab138b4242b888769"
          }
        },
        "8ecbd6aa8eba45a6b779705b3a98088f": {
          "model_module": "@jupyter-widgets/controls",
          "model_name": "ProgressStyleModel",
          "model_module_version": "1.5.0",
          "state": {
            "_view_name": "StyleView",
            "_model_name": "ProgressStyleModel",
            "description_width": "initial",
            "_view_module": "@jupyter-widgets/base",
            "_model_module_version": "1.5.0",
            "_view_count": null,
            "_view_module_version": "1.2.0",
            "bar_color": null,
            "_model_module": "@jupyter-widgets/controls"
          }
        },
        "d867cb5267474ca291234781121d2002": {
          "model_module": "@jupyter-widgets/base",
          "model_name": "LayoutModel",
          "model_module_version": "1.2.0",
          "state": {
            "_view_name": "LayoutView",
            "grid_template_rows": null,
            "right": null,
            "justify_content": null,
            "_view_module": "@jupyter-widgets/base",
            "overflow": null,
            "_model_module_version": "1.2.0",
            "_view_count": null,
            "flex_flow": null,
            "width": null,
            "min_width": null,
            "border": null,
            "align_items": null,
            "bottom": null,
            "_model_module": "@jupyter-widgets/base",
            "top": null,
            "grid_column": null,
            "overflow_y": null,
            "overflow_x": null,
            "grid_auto_flow": null,
            "grid_area": null,
            "grid_template_columns": null,
            "flex": null,
            "_model_name": "LayoutModel",
            "justify_items": null,
            "grid_row": null,
            "max_height": null,
            "align_content": null,
            "visibility": null,
            "align_self": null,
            "height": null,
            "min_height": null,
            "padding": null,
            "grid_auto_rows": null,
            "grid_gap": null,
            "max_width": null,
            "order": null,
            "_view_module_version": "1.2.0",
            "grid_template_areas": null,
            "object_position": null,
            "object_fit": null,
            "grid_auto_columns": null,
            "margin": null,
            "display": null,
            "left": null
          }
        },
        "8ddcb92004624dff97efda1f2334d5e2": {
          "model_module": "@jupyter-widgets/controls",
          "model_name": "DescriptionStyleModel",
          "model_module_version": "1.5.0",
          "state": {
            "_view_name": "StyleView",
            "_model_name": "DescriptionStyleModel",
            "description_width": "",
            "_view_module": "@jupyter-widgets/base",
            "_model_module_version": "1.5.0",
            "_view_count": null,
            "_view_module_version": "1.2.0",
            "_model_module": "@jupyter-widgets/controls"
          }
        },
        "20c334a9f7bf4d6ab138b4242b888769": {
          "model_module": "@jupyter-widgets/base",
          "model_name": "LayoutModel",
          "model_module_version": "1.2.0",
          "state": {
            "_view_name": "LayoutView",
            "grid_template_rows": null,
            "right": null,
            "justify_content": null,
            "_view_module": "@jupyter-widgets/base",
            "overflow": null,
            "_model_module_version": "1.2.0",
            "_view_count": null,
            "flex_flow": null,
            "width": null,
            "min_width": null,
            "border": null,
            "align_items": null,
            "bottom": null,
            "_model_module": "@jupyter-widgets/base",
            "top": null,
            "grid_column": null,
            "overflow_y": null,
            "overflow_x": null,
            "grid_auto_flow": null,
            "grid_area": null,
            "grid_template_columns": null,
            "flex": null,
            "_model_name": "LayoutModel",
            "justify_items": null,
            "grid_row": null,
            "max_height": null,
            "align_content": null,
            "visibility": null,
            "align_self": null,
            "height": null,
            "min_height": null,
            "padding": null,
            "grid_auto_rows": null,
            "grid_gap": null,
            "max_width": null,
            "order": null,
            "_view_module_version": "1.2.0",
            "grid_template_areas": null,
            "object_position": null,
            "object_fit": null,
            "grid_auto_columns": null,
            "margin": null,
            "display": null,
            "left": null
          }
        }
      }
    }
  },
  "cells": [
    {
      "cell_type": "markdown",
      "metadata": {
        "id": "view-in-github",
        "colab_type": "text"
      },
      "source": [
        "<a href=\"https://colab.research.google.com/github/Mostofa-Najmus-Sakib/NLP-works/blob/main/Assisgnment_8/A8_BERT_fine_tuning.ipynb\" target=\"_parent\"><img src=\"https://colab.research.google.com/assets/colab-badge.svg\" alt=\"Open In Colab\"/></a>"
      ]
    },
    {
      "cell_type": "markdown",
      "metadata": {
        "id": "qF5NBVbL8EEk"
      },
      "source": [
        "### BERT fine-tuning for document classification"
      ]
    },
    {
      "cell_type": "code",
      "metadata": {
        "id": "KBkH-sWh8N7B",
        "colab": {
          "base_uri": "https://localhost:8080/"
        },
        "outputId": "17c49700-ec8a-4658-d710-38ae0b9bc1dd"
      },
      "source": [
        "pip install transformers"
      ],
      "execution_count": null,
      "outputs": [
        {
          "output_type": "stream",
          "text": [
            "Collecting transformers\n",
            "\u001b[?25l  Downloading https://files.pythonhosted.org/packages/ed/d5/f4157a376b8a79489a76ce6cfe147f4f3be1e029b7144fa7b8432e8acb26/transformers-4.4.2-py3-none-any.whl (2.0MB)\n",
            "\r\u001b[K     |▏                               | 10kB 22.8MB/s eta 0:00:01\r\u001b[K     |▎                               | 20kB 29.7MB/s eta 0:00:01\r\u001b[K     |▌                               | 30kB 33.3MB/s eta 0:00:01\r\u001b[K     |▋                               | 40kB 36.4MB/s eta 0:00:01\r\u001b[K     |▉                               | 51kB 34.4MB/s eta 0:00:01\r\u001b[K     |█                               | 61kB 36.6MB/s eta 0:00:01\r\u001b[K     |█▏                              | 71kB 22.8MB/s eta 0:00:01\r\u001b[K     |█▎                              | 81kB 21.4MB/s eta 0:00:01\r\u001b[K     |█▌                              | 92kB 23.0MB/s eta 0:00:01\r\u001b[K     |█▋                              | 102kB 21.6MB/s eta 0:00:01\r\u001b[K     |█▉                              | 112kB 21.6MB/s eta 0:00:01\r\u001b[K     |██                              | 122kB 21.6MB/s eta 0:00:01\r\u001b[K     |██▏                             | 133kB 21.6MB/s eta 0:00:01\r\u001b[K     |██▎                             | 143kB 21.6MB/s eta 0:00:01\r\u001b[K     |██▌                             | 153kB 21.6MB/s eta 0:00:01\r\u001b[K     |██▋                             | 163kB 21.6MB/s eta 0:00:01\r\u001b[K     |██▉                             | 174kB 21.6MB/s eta 0:00:01\r\u001b[K     |███                             | 184kB 21.6MB/s eta 0:00:01\r\u001b[K     |███▏                            | 194kB 21.6MB/s eta 0:00:01\r\u001b[K     |███▎                            | 204kB 21.6MB/s eta 0:00:01\r\u001b[K     |███▌                            | 215kB 21.6MB/s eta 0:00:01\r\u001b[K     |███▋                            | 225kB 21.6MB/s eta 0:00:01\r\u001b[K     |███▉                            | 235kB 21.6MB/s eta 0:00:01\r\u001b[K     |████                            | 245kB 21.6MB/s eta 0:00:01\r\u001b[K     |████▏                           | 256kB 21.6MB/s eta 0:00:01\r\u001b[K     |████▎                           | 266kB 21.6MB/s eta 0:00:01\r\u001b[K     |████▌                           | 276kB 21.6MB/s eta 0:00:01\r\u001b[K     |████▋                           | 286kB 21.6MB/s eta 0:00:01\r\u001b[K     |████▉                           | 296kB 21.6MB/s eta 0:00:01\r\u001b[K     |█████                           | 307kB 21.6MB/s eta 0:00:01\r\u001b[K     |█████▏                          | 317kB 21.6MB/s eta 0:00:01\r\u001b[K     |█████▎                          | 327kB 21.6MB/s eta 0:00:01\r\u001b[K     |█████▌                          | 337kB 21.6MB/s eta 0:00:01\r\u001b[K     |█████▋                          | 348kB 21.6MB/s eta 0:00:01\r\u001b[K     |█████▉                          | 358kB 21.6MB/s eta 0:00:01\r\u001b[K     |██████                          | 368kB 21.6MB/s eta 0:00:01\r\u001b[K     |██████▏                         | 378kB 21.6MB/s eta 0:00:01\r\u001b[K     |██████▎                         | 389kB 21.6MB/s eta 0:00:01\r\u001b[K     |██████▌                         | 399kB 21.6MB/s eta 0:00:01\r\u001b[K     |██████▋                         | 409kB 21.6MB/s eta 0:00:01\r\u001b[K     |██████▉                         | 419kB 21.6MB/s eta 0:00:01\r\u001b[K     |███████                         | 430kB 21.6MB/s eta 0:00:01\r\u001b[K     |███████▏                        | 440kB 21.6MB/s eta 0:00:01\r\u001b[K     |███████▎                        | 450kB 21.6MB/s eta 0:00:01\r\u001b[K     |███████▌                        | 460kB 21.6MB/s eta 0:00:01\r\u001b[K     |███████▋                        | 471kB 21.6MB/s eta 0:00:01\r\u001b[K     |███████▉                        | 481kB 21.6MB/s eta 0:00:01\r\u001b[K     |████████                        | 491kB 21.6MB/s eta 0:00:01\r\u001b[K     |████████▏                       | 501kB 21.6MB/s eta 0:00:01\r\u001b[K     |████████▎                       | 512kB 21.6MB/s eta 0:00:01\r\u001b[K     |████████▌                       | 522kB 21.6MB/s eta 0:00:01\r\u001b[K     |████████▋                       | 532kB 21.6MB/s eta 0:00:01\r\u001b[K     |████████▉                       | 542kB 21.6MB/s eta 0:00:01\r\u001b[K     |█████████                       | 552kB 21.6MB/s eta 0:00:01\r\u001b[K     |█████████▏                      | 563kB 21.6MB/s eta 0:00:01\r\u001b[K     |█████████▎                      | 573kB 21.6MB/s eta 0:00:01\r\u001b[K     |█████████▌                      | 583kB 21.6MB/s eta 0:00:01\r\u001b[K     |█████████▋                      | 593kB 21.6MB/s eta 0:00:01\r\u001b[K     |█████████▉                      | 604kB 21.6MB/s eta 0:00:01\r\u001b[K     |██████████                      | 614kB 21.6MB/s eta 0:00:01\r\u001b[K     |██████████▏                     | 624kB 21.6MB/s eta 0:00:01\r\u001b[K     |██████████▎                     | 634kB 21.6MB/s eta 0:00:01\r\u001b[K     |██████████▌                     | 645kB 21.6MB/s eta 0:00:01\r\u001b[K     |██████████▋                     | 655kB 21.6MB/s eta 0:00:01\r\u001b[K     |██████████▉                     | 665kB 21.6MB/s eta 0:00:01\r\u001b[K     |███████████                     | 675kB 21.6MB/s eta 0:00:01\r\u001b[K     |███████████▏                    | 686kB 21.6MB/s eta 0:00:01\r\u001b[K     |███████████▎                    | 696kB 21.6MB/s eta 0:00:01\r\u001b[K     |███████████▌                    | 706kB 21.6MB/s eta 0:00:01\r\u001b[K     |███████████▋                    | 716kB 21.6MB/s eta 0:00:01\r\u001b[K     |███████████▉                    | 727kB 21.6MB/s eta 0:00:01\r\u001b[K     |████████████                    | 737kB 21.6MB/s eta 0:00:01\r\u001b[K     |████████████▏                   | 747kB 21.6MB/s eta 0:00:01\r\u001b[K     |████████████▎                   | 757kB 21.6MB/s eta 0:00:01\r\u001b[K     |████████████▌                   | 768kB 21.6MB/s eta 0:00:01\r\u001b[K     |████████████▋                   | 778kB 21.6MB/s eta 0:00:01\r\u001b[K     |████████████▉                   | 788kB 21.6MB/s eta 0:00:01\r\u001b[K     |█████████████                   | 798kB 21.6MB/s eta 0:00:01\r\u001b[K     |█████████████▏                  | 808kB 21.6MB/s eta 0:00:01\r\u001b[K     |█████████████▎                  | 819kB 21.6MB/s eta 0:00:01\r\u001b[K     |█████████████▌                  | 829kB 21.6MB/s eta 0:00:01\r\u001b[K     |█████████████▋                  | 839kB 21.6MB/s eta 0:00:01\r\u001b[K     |█████████████▉                  | 849kB 21.6MB/s eta 0:00:01\r\u001b[K     |██████████████                  | 860kB 21.6MB/s eta 0:00:01\r\u001b[K     |██████████████▏                 | 870kB 21.6MB/s eta 0:00:01\r\u001b[K     |██████████████▎                 | 880kB 21.6MB/s eta 0:00:01\r\u001b[K     |██████████████▌                 | 890kB 21.6MB/s eta 0:00:01\r\u001b[K     |██████████████▋                 | 901kB 21.6MB/s eta 0:00:01\r\u001b[K     |██████████████▊                 | 911kB 21.6MB/s eta 0:00:01\r\u001b[K     |███████████████                 | 921kB 21.6MB/s eta 0:00:01\r\u001b[K     |███████████████                 | 931kB 21.6MB/s eta 0:00:01\r\u001b[K     |███████████████▎                | 942kB 21.6MB/s eta 0:00:01\r\u001b[K     |███████████████▍                | 952kB 21.6MB/s eta 0:00:01\r\u001b[K     |███████████████▋                | 962kB 21.6MB/s eta 0:00:01\r\u001b[K     |███████████████▊                | 972kB 21.6MB/s eta 0:00:01\r\u001b[K     |████████████████                | 983kB 21.6MB/s eta 0:00:01\r\u001b[K     |████████████████                | 993kB 21.6MB/s eta 0:00:01\r\u001b[K     |████████████████▎               | 1.0MB 21.6MB/s eta 0:00:01\r\u001b[K     |████████████████▍               | 1.0MB 21.6MB/s eta 0:00:01\r\u001b[K     |████████████████▋               | 1.0MB 21.6MB/s eta 0:00:01\r\u001b[K     |████████████████▊               | 1.0MB 21.6MB/s eta 0:00:01\r\u001b[K     |█████████████████               | 1.0MB 21.6MB/s eta 0:00:01\r\u001b[K     |█████████████████               | 1.1MB 21.6MB/s eta 0:00:01\r\u001b[K     |█████████████████▎              | 1.1MB 21.6MB/s eta 0:00:01\r\u001b[K     |█████████████████▍              | 1.1MB 21.6MB/s eta 0:00:01\r\u001b[K     |█████████████████▋              | 1.1MB 21.6MB/s eta 0:00:01\r\u001b[K     |█████████████████▊              | 1.1MB 21.6MB/s eta 0:00:01\r\u001b[K     |██████████████████              | 1.1MB 21.6MB/s eta 0:00:01\r\u001b[K     |██████████████████              | 1.1MB 21.6MB/s eta 0:00:01\r\u001b[K     |██████████████████▎             | 1.1MB 21.6MB/s eta 0:00:01\r\u001b[K     |██████████████████▍             | 1.1MB 21.6MB/s eta 0:00:01\r\u001b[K     |██████████████████▋             | 1.1MB 21.6MB/s eta 0:00:01\r\u001b[K     |██████████████████▊             | 1.2MB 21.6MB/s eta 0:00:01\r\u001b[K     |███████████████████             | 1.2MB 21.6MB/s eta 0:00:01\r\u001b[K     |███████████████████             | 1.2MB 21.6MB/s eta 0:00:01\r\u001b[K     |███████████████████▎            | 1.2MB 21.6MB/s eta 0:00:01\r\u001b[K     |███████████████████▍            | 1.2MB 21.6MB/s eta 0:00:01\r\u001b[K     |███████████████████▋            | 1.2MB 21.6MB/s eta 0:00:01\r\u001b[K     |███████████████████▊            | 1.2MB 21.6MB/s eta 0:00:01\r\u001b[K     |████████████████████            | 1.2MB 21.6MB/s eta 0:00:01\r\u001b[K     |████████████████████            | 1.2MB 21.6MB/s eta 0:00:01\r\u001b[K     |████████████████████▎           | 1.2MB 21.6MB/s eta 0:00:01\r\u001b[K     |████████████████████▍           | 1.3MB 21.6MB/s eta 0:00:01\r\u001b[K     |████████████████████▋           | 1.3MB 21.6MB/s eta 0:00:01\r\u001b[K     |████████████████████▊           | 1.3MB 21.6MB/s eta 0:00:01\r\u001b[K     |█████████████████████           | 1.3MB 21.6MB/s eta 0:00:01\r\u001b[K     |█████████████████████           | 1.3MB 21.6MB/s eta 0:00:01\r\u001b[K     |█████████████████████▎          | 1.3MB 21.6MB/s eta 0:00:01\r\u001b[K     |█████████████████████▍          | 1.3MB 21.6MB/s eta 0:00:01\r\u001b[K     |█████████████████████▋          | 1.3MB 21.6MB/s eta 0:00:01\r\u001b[K     |█████████████████████▊          | 1.3MB 21.6MB/s eta 0:00:01\r\u001b[K     |██████████████████████          | 1.4MB 21.6MB/s eta 0:00:01\r\u001b[K     |██████████████████████          | 1.4MB 21.6MB/s eta 0:00:01\r\u001b[K     |██████████████████████▎         | 1.4MB 21.6MB/s eta 0:00:01\r\u001b[K     |██████████████████████▍         | 1.4MB 21.6MB/s eta 0:00:01\r\u001b[K     |██████████████████████▋         | 1.4MB 21.6MB/s eta 0:00:01\r\u001b[K     |██████████████████████▊         | 1.4MB 21.6MB/s eta 0:00:01\r\u001b[K     |███████████████████████         | 1.4MB 21.6MB/s eta 0:00:01\r\u001b[K     |███████████████████████         | 1.4MB 21.6MB/s eta 0:00:01\r\u001b[K     |███████████████████████▎        | 1.4MB 21.6MB/s eta 0:00:01\r\u001b[K     |███████████████████████▍        | 1.4MB 21.6MB/s eta 0:00:01\r\u001b[K     |███████████████████████▋        | 1.5MB 21.6MB/s eta 0:00:01\r\u001b[K     |███████████████████████▊        | 1.5MB 21.6MB/s eta 0:00:01\r\u001b[K     |████████████████████████        | 1.5MB 21.6MB/s eta 0:00:01\r\u001b[K     |████████████████████████        | 1.5MB 21.6MB/s eta 0:00:01\r\u001b[K     |████████████████████████▎       | 1.5MB 21.6MB/s eta 0:00:01\r\u001b[K     |████████████████████████▍       | 1.5MB 21.6MB/s eta 0:00:01\r\u001b[K     |████████████████████████▋       | 1.5MB 21.6MB/s eta 0:00:01\r\u001b[K     |████████████████████████▊       | 1.5MB 21.6MB/s eta 0:00:01\r\u001b[K     |█████████████████████████       | 1.5MB 21.6MB/s eta 0:00:01\r\u001b[K     |█████████████████████████       | 1.5MB 21.6MB/s eta 0:00:01\r\u001b[K     |█████████████████████████▎      | 1.6MB 21.6MB/s eta 0:00:01\r\u001b[K     |█████████████████████████▍      | 1.6MB 21.6MB/s eta 0:00:01\r\u001b[K     |█████████████████████████▋      | 1.6MB 21.6MB/s eta 0:00:01\r\u001b[K     |█████████████████████████▊      | 1.6MB 21.6MB/s eta 0:00:01\r\u001b[K     |██████████████████████████      | 1.6MB 21.6MB/s eta 0:00:01\r\u001b[K     |██████████████████████████      | 1.6MB 21.6MB/s eta 0:00:01\r\u001b[K     |██████████████████████████▎     | 1.6MB 21.6MB/s eta 0:00:01\r\u001b[K     |██████████████████████████▍     | 1.6MB 21.6MB/s eta 0:00:01\r\u001b[K     |██████████████████████████▋     | 1.6MB 21.6MB/s eta 0:00:01\r\u001b[K     |██████████████████████████▊     | 1.6MB 21.6MB/s eta 0:00:01\r\u001b[K     |███████████████████████████     | 1.7MB 21.6MB/s eta 0:00:01\r\u001b[K     |███████████████████████████     | 1.7MB 21.6MB/s eta 0:00:01\r\u001b[K     |███████████████████████████▎    | 1.7MB 21.6MB/s eta 0:00:01\r\u001b[K     |███████████████████████████▍    | 1.7MB 21.6MB/s eta 0:00:01\r\u001b[K     |███████████████████████████▋    | 1.7MB 21.6MB/s eta 0:00:01\r\u001b[K     |███████████████████████████▊    | 1.7MB 21.6MB/s eta 0:00:01\r\u001b[K     |████████████████████████████    | 1.7MB 21.6MB/s eta 0:00:01\r\u001b[K     |████████████████████████████    | 1.7MB 21.6MB/s eta 0:00:01\r\u001b[K     |████████████████████████████▎   | 1.7MB 21.6MB/s eta 0:00:01\r\u001b[K     |████████████████████████████▍   | 1.8MB 21.6MB/s eta 0:00:01\r\u001b[K     |████████████████████████████▋   | 1.8MB 21.6MB/s eta 0:00:01\r\u001b[K     |████████████████████████████▊   | 1.8MB 21.6MB/s eta 0:00:01\r\u001b[K     |█████████████████████████████   | 1.8MB 21.6MB/s eta 0:00:01\r\u001b[K     |█████████████████████████████   | 1.8MB 21.6MB/s eta 0:00:01\r\u001b[K     |█████████████████████████████▎  | 1.8MB 21.6MB/s eta 0:00:01\r\u001b[K     |█████████████████████████████▍  | 1.8MB 21.6MB/s eta 0:00:01\r\u001b[K     |█████████████████████████████▌  | 1.8MB 21.6MB/s eta 0:00:01\r\u001b[K     |█████████████████████████████▊  | 1.8MB 21.6MB/s eta 0:00:01\r\u001b[K     |█████████████████████████████▉  | 1.8MB 21.6MB/s eta 0:00:01\r\u001b[K     |██████████████████████████████  | 1.9MB 21.6MB/s eta 0:00:01\r\u001b[K     |██████████████████████████████▏ | 1.9MB 21.6MB/s eta 0:00:01\r\u001b[K     |██████████████████████████████▍ | 1.9MB 21.6MB/s eta 0:00:01\r\u001b[K     |██████████████████████████████▌ | 1.9MB 21.6MB/s eta 0:00:01\r\u001b[K     |██████████████████████████████▊ | 1.9MB 21.6MB/s eta 0:00:01\r\u001b[K     |██████████████████████████████▉ | 1.9MB 21.6MB/s eta 0:00:01\r\u001b[K     |███████████████████████████████ | 1.9MB 21.6MB/s eta 0:00:01\r\u001b[K     |███████████████████████████████▏| 1.9MB 21.6MB/s eta 0:00:01\r\u001b[K     |███████████████████████████████▍| 1.9MB 21.6MB/s eta 0:00:01\r\u001b[K     |███████████████████████████████▌| 1.9MB 21.6MB/s eta 0:00:01\r\u001b[K     |███████████████████████████████▊| 2.0MB 21.6MB/s eta 0:00:01\r\u001b[K     |███████████████████████████████▉| 2.0MB 21.6MB/s eta 0:00:01\r\u001b[K     |████████████████████████████████| 2.0MB 21.6MB/s \n",
            "\u001b[?25hRequirement already satisfied: tqdm>=4.27 in /usr/local/lib/python3.7/dist-packages (from transformers) (4.41.1)\n",
            "Requirement already satisfied: importlib-metadata; python_version < \"3.8\" in /usr/local/lib/python3.7/dist-packages (from transformers) (3.7.2)\n",
            "Collecting tokenizers<0.11,>=0.10.1\n",
            "\u001b[?25l  Downloading https://files.pythonhosted.org/packages/71/23/2ddc317b2121117bf34dd00f5b0de194158f2a44ee2bf5e47c7166878a97/tokenizers-0.10.1-cp37-cp37m-manylinux2010_x86_64.whl (3.2MB)\n",
            "\u001b[K     |████████████████████████████████| 3.2MB 52.6MB/s \n",
            "\u001b[?25hRequirement already satisfied: packaging in /usr/local/lib/python3.7/dist-packages (from transformers) (20.9)\n",
            "Requirement already satisfied: filelock in /usr/local/lib/python3.7/dist-packages (from transformers) (3.0.12)\n",
            "Requirement already satisfied: numpy>=1.17 in /usr/local/lib/python3.7/dist-packages (from transformers) (1.19.5)\n",
            "Requirement already satisfied: regex!=2019.12.17 in /usr/local/lib/python3.7/dist-packages (from transformers) (2019.12.20)\n",
            "Requirement already satisfied: requests in /usr/local/lib/python3.7/dist-packages (from transformers) (2.23.0)\n",
            "Collecting sacremoses\n",
            "\u001b[?25l  Downloading https://files.pythonhosted.org/packages/7d/34/09d19aff26edcc8eb2a01bed8e98f13a1537005d31e95233fd48216eed10/sacremoses-0.0.43.tar.gz (883kB)\n",
            "\u001b[K     |████████████████████████████████| 890kB 51.4MB/s \n",
            "\u001b[?25hRequirement already satisfied: zipp>=0.5 in /usr/local/lib/python3.7/dist-packages (from importlib-metadata; python_version < \"3.8\"->transformers) (3.4.1)\n",
            "Requirement already satisfied: typing-extensions>=3.6.4; python_version < \"3.8\" in /usr/local/lib/python3.7/dist-packages (from importlib-metadata; python_version < \"3.8\"->transformers) (3.7.4.3)\n",
            "Requirement already satisfied: pyparsing>=2.0.2 in /usr/local/lib/python3.7/dist-packages (from packaging->transformers) (2.4.7)\n",
            "Requirement already satisfied: chardet<4,>=3.0.2 in /usr/local/lib/python3.7/dist-packages (from requests->transformers) (3.0.4)\n",
            "Requirement already satisfied: urllib3!=1.25.0,!=1.25.1,<1.26,>=1.21.1 in /usr/local/lib/python3.7/dist-packages (from requests->transformers) (1.24.3)\n",
            "Requirement already satisfied: idna<3,>=2.5 in /usr/local/lib/python3.7/dist-packages (from requests->transformers) (2.10)\n",
            "Requirement already satisfied: certifi>=2017.4.17 in /usr/local/lib/python3.7/dist-packages (from requests->transformers) (2020.12.5)\n",
            "Requirement already satisfied: six in /usr/local/lib/python3.7/dist-packages (from sacremoses->transformers) (1.15.0)\n",
            "Requirement already satisfied: click in /usr/local/lib/python3.7/dist-packages (from sacremoses->transformers) (7.1.2)\n",
            "Requirement already satisfied: joblib in /usr/local/lib/python3.7/dist-packages (from sacremoses->transformers) (1.0.1)\n",
            "Building wheels for collected packages: sacremoses\n",
            "  Building wheel for sacremoses (setup.py) ... \u001b[?25l\u001b[?25hdone\n",
            "  Created wheel for sacremoses: filename=sacremoses-0.0.43-cp37-none-any.whl size=893262 sha256=0e65383487888f830e132e1895bfa9b669e2d770616e61fc4410a43a79bbe26b\n",
            "  Stored in directory: /root/.cache/pip/wheels/29/3c/fd/7ce5c3f0666dab31a50123635e6fb5e19ceb42ce38d4e58f45\n",
            "Successfully built sacremoses\n",
            "Installing collected packages: tokenizers, sacremoses, transformers\n",
            "Successfully installed sacremoses-0.0.43 tokenizers-0.10.1 transformers-4.4.2\n"
          ],
          "name": "stdout"
        }
      ]
    },
    {
      "cell_type": "code",
      "metadata": {
        "colab": {
          "base_uri": "https://localhost:8080/",
          "height": 36
        },
        "id": "4N2UE_Lk8EE1",
        "outputId": "d0779653-3dfe-4cdf-d89f-712900da5f1d"
      },
      "source": [
        "import os\n",
        "import re\n",
        "import numpy as np \n",
        "from sklearn.metrics import accuracy_score\n",
        "\n",
        "import transformers\n",
        "from transformers import BertTokenizer, BertModel\n",
        "\n",
        "import torch\n",
        "from torch import cuda\n",
        "from tqdm import tqdm_notebook as tqdm\n",
        "device = 'cuda' if cuda.is_available() else 'cpu'\n",
        "\n",
        "device"
      ],
      "execution_count": null,
      "outputs": [
        {
          "output_type": "execute_result",
          "data": {
            "application/vnd.google.colaboratory.intrinsic+json": {
              "type": "string"
            },
            "text/plain": [
              "'cuda'"
            ]
          },
          "metadata": {
            "tags": []
          },
          "execution_count": 6
        }
      ]
    },
    {
      "cell_type": "code",
      "metadata": {
        "id": "lZ2uW2o-EY37"
      },
      "source": [
        "# import tensorflow as tf\n",
        "# # sess = tf.InteractiveSession()\n",
        "# sess=tf.compat.v1.InteractiveSession()"
      ],
      "execution_count": null,
      "outputs": []
    },
    {
      "cell_type": "markdown",
      "metadata": {
        "id": "_F41aHTY8EE6"
      },
      "source": [
        "- use X.txt and YL1.txt "
      ]
    },
    {
      "cell_type": "code",
      "metadata": {
        "colab": {
          "base_uri": "https://localhost:8080/"
        },
        "id": "4m8DxAS-8EE7",
        "outputId": "025d04f6-fa6f-42cd-ba0a-b91dcf782591"
      },
      "source": [
        "X = [line.strip() for line in open('X.txt').readlines()]\n",
        "y = train_data = [int(line.strip()) for line in open('YL1.txt').readlines()]\n",
        "\n",
        "len(X), len(y), max(y)"
      ],
      "execution_count": null,
      "outputs": [
        {
          "output_type": "execute_result",
          "data": {
            "text/plain": [
              "(46985, 46985, 6)"
            ]
          },
          "metadata": {
            "tags": []
          },
          "execution_count": 9
        }
      ]
    },
    {
      "cell_type": "code",
      "metadata": {
        "colab": {
          "base_uri": "https://localhost:8080/"
        },
        "id": "r8CwU1pO5H2J",
        "outputId": "27cd0f91-6f76-4a2a-f8a4-bacaee435eb7"
      },
      "source": [
        "type(y)\n",
        "y[1]"
      ],
      "execution_count": null,
      "outputs": [
        {
          "output_type": "execute_result",
          "data": {
            "text/plain": [
              "5"
            ]
          },
          "metadata": {
            "tags": []
          },
          "execution_count": 33
        }
      ]
    },
    {
      "cell_type": "markdown",
      "metadata": {
        "id": "NJBbw3rq8EE8"
      },
      "source": [
        "### An easy train/test split"
      ]
    },
    {
      "cell_type": "code",
      "metadata": {
        "colab": {
          "base_uri": "https://localhost:8080/"
        },
        "id": "rPuc_Suk8EE9",
        "outputId": "1e129ade-b806-446b-c5ce-236c7e647a20"
      },
      "source": [
        "train_X = X[:46000]\n",
        "train_y = np.array(y[:46000])\n",
        "test_X = X[46000:]\n",
        "test_y = np.array(y[46000:])\n",
        "\n",
        "len(train_X), len(train_y), len(test_X), len(test_y)"
      ],
      "execution_count": null,
      "outputs": [
        {
          "output_type": "execute_result",
          "data": {
            "text/plain": [
              "(46000, 46000, 985, 985)"
            ]
          },
          "metadata": {
            "tags": []
          },
          "execution_count": 10
        }
      ]
    },
    {
      "cell_type": "code",
      "metadata": {
        "colab": {
          "base_uri": "https://localhost:8080/"
        },
        "id": "AtW0TNSb8EE_",
        "outputId": "b7b5f77d-feb5-4f3c-bdf5-ae495bc172fb"
      },
      "source": [
        "# not needed for training or evaluation, but useful for mapping examples\n",
        "labels = {\n",
        "    0:'Computer Science',\n",
        "    1:'Electrical Engineering',\n",
        "    2:'Psychology',\n",
        "    3:'Mechanical Engineering',\n",
        "    4:'Civil Engineering',\n",
        "    5:'Medical Science',\n",
        "    6:'Biochemistry'\n",
        "}\n",
        "\n",
        "len(labels)"
      ],
      "execution_count": null,
      "outputs": [
        {
          "output_type": "execute_result",
          "data": {
            "text/plain": [
              "7"
            ]
          },
          "metadata": {
            "tags": []
          },
          "execution_count": 34
        }
      ]
    },
    {
      "cell_type": "markdown",
      "metadata": {
        "id": "dWV_KsrU8EFA"
      },
      "source": [
        "### Fine-tune BERT on the dataset"
      ]
    },
    {
      "cell_type": "code",
      "metadata": {
        "id": "FCbOBVjK8EFB"
      },
      "source": [
        ""
      ],
      "execution_count": null,
      "outputs": []
    },
    {
      "cell_type": "markdown",
      "metadata": {
        "id": "VTukHnFa9S13"
      },
      "source": [
        "## Torch Datasets\n",
        "- takes in inputs and outputs/labels\n",
        "- interfaces with tokenizer\n",
        "- handles batching"
      ]
    },
    {
      "cell_type": "code",
      "metadata": {
        "id": "kvGzbcD29U2j"
      },
      "source": [
        "class MultiLabelDataset(torch.utils.data.Dataset):\n",
        "\n",
        "    def __init__(self, text, labels, tokenizer, max_len):\n",
        "        self.tokenizer = tokenizer\n",
        "        self.text = text\n",
        "        self.targets = labels\n",
        "        self.max_len = max_len\n",
        "\n",
        "    def __len__(self):\n",
        "        return len(self.text)\n",
        "\n",
        "    def __getitem__(self, index):\n",
        "        text = self.text[index]\n",
        "        inputs = self.tokenizer.encode_plus(\n",
        "            text,\n",
        "            None,\n",
        "            add_special_tokens=True,\n",
        "            max_length=self.max_len,\n",
        "            pad_to_max_length=True,\n",
        "            truncation=True,\n",
        "            return_token_type_ids=True\n",
        "        )\n",
        "        ids = inputs['input_ids']\n",
        "        mask = inputs['attention_mask']\n",
        "        token_type_ids = inputs[\"token_type_ids\"]\n",
        "\n",
        "\n",
        "        return {\n",
        "            'ids': torch.tensor(ids, dtype=torch.long),\n",
        "            'mask': torch.tensor(mask, dtype=torch.long),\n",
        "            'token_type_ids': torch.tensor(token_type_ids, dtype=torch.long),\n",
        "            'targets': torch.tensor(self.targets[index], dtype=torch.float)\n",
        "        }"
      ],
      "execution_count": null,
      "outputs": []
    },
    {
      "cell_type": "markdown",
      "metadata": {
        "id": "P9YBh5369XOc"
      },
      "source": [
        "## Bert Class\n",
        "- first \"layer\" is a pre-trained BERT model\n",
        "- you can add whatever layers you want after that"
      ]
    },
    {
      "cell_type": "code",
      "metadata": {
        "id": "_8oMnqe4-guL"
      },
      "source": [
        "class BERTClass(torch.nn.Module):\n",
        "    def __init__(self, NUM_OUT):\n",
        "        super(BERTClass, self).__init__()\n",
        "                   \n",
        "        self.l1 = BertModel.from_pretrained(\"bert-base-uncased\")\n",
        "#         self.pre_classifier = torch.nn.Linear(768, 256)\n",
        "        self.classifier = torch.nn.Linear(768, NUM_OUT)\n",
        "#         self.dropout = torch.nn.Dropout(0.5)\n",
        "        self.softmax = torch.nn.Softmax(dim=1)\n",
        "\n",
        "    def forward(self, input_ids, attention_mask, token_type_ids):\n",
        "        output_1 = self.l1(input_ids=input_ids, attention_mask=attention_mask)\n",
        "        hidden_state = output_1[0]\n",
        "        pooler = hidden_state[:, 0]\n",
        "#         pooler = self.pre_classifier(pooler)\n",
        "#         pooler = torch.nn.Tanh()(pooler)\n",
        "#         pooler = self.dropout(pooler)\n",
        "        output = self.classifier(pooler)\n",
        "        output = self.softmax(output)\n",
        "        return output"
      ],
      "execution_count": null,
      "outputs": []
    },
    {
      "cell_type": "markdown",
      "metadata": {
        "id": "wvUYkKLF-h_T"
      },
      "source": [
        "### Helpful Functions\n",
        "\n",
        "Loss\n",
        "\n",
        "- This task is binary, so it uses binary crossentropy loss\n",
        "- Tasks with more labels will use categorical crossentropy\n",
        "- Tasks that don't have labels, but rather have distributions should use KL divergence\n",
        "- Tasks that don't have distributions should use something like RMSE loss\n",
        "\n",
        "Train\n",
        "\n",
        "- Steps through the data batch by batch\n",
        "- grabs ids, masks, and token_type_ids which are required inputs for BERT\n",
        "- inputs are passed through the model, compared to targets, computes loss function, backprops\n",
        "\n",
        "Validation\n",
        "\n",
        "- Takes a model, passes inputs\n",
        "- Need to use the targets from here because they are potentially shuffled!"
      ]
    },
    {
      "cell_type": "code",
      "metadata": {
        "id": "9defvB-G-l5x"
      },
      "source": [
        "def loss_fn(outputs, targets):\n",
        "    return torch.nn.CrossEntropyLoss()(outputs, targets)\n",
        "\n",
        "def train(model, training_loader, optimizer):\n",
        "    model.train()\n",
        "    for data in tqdm(training_loader):\n",
        "        ids = data['ids'].to(device, dtype = torch.long)\n",
        "        mask = data['mask'].to(device, dtype = torch.long)\n",
        "        token_type_ids = data['token_type_ids'].to(device, dtype = torch.long)\n",
        "        targets = data['targets'].to(device, dtype = torch.long)  ### changed \n",
        "\n",
        "        outputs = model(ids, mask, token_type_ids)\n",
        "\n",
        "        optimizer.zero_grad()\n",
        "        loss = loss_fn(outputs, targets)\n",
        "\n",
        "        optimizer.zero_grad()\n",
        "        loss.backward()\n",
        "        optimizer.step()\n",
        "    return loss\n",
        "    \n",
        "def validation(model, testing_loader):\n",
        "    model.eval()\n",
        "    fin_targets=[]\n",
        "    fin_outputs=[]\n",
        "    with torch.no_grad():\n",
        "        for data in tqdm(testing_loader):\n",
        "            targets = data['targets']\n",
        "            ids = data['ids'].to(device, dtype = torch.long)\n",
        "            mask = data['mask'].to(device, dtype = torch.long)\n",
        "            token_type_ids = data['token_type_ids'].to(device, dtype = torch.long)\n",
        "            outputs = model(ids, mask, token_type_ids)\n",
        "            outputs = torch.sigmoid(outputs).cpu().detach()\n",
        "            fin_outputs.extend(outputs)\n",
        "            fin_targets.extend(targets)\n",
        "    return torch.stack(fin_outputs), torch.stack(fin_targets)"
      ],
      "execution_count": null,
      "outputs": []
    },
    {
      "cell_type": "markdown",
      "metadata": {
        "id": "RNMgCQcB-oNg"
      },
      "source": [
        "### The Tokenizer\n",
        "\n",
        "- Converts a raw string to the ids, masks, and token_type_ids"
      ]
    },
    {
      "cell_type": "code",
      "metadata": {
        "id": "92vWxmmQ-r4N"
      },
      "source": [
        "# train_data\n",
        "# train_X\n",
        "# jupyter notebook --NotebookApp.iopub_data_rate_limit=1.0e10"
      ],
      "execution_count": null,
      "outputs": []
    },
    {
      "cell_type": "code",
      "metadata": {
        "id": "xSupd4-U-tCv"
      },
      "source": [
        "tokenizer = BertTokenizer.from_pretrained('bert-base-uncased')\n",
        "\n",
        "# what does the tokenizer do?\n",
        "# print(train_X)\n",
        "\n",
        "# tokenizer.encode_plus(\n",
        "#             train_X,\n",
        "#             None,\n",
        "#             add_special_tokens=True,\n",
        "#             max_length=128,\n",
        "#             pad_to_max_length=True,\n",
        "#             truncation=True,\n",
        "#             return_token_type_ids=True\n",
        "#         )"
      ],
      "execution_count": null,
      "outputs": []
    },
    {
      "cell_type": "markdown",
      "metadata": {
        "id": "RZoLfVDK-wn5"
      },
      "source": [
        "### Training setup\n",
        "\n",
        "- hyperparameters\n",
        "- setup dataset\n",
        "- setup parameters\n",
        "- setup dataloader"
      ]
    },
    {
      "cell_type": "code",
      "metadata": {
        "id": "FPtCq71F-zdW"
      },
      "source": [
        "# test_X"
      ],
      "execution_count": null,
      "outputs": []
    },
    {
      "cell_type": "code",
      "metadata": {
        "id": "VRLD4l46-2cW"
      },
      "source": [
        "MAX_LEN = 128\n",
        "BATCH_SIZE = 64\n",
        "EPOCHS = 3\n",
        "NUM_OUT = 7 # binary task\n",
        "LEARNING_RATE = 2e-05\n",
        "\n",
        "training_data = MultiLabelDataset(train_X, torch.from_numpy(train_y), tokenizer, MAX_LEN)\n",
        "test_data = MultiLabelDataset(test_X, torch.from_numpy(test_y), tokenizer, MAX_LEN)\n",
        "\n",
        "train_params = {'batch_size': BATCH_SIZE,\n",
        "                'shuffle': True,\n",
        "                'num_workers': 0\n",
        "                }\n",
        "\n",
        "test_params = {'batch_size': BATCH_SIZE,\n",
        "                'shuffle': True,\n",
        "                'num_workers': 0\n",
        "                }    \n",
        "\n",
        "training_loader = torch.utils.data.DataLoader(training_data, **train_params)\n",
        "testing_loader = torch.utils.data.DataLoader(test_data, **test_params)"
      ],
      "execution_count": null,
      "outputs": []
    },
    {
      "cell_type": "markdown",
      "metadata": {
        "id": "xikQgbZ9-1bF"
      },
      "source": [
        "### Train,  Evaluate\n",
        "\n",
        "- model.to -> send to GPU, if available (anything computed should be put onto the GPU)\n",
        "- setup optimizer - could use Stochastic Gradient Descent, but ADAM tends to work better\n",
        "- for each epoch, train, show the loss, evaluate on the test data"
      ]
    },
    {
      "cell_type": "code",
      "metadata": {
        "colab": {
          "base_uri": "https://localhost:8080/",
          "height": 584,
          "referenced_widgets": [
            "33c6d00726994a4c9f3e469fadf3f812",
            "eafe1eaf396d41c09f57ccbf5516ba2a",
            "eb028b138da24c25a46c7ba7b26d6a8f",
            "69b53dba6d1b4ea58f22e27c2a6e0598",
            "9d32a0a4be5a464180e0a2a03a3af798",
            "9b23a6c648f745a2a3eecdaf5ef64df9",
            "cf77ddac30ee478181b0d9f0099f01c5",
            "b87e5e8455e3481ab2d45961fd73f2a0",
            "81a93f9845cb46c2b4d34a72847dc07a",
            "ad8aa9f0a1f3461285bc3dd15c11cbab",
            "71bce40f0b6842cab86fa9460534f1a8",
            "e1c6ffa2a59b44c1baff73637baa226a",
            "58493a97517b471c8519d615e3922000",
            "ebc3d4eaec774d72b79282e146421808",
            "6a7f14ace50e4f1caf3c64e1c314d5bb",
            "d05a8c5233704534af390220131634b1",
            "48c84634c455414dafa94193ccc10e7b",
            "060a92fdda3e4c979cffacc59457943c",
            "fa85b4a7ba1349e48f0182cf1b656a62",
            "a2563aea66d64baab8fdea545ae545f1",
            "34e2a02e12954ebebd50524bf1795d16",
            "69305a6e7df5484997f77096a90d9ed7",
            "7851ea5b2d374390bee39f81174d4457",
            "329591cd448a4798a7e72290a1bf48cb",
            "b012ad6469e14e0e83d4320230cea8bd",
            "d7e883e253ce4070b639d6e1e7ccd473",
            "25c08e6bfb1e478380d7ea14a1e9abe4",
            "6f619ae2ac0e4f1c91bbfbd527341411",
            "0d4dabec73f74a04acac87b33ca61895",
            "f236fc2acf734d3abb1a47229b392343",
            "c02e9a6c1bb64c06bbd98a25434fa897",
            "792e0532572d45e197ac4b02478faab9",
            "036f8e3fef104dc2adbdc30b8c494506",
            "a51295bb896b4ccd972d542ab639eb09",
            "7cbdfc2934d64bdb8b13bbdd2e8cdfbc",
            "2908660c074f47bf937fb845041f4a47",
            "57c10cb1f59e4cfc8d35fd15b100532c",
            "f7347398e7c1444f89bb8b9a4e820af9",
            "2aeb3b2fe97c4184af28f066f253ad2d",
            "c510801441b0410da3c2f3baaecf726d",
            "9fa141a91ac847f19820afb691db7ff3",
            "82901b02991e4f01b0163fabe2fc418d",
            "182a2b4c76ac45949b43f76f9bb8ac04",
            "91c57a8473b84215b4efd9fd842273e2",
            "8ecbd6aa8eba45a6b779705b3a98088f",
            "d867cb5267474ca291234781121d2002",
            "8ddcb92004624dff97efda1f2334d5e2",
            "20c334a9f7bf4d6ab138b4242b888769"
          ]
        },
        "id": "c2M3qR-f--oC",
        "outputId": "89f0ffc7-0ea6-4933-f7e8-eff09cc4d60b"
      },
      "source": [
        "model = BERTClass(NUM_OUT)\n",
        "model.to(device)    \n",
        "\n",
        "optimizer = torch.optim.Adam(params =  model.parameters(), lr=LEARNING_RATE)\n",
        "\n",
        "\n",
        "\n",
        "for epoch in range(EPOCHS):\n",
        "    loss = train(model, training_loader, optimizer)\n",
        "    print(f'Epoch: {epoch}, Loss:  {loss.item()}')  \n",
        "    guess, targs = validation(model, testing_loader)\n",
        "    guess_list = guess.tolist()\n",
        "    targs_list = targs.tolist()\n",
        "\n",
        "    final_guess = []\n",
        "\n",
        "    for a_list in guess_list:\n",
        "      maxpos = a_list.index(max(a_list))\n",
        "      final_guess.append(maxpos)\n",
        "    print('accurracy on test set {}'.format(accuracy_score(final_guess, targs_list)))\n"
      ],
      "execution_count": null,
      "outputs": [
        {
          "output_type": "stream",
          "text": [
            "/usr/local/lib/python3.7/dist-packages/ipykernel_launcher.py:6: TqdmDeprecationWarning: This function will be removed in tqdm==5.0.0\n",
            "Please use `tqdm.notebook.tqdm` instead of `tqdm.tqdm_notebook`\n",
            "  \n"
          ],
          "name": "stderr"
        },
        {
          "output_type": "display_data",
          "data": {
            "application/vnd.jupyter.widget-view+json": {
              "model_id": "33c6d00726994a4c9f3e469fadf3f812",
              "version_minor": 0,
              "version_major": 2
            },
            "text/plain": [
              "HBox(children=(FloatProgress(value=0.0, max=719.0), HTML(value='')))"
            ]
          },
          "metadata": {
            "tags": []
          }
        },
        {
          "output_type": "stream",
          "text": [
            "/usr/local/lib/python3.7/dist-packages/transformers/tokenization_utils_base.py:2074: FutureWarning: The `pad_to_max_length` argument is deprecated and will be removed in a future version, use `padding=True` or `padding='longest'` to pad to the longest sequence in the batch, or use `padding='max_length'` to pad to a max length. In this case, you can give a specific length with `max_length` (e.g. `max_length=45`) or leave max_length to None to pad to the maximal input size of the model (e.g. 512 for Bert).\n",
            "  FutureWarning,\n",
            "/usr/local/lib/python3.7/dist-packages/ipykernel_launcher.py:32: UserWarning: To copy construct from a tensor, it is recommended to use sourceTensor.clone().detach() or sourceTensor.clone().detach().requires_grad_(True), rather than torch.tensor(sourceTensor).\n"
          ],
          "name": "stderr"
        },
        {
          "output_type": "stream",
          "text": [
            "\n",
            "Epoch: 0, Loss:  1.3117804527282715\n"
          ],
          "name": "stdout"
        },
        {
          "output_type": "stream",
          "text": [
            "/usr/local/lib/python3.7/dist-packages/ipykernel_launcher.py:27: TqdmDeprecationWarning: This function will be removed in tqdm==5.0.0\n",
            "Please use `tqdm.notebook.tqdm` instead of `tqdm.tqdm_notebook`\n"
          ],
          "name": "stderr"
        },
        {
          "output_type": "display_data",
          "data": {
            "application/vnd.jupyter.widget-view+json": {
              "model_id": "81a93f9845cb46c2b4d34a72847dc07a",
              "version_minor": 0,
              "version_major": 2
            },
            "text/plain": [
              "HBox(children=(FloatProgress(value=0.0, max=16.0), HTML(value='')))"
            ]
          },
          "metadata": {
            "tags": []
          }
        },
        {
          "output_type": "stream",
          "text": [
            "\n",
            "accurracy on test set 0.798984771573604\n"
          ],
          "name": "stdout"
        },
        {
          "output_type": "display_data",
          "data": {
            "application/vnd.jupyter.widget-view+json": {
              "model_id": "48c84634c455414dafa94193ccc10e7b",
              "version_minor": 0,
              "version_major": 2
            },
            "text/plain": [
              "HBox(children=(FloatProgress(value=0.0, max=719.0), HTML(value='')))"
            ]
          },
          "metadata": {
            "tags": []
          }
        },
        {
          "output_type": "stream",
          "text": [
            "\n",
            "Epoch: 1, Loss:  1.3079255819320679\n"
          ],
          "name": "stdout"
        },
        {
          "output_type": "display_data",
          "data": {
            "application/vnd.jupyter.widget-view+json": {
              "model_id": "b012ad6469e14e0e83d4320230cea8bd",
              "version_minor": 0,
              "version_major": 2
            },
            "text/plain": [
              "HBox(children=(FloatProgress(value=0.0, max=16.0), HTML(value='')))"
            ]
          },
          "metadata": {
            "tags": []
          }
        },
        {
          "output_type": "stream",
          "text": [
            "\n",
            "accurracy on test set 0.8182741116751269\n"
          ],
          "name": "stdout"
        },
        {
          "output_type": "display_data",
          "data": {
            "application/vnd.jupyter.widget-view+json": {
              "model_id": "036f8e3fef104dc2adbdc30b8c494506",
              "version_minor": 0,
              "version_major": 2
            },
            "text/plain": [
              "HBox(children=(FloatProgress(value=0.0, max=719.0), HTML(value='')))"
            ]
          },
          "metadata": {
            "tags": []
          }
        },
        {
          "output_type": "stream",
          "text": [
            "\n",
            "Epoch: 2, Loss:  1.3097169399261475\n"
          ],
          "name": "stdout"
        },
        {
          "output_type": "display_data",
          "data": {
            "application/vnd.jupyter.widget-view+json": {
              "model_id": "9fa141a91ac847f19820afb691db7ff3",
              "version_minor": 0,
              "version_major": 2
            },
            "text/plain": [
              "HBox(children=(FloatProgress(value=0.0, max=16.0), HTML(value='')))"
            ]
          },
          "metadata": {
            "tags": []
          }
        },
        {
          "output_type": "stream",
          "text": [
            "\n",
            "accurracy on test set 0.8263959390862944\n"
          ],
          "name": "stdout"
        }
      ]
    }
  ]
}